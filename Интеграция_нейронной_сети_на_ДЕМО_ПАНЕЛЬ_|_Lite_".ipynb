{
  "nbformat": 4,
  "nbformat_minor": 0,
  "metadata": {
    "colab": {
      "provenance": [],
      "include_colab_link": true
    },
    "kernelspec": {
      "name": "python3",
      "display_name": "Python 3"
    },
    "language_info": {
      "name": "python"
    },
    "gpuClass": "standard"
  },
  "cells": [
    {
      "cell_type": "markdown",
      "metadata": {
        "id": "view-in-github",
        "colab_type": "text"
      },
      "source": [
        "<a href=\"https://colab.research.google.com/github/Igorvl/Projects/blob/master/%D0%98%D0%BD%D1%82%D0%B5%D0%B3%D1%80%D0%B0%D1%86%D0%B8%D1%8F_%D0%BD%D0%B5%D0%B9%D1%80%D0%BE%D0%BD%D0%BD%D0%BE%D0%B9_%D1%81%D0%B5%D1%82%D0%B8_%D0%BD%D0%B0_%D0%94%D0%95%D0%9C%D0%9E_%D0%9F%D0%90%D0%9D%D0%95%D0%9B%D0%AC_%7C_Lite_%22.ipynb\" target=\"_parent\"><img src=\"https://colab.research.google.com/assets/colab-badge.svg\" alt=\"Open In Colab\"/></a>"
      ]
    },
    {
      "cell_type": "markdown",
      "metadata": {
        "id": "c6nTn8IaLGn_"
      },
      "source": [
        "Необходимо создать, обучить нейронную сеть и упаковать её в архив для загрузки на демо-панель:\n",
        "* создать нейронную сеть для распознавания цифр из MNIST\n",
        "* сохраните веса (модель)\n",
        "* подготовить запуск модели \"из коробки\"\n",
        "* подготовить архив с готовой нейронной сетью для загрузки в демо-панель\n"
      ]
    },
    {
      "cell_type": "code",
      "metadata": {
        "id": "3b4wMrfQKe2l"
      },
      "source": [
        "# Загружаем базу mnist\n",
        "from tensorflow.keras.datasets import mnist \n",
        "\n",
        "# Сеть прямого распространения\n",
        "from tensorflow.keras.models import Sequential \n",
        "\n",
        "# Базовые слои для счёрточных сетей\n",
        "from tensorflow.keras.layers import Dense, Conv2D, MaxPooling2D, Flatten, Dropout, BatchNormalization\n",
        "\n",
        "# оптимизаторы\n",
        "from tensorflow.keras.optimizers import Adam, Adadelta \n",
        "\n",
        "# Используем дял to_categoricall\n",
        "from tensorflow.keras import utils \n",
        "\n",
        "# Для отрисовки изображений\n",
        "from tensorflow.keras.preprocessing import image \n",
        "\n",
        "# Для загрузки своей картинки\n",
        "from google.colab import files \n",
        "\n",
        "# Библиотека работы с массивами\n",
        "import numpy as np \n",
        "\n",
        "# Для отрисовки графиков\n",
        "import matplotlib.pyplot as plt \n",
        "\n",
        "# Для отрисовки изображений\n",
        "from PIL import Image \n",
        "\n",
        "# Для генерации случайных чисел \n",
        "import random \n",
        "\n",
        "# Для округления\n",
        "import math \n",
        "\n",
        "#Для работы с файлами \n",
        "import os \n",
        "\n",
        "# подключем диск\n",
        "from google.colab import drive\n",
        "\n",
        "%matplotlib inline"
      ],
      "execution_count": null,
      "outputs": []
    },
    {
      "cell_type": "code",
      "metadata": {
        "id": "_Yi4Ziqhx-0A",
        "colab": {
          "base_uri": "https://localhost:8080/",
          "height": 56
        },
        "outputId": "07fc7910-1026-4f0d-b28c-48366e916f7b"
      },
      "source": [
        "import gdown\n",
        "\n",
        "gdown.download('https://storage.yandexcloud.net/aiueducation/Content/base/l6/0-9.zip', None, quiet=True)"
      ],
      "execution_count": null,
      "outputs": [
        {
          "output_type": "execute_result",
          "data": {
            "text/plain": [
              "'0-9.zip'"
            ],
            "application/vnd.google.colaboratory.intrinsic+json": {
              "type": "string"
            }
          },
          "metadata": {},
          "execution_count": 2
        }
      ]
    },
    {
      "cell_type": "markdown",
      "metadata": {
        "id": "7A0tdANyLCPs"
      },
      "source": [
        "## Распознавание изображений из набора данных MNIST \n"
      ]
    },
    {
      "cell_type": "markdown",
      "metadata": {
        "id": "a-cggImwMCQP"
      },
      "source": [
        "**Подготовка данных**\n"
      ]
    },
    {
      "cell_type": "code",
      "metadata": {
        "id": "_PT1LV_KMVto",
        "colab": {
          "base_uri": "https://localhost:8080/"
        },
        "outputId": "71639a1f-c68c-4d4a-d5e0-ecfcf7676d17"
      },
      "source": [
        "# Загружаем MNIST\n",
        "(x_train, y_train), (x_test, y_test) = mnist.load_data()"
      ],
      "execution_count": null,
      "outputs": [
        {
          "output_type": "stream",
          "name": "stdout",
          "text": [
            "Downloading data from https://storage.googleapis.com/tensorflow/tf-keras-datasets/mnist.npz\n",
            "11490434/11490434 [==============================] - 0s 0us/step\n"
          ]
        }
      ]
    },
    {
      "cell_type": "code",
      "metadata": {
        "id": "nft2zSCpVWYV",
        "colab": {
          "base_uri": "https://localhost:8080/"
        },
        "outputId": "c71faeb5-857f-408d-86df-387f1e8ca7c7"
      },
      "source": [
        "x_train.shape"
      ],
      "execution_count": null,
      "outputs": [
        {
          "output_type": "execute_result",
          "data": {
            "text/plain": [
              "(60000, 28, 28)"
            ]
          },
          "metadata": {},
          "execution_count": 4
        }
      ]
    },
    {
      "cell_type": "code",
      "metadata": {
        "id": "vNoGJvE_M3YW",
        "colab": {
          "base_uri": "https://localhost:8080/",
          "height": 106
        },
        "outputId": "a24e589c-5897-408d-f5fe-f697d2aa6409"
      },
      "source": [
        "# Выводим для примера картинки по каждому классу\n",
        "\n",
        "fig, axs = plt.subplots(1, 10, figsize=(25, 3)) # Создаем полотно из 10 графиков\n",
        "\n",
        "for i in range(10): # Проходим по классам от 0 до 9\n",
        "  label_indexes = np.where(y_train==i)[0] # Получаем список из индексов положений класса i в y_train\n",
        "  index = random.choice(label_indexes) # Случайным образом выбираем из списка индекс\n",
        "  img = x_train[index] # Выбираем из x_train нужное изображение\n",
        "  axs[i].imshow(Image.fromarray(img), cmap='gray') #Отображаем изображение i-ым графиков\n",
        "\n",
        "plt.show() # Показываем изображения"
      ],
      "execution_count": null,
      "outputs": [
        {
          "output_type": "display_data",
          "data": {
            "text/plain": [
              "<Figure size 1800x216 with 10 Axes>"
            ],
            "image/png": "[encoded data removed]"
          },
          "metadata": {
            "needs_background": "light"
          }
        }
      ]
    },
    {
      "cell_type": "code",
      "metadata": {
        "id": "ti92Kvp3NX61"
      },
      "source": [
        "# Превращаем y_train и y_test сетей в формат one hot encoding\n",
        "\n",
        "y_train = utils.to_categorical(y_train, 10)\n",
        "y_test = utils.to_categorical(y_test, 10)\n",
        "\n",
        "# Меняем формат данных MNIST\n",
        "# Надо добавить в конце размерность 1\n",
        "# Чтобы свёрточная сеть понимала, что это чёрно-белые данные\n",
        "\n",
        "x_train = x_train.reshape(x_train.shape[0], 28, 28, 1)\n",
        "x_test = x_test.reshape(x_test.shape[0], 28, 28, 1)"
      ],
      "execution_count": null,
      "outputs": []
    },
    {
      "cell_type": "code",
      "metadata": {
        "id": "tZwKJRB7dW3q",
        "colab": {
          "base_uri": "https://localhost:8080/"
        },
        "outputId": "d05720ed-670e-485b-bc33-c57bc6d72ac6"
      },
      "source": [
        "# Посмотрим форматы выборок перед обучением\n",
        "\n",
        "print(x_train.shape)\n",
        "print(x_test.shape)\n",
        "print(y_train.shape)\n",
        "print(y_test.shape)"
      ],
      "execution_count": null,
      "outputs": [
        {
          "output_type": "stream",
          "name": "stdout",
          "text": [
            "(60000, 28, 28, 1)\n",
            "(10000, 28, 28, 1)\n",
            "(60000, 10)\n",
            "(10000, 10)\n"
          ]
        }
      ]
    },
    {
      "cell_type": "markdown",
      "metadata": {
        "id": "P93UbJvKSEAX"
      },
      "source": [
        "**Нейронная сеть**"
      ]
    },
    {
      "cell_type": "code",
      "metadata": {
        "id": "5YioYV0CPY7B"
      },
      "source": [
        "# задаём batch_size\n",
        "batch_size = 128 \n",
        "\n",
        "# Создаем последовательную модель\n",
        "\n",
        "model = Sequential()\n",
        "\n",
        "model.add(BatchNormalization(input_shape=(28, 28, 1))) # Слой пакетной нормализации\n",
        "model.add(Conv2D(32, (3, 3), padding='same', activation='relu')) # Первый сверточный слой\n",
        "model.add(Conv2D(32, (3, 3), padding='same', activation='relu')) # Второй сверточный слой\n",
        "model.add(MaxPooling2D(pool_size=(2, 2))) # Первый слой подвыборки\n",
        "\n",
        "model.add(Dropout(0.25)) # Слой регуляризации Dropout\n",
        "model.add(Flatten())\n",
        "\n",
        "model.add(Dense(256, activation='relu')) # Полносвязный слой для классификации\n",
        "model.add(Dropout(0.25)) # Слой регуляризации Dropout\n",
        "model.add(Dense(10, activation='softmax')) # Выходной полносвязный слой\n",
        "\n",
        "# Компилируем сеть\n",
        "model.compile(loss=\"categorical_crossentropy\", optimizer=\"adam\", metrics=[\"accuracy\"])"
      ],
      "execution_count": null,
      "outputs": []
    },
    {
      "cell_type": "code",
      "metadata": {
        "id": "3DJfoivkXWpq",
        "colab": {
          "base_uri": "https://localhost:8080/"
        },
        "outputId": "c9847ca1-86d8-4db1-d511-001ea751f66e"
      },
      "source": [
        "model.summary()"
      ],
      "execution_count": null,
      "outputs": [
        {
          "output_type": "stream",
          "name": "stdout",
          "text": [
            "Model: \"sequential\"\n",
            "_________________________________________________________________\n",
            " Layer (type)                Output Shape              Param #   \n",
            "=================================================================\n",
            " batch_normalization (BatchN  (None, 28, 28, 1)        4         \n",
            " ormalization)                                                   \n",
            "                                                                 \n",
            " conv2d (Conv2D)             (None, 28, 28, 32)        320       \n",
            "                                                                 \n",
            " conv2d_1 (Conv2D)           (None, 28, 28, 32)        9248      \n",
            "                                                                 \n",
            " max_pooling2d (MaxPooling2D  (None, 14, 14, 32)       0         \n",
            " )                                                               \n",
            "                                                                 \n",
            " dropout (Dropout)           (None, 14, 14, 32)        0         \n",
            "                                                                 \n",
            " flatten (Flatten)           (None, 6272)              0         \n",
            "                                                                 \n",
            " dense (Dense)               (None, 256)               1605888   \n",
            "                                                                 \n",
            " dropout_1 (Dropout)         (None, 256)               0         \n",
            "                                                                 \n",
            " dense_1 (Dense)             (None, 10)                2570      \n",
            "                                                                 \n",
            "=================================================================\n",
            "Total params: 1,618,030\n",
            "Trainable params: 1,618,028\n",
            "Non-trainable params: 2\n",
            "_________________________________________________________________\n"
          ]
        }
      ]
    },
    {
      "cell_type": "code",
      "metadata": {
        "id": "Id69qEDaAx_4",
        "colab": {
          "base_uri": "https://localhost:8080/",
          "height": 824
        },
        "outputId": "9dfcecfc-7767-44fc-8796-2d649d0d9b0a"
      },
      "source": [
        "# Обучаем сеть на данных mnist\n",
        "\n",
        "history = model.fit(x_train, \n",
        "                    y_train, \n",
        "                    batch_size=batch_size, \n",
        "                    epochs=15,\n",
        "                    validation_data=(x_test, y_test),\n",
        "                    verbose=1)\n",
        "\n",
        "# Отображаем график точности обучения\n",
        "\n",
        "plt.plot(history.history['accuracy'], \n",
        "         label='Доля верных ответов на обучающем наборе')\n",
        "plt.plot(history.history['val_accuracy'], \n",
        "         label='Доля верных ответов на проверочном наборе')\n",
        "plt.xlabel('Эпоха обучения')\n",
        "plt.ylabel('Доля верных ответов')\n",
        "plt.legend()\n",
        "plt.show()"
      ],
      "execution_count": null,
      "outputs": [
        {
          "output_type": "stream",
          "name": "stdout",
          "text": [
            "Epoch 1/15\n",
            "469/469 [==============================] - 13s 9ms/step - loss: 0.1610 - accuracy: 0.9499 - val_loss: 0.0481 - val_accuracy: 0.9842\n",
            "Epoch 2/15\n",
            "469/469 [==============================] - 4s 8ms/step - loss: 0.0520 - accuracy: 0.9837 - val_loss: 0.0354 - val_accuracy: 0.9880\n",
            "Epoch 3/15\n",
            "469/469 [==============================] - 4s 8ms/step - loss: 0.0360 - accuracy: 0.9887 - val_loss: 0.0291 - val_accuracy: 0.9900\n",
            "Epoch 4/15\n",
            "469/469 [==============================] - 4s 8ms/step - loss: 0.0272 - accuracy: 0.9908 - val_loss: 0.0278 - val_accuracy: 0.9920\n",
            "Epoch 5/15\n",
            "469/469 [==============================] - 4s 8ms/step - loss: 0.0221 - accuracy: 0.9929 - val_loss: 0.0291 - val_accuracy: 0.9902\n",
            "Epoch 6/15\n",
            "469/469 [==============================] - 4s 8ms/step - loss: 0.0193 - accuracy: 0.9934 - val_loss: 0.0303 - val_accuracy: 0.9911\n",
            "Epoch 7/15\n",
            "469/469 [==============================] - 4s 8ms/step - loss: 0.0160 - accuracy: 0.9942 - val_loss: 0.0301 - val_accuracy: 0.9902\n",
            "Epoch 8/15\n",
            "469/469 [==============================] - 4s 8ms/step - loss: 0.0135 - accuracy: 0.9952 - val_loss: 0.0303 - val_accuracy: 0.9908\n",
            "Epoch 9/15\n",
            "469/469 [==============================] - 4s 8ms/step - loss: 0.0118 - accuracy: 0.9957 - val_loss: 0.0320 - val_accuracy: 0.9916\n",
            "Epoch 10/15\n",
            "469/469 [==============================] - 4s 8ms/step - loss: 0.0119 - accuracy: 0.9962 - val_loss: 0.0323 - val_accuracy: 0.9904\n",
            "Epoch 11/15\n",
            "469/469 [==============================] - 4s 8ms/step - loss: 0.0104 - accuracy: 0.9965 - val_loss: 0.0300 - val_accuracy: 0.9918\n",
            "Epoch 12/15\n",
            "469/469 [==============================] - 4s 8ms/step - loss: 0.0100 - accuracy: 0.9967 - val_loss: 0.0319 - val_accuracy: 0.9915\n",
            "Epoch 13/15\n",
            "469/469 [==============================] - 5s 10ms/step - loss: 0.0082 - accuracy: 0.9972 - val_loss: 0.0342 - val_accuracy: 0.9915\n",
            "Epoch 14/15\n",
            "469/469 [==============================] - 4s 8ms/step - loss: 0.0073 - accuracy: 0.9977 - val_loss: 0.0336 - val_accuracy: 0.9921\n",
            "Epoch 15/15\n",
            "469/469 [==============================] - 4s 8ms/step - loss: 0.0092 - accuracy: 0.9968 - val_loss: 0.0367 - val_accuracy: 0.9911\n"
          ]
        },
        {
          "output_type": "display_data",
          "data": {
            "text/plain": [
              "<Figure size 432x288 with 1 Axes>"
            ],
            "image/png": "[encoded data removed]"
          },
          "metadata": {
            "needs_background": "light"
          }
        }
      ]
    },
    {
      "cell_type": "code",
      "source": [
        "from google.colab import drive\n",
        "drive.mount('/content/drive')"
      ],
      "metadata": {
        "colab": {
          "base_uri": "https://localhost:8080/"
        },
        "id": "4v4ylLgxEcJI",
        "outputId": "de05e595-7402-48b8-c855-092e08d8b774"
      },
      "execution_count": null,
      "outputs": [
        {
          "output_type": "stream",
          "name": "stdout",
          "text": [
            "Mounted at /content/drive\n"
          ]
        }
      ]
    },
    {
      "cell_type": "code",
      "source": [
        "model.save('/content/drive/MyDrive/Neural_UN_Work/model.h5') \n",
        "model.save_weights('/content/drive/MyDrive/Neural_UN_Work/weights.h5') "
      ],
      "metadata": {
        "id": "4dF5FRSyKWq0"
      },
      "execution_count": null,
      "outputs": []
    },
    {
      "cell_type": "code",
      "source": [
        "from tensorflow.keras.models import load_model\n",
        "model = load_model('/content/drive/MyDrive/Neural_UN_Work/model.h5')\n",
        "print('Модель и веса загружены!')\n",
        "\n",
        "model.summary()\n",
        "\n",
        "# загрузка данных\n",
        "from tensorflow.keras.datasets import mnist \n",
        "(x_train, y_train), (x_test, y_test) = mnist.load_data()"
      ],
      "metadata": {
        "colab": {
          "base_uri": "https://localhost:8080/"
        },
        "id": "fJY-OaQEIYGx",
        "outputId": "974d4458-6cfc-4ae8-a937-e7f1f289e244"
      },
      "execution_count": null,
      "outputs": [
        {
          "output_type": "stream",
          "name": "stdout",
          "text": [
            "Модель и веса загружены!\n",
            "Model: \"sequential\"\n",
            "_________________________________________________________________\n",
            " Layer (type)                Output Shape              Param #   \n",
            "=================================================================\n",
            " batch_normalization (BatchN  (None, 28, 28, 1)        4         \n",
            " ormalization)                                                   \n",
            "                                                                 \n",
            " conv2d (Conv2D)             (None, 28, 28, 32)        320       \n",
            "                                                                 \n",
            " conv2d_1 (Conv2D)           (None, 28, 28, 32)        9248      \n",
            "                                                                 \n",
            " max_pooling2d (MaxPooling2D  (None, 14, 14, 32)       0         \n",
            " )                                                               \n",
            "                                                                 \n",
            " dropout (Dropout)           (None, 14, 14, 32)        0         \n",
            "                                                                 \n",
            " flatten (Flatten)           (None, 6272)              0         \n",
            "                                                                 \n",
            " dense (Dense)               (None, 256)               1605888   \n",
            "                                                                 \n",
            " dropout_1 (Dropout)         (None, 256)               0         \n",
            "                                                                 \n",
            " dense_1 (Dense)             (None, 10)                2570      \n",
            "                                                                 \n",
            "=================================================================\n",
            "Total params: 1,618,030\n",
            "Trainable params: 1,618,028\n",
            "Non-trainable params: 2\n",
            "_________________________________________________________________\n",
            "Downloading data from https://storage.googleapis.com/tensorflow/tf-keras-datasets/mnist.npz\n",
            "11490434/11490434 [==============================] - 0s 0us/step\n"
          ]
        }
      ]
    },
    {
      "cell_type": "code",
      "source": [
        "import gdown\n",
        "gdown.download('https://storage.yandexcloud.net/aiueducation/Content/base/l6/0-9.zip', None, quiet=True)\n",
        "\n",
        "!unzip -qo 0-9.zip"
      ],
      "metadata": {
        "id": "qO8ZxjDHOdBN"
      },
      "execution_count": null,
      "outputs": []
    },
    {
      "cell_type": "code",
      "source": [
        "from PIL import Image\n",
        "img = Image.open('/content/0-9/7.jpg')\n",
        "display(img)"
      ],
      "metadata": {
        "colab": {
          "base_uri": "https://localhost:8080/",
          "height": 66
        },
        "id": "H4MQe1hiPwhB",
        "outputId": "79d251fc-1b86-4920-e313-45ed60c89833"
      },
      "execution_count": null,
      "outputs": [
        {
          "output_type": "display_data",
          "data": {
            "text/plain": [
              "<PIL.JpegImagePlugin.JpegImageFile image mode=RGB size=28x28 at 0x7FD102EC7280>"
            ],
            "image/png": "[encoded data removed]"
          },
          "metadata": {}
        }
      ]
    },
    {
      "cell_type": "code",
      "source": [
        "# скрипт загрузки на Demo\n",
        "from PIL import Image\n",
        "import numpy as np\n",
        "from shutil import copyfile\n",
        "from tensorflow.keras.models import load_model\n",
        "\n",
        "copyfile('/content/drive/MyDrive/Neural_UN_Work/model.h5', '/content/model.h5')\n",
        "\n",
        "def predict(img_path='/content/0-9/9.jpg', model_path='/content/drive/MyDrive/Neural_UN_Work/model.h5'):\n",
        "    \n",
        "    model = load_model(model_path)\n",
        "\n",
        "    img_width, img_height = 28, 28\n",
        "\n",
        "    img = Image.open(img_path).convert('L').resize((img_height, img_width))\n",
        "    img = 255-np.array(img)\n",
        "\n",
        "    plt.imshow(img, cmap='gray')\n",
        "    plt.show()\n",
        "\n",
        "    image = img.reshape(28,28,1)\n",
        "    image = np.expand_dims(image, axis=0)\n",
        "\n",
        "    cls_image = np.argmax(model.predict(image))\n",
        "    print(model.predict(image))\n",
        "\n",
        "    print(cls_image)"
      ],
      "metadata": {
        "id": "6JaQHQXEQ6xT"
      },
      "execution_count": null,
      "outputs": []
    },
    {
      "cell_type": "code",
      "source": [
        "predict(img_path='/content/0-9/5.jpg', model_path='/content/drive/MyDrive/Neural_UN_Work/model.h5')\n",
        "plt.imshow(Image.open('/content/0-9/5.jpg'))\n",
        "plt.show()\n",
        "\n"
      ],
      "metadata": {
        "colab": {
          "base_uri": "https://localhost:8080/",
          "height": 620
        },
        "id": "tgiY3FFvRvb7",
        "outputId": "9e68bfd4-31d1-4252-9a78-f11351b95aab"
      },
      "execution_count": null,
      "outputs": [
        {
          "output_type": "display_data",
          "data": {
            "text/plain": [
              "<Figure size 432x288 with 1 Axes>"
            ],
            "image/png": "[encoded data removed]"
          },
          "metadata": {
            "needs_background": "light"
          }
        },
        {
          "output_type": "stream",
          "name": "stdout",
          "text": [
            "1/1 [==============================] - 0s 347ms/step\n",
            "1/1 [==============================] - 0s 25ms/step\n",
            "[[7.8105954e-22 3.0667158e-19 8.3112487e-17 3.5483325e-11 2.8047940e-15\n",
            "  1.0000000e+00 4.2830792e-18 4.9800010e-16 7.0995642e-15 1.3804576e-10]]\n",
            "5\n"
          ]
        },
        {
          "output_type": "display_data",
          "data": {
            "text/plain": [
              "<Figure size 432x288 with 1 Axes>"
            ],
            "image/png": "[encoded data removed]"
          },
          "metadata": {
            "needs_background": "light"
          }
        }
      ]
    },
    {
      "cell_type": "code",
      "source": [
        "from shutil import copyfile\n",
        "import os\n",
        "from zipfile import ZipFile as zip\n",
        "\n",
        "text_code = \"\"\" \n",
        "from PIL import Image\n",
        "import numpy as np\n",
        "from tensorflow.keras.models import load_model\n",
        "\n",
        "copyfile('/content/drive/MyDrive/Neural_UN_Work/model.h5', 'model.h5')\n",
        "\n",
        "def predict(img_path='/content/0-9/9.jpg', model_path='/content/model.h5'):\n",
        "    \n",
        "    model = load_model(model_path)\n",
        "\n",
        "    img_width, img_height = 28, 28\n",
        "\n",
        "    img = Image.open(img_path).convert('L').resize((img_height, img_width))\n",
        "    img = 255-np.array(img)\n",
        "\n",
        "    plt.imshow(img, cmap='gray')\n",
        "    plt.show()\n",
        "\n",
        "    image = img.reshape(28,28,1)\n",
        "    image = np.expand_dims(image, axis=0)\n",
        "\n",
        "    cls_image = np.argmax(model.predict(image))\n",
        " \"\"\"\n",
        "\n",
        "with open('script.py', 'w') as f: \n",
        "    f.write(text_code)\n",
        "\n",
        "for i in range(10):\n",
        "  copyfile(f'/content/0-9/{i}.jpg', f'/content/{i}.jpg')\n",
        "\n",
        "label_text = \"\"\" \n",
        "\n",
        "0\n",
        "1\n",
        "2\n",
        "3\n",
        "4\n",
        "5\n",
        "6\n",
        "7\n",
        "8\n",
        "9\n",
        "\n",
        "\"\"\"\n",
        "\n",
        "with open('label.txt', 'w') as f: \n",
        "    f.write(label_text)\n",
        "\n",
        "\n",
        "\n",
        "copyfile('/content/drive/MyDrive/Neural_UN_Work/model.h5', 'model.h5')\n",
        "\n",
        "filesForDemo = ['model.h5','label.txt','script.py',*[f'{x}.jpg' for x in range(10)]]\n",
        "\n",
        "zipForDemo = zip('/content/zipForDemo.zip','w')\n",
        "for f in filesForDemo:\n",
        "  if os.path.exists(f):\n",
        "    zipForDemo.write(f)\n",
        "    # print(f'{f} записан')\n",
        "  else:\n",
        "    print(f'файл {f} не существует')\n",
        "zipForDemo.close()\n"
      ],
      "metadata": {
        "id": "1WXAX5nnWATr"
      },
      "execution_count": null,
      "outputs": []
    },
    {
      "cell_type": "code",
      "source": [
        "from google.colab import files\n",
        "files.download('/content/zipForDemo.zip')"
      ],
      "metadata": {
        "colab": {
          "base_uri": "https://localhost:8080/",
          "height": 38
        },
        "id": "ri-eW6DVqNZV",
        "outputId": "8eb6dfaf-f24d-46c5-ba38-e996c9f34fc5"
      },
      "execution_count": null,
      "outputs": [
        {
          "output_type": "display_data",
          "data": {
            "text/plain": [
              "<IPython.core.display.Javascript object>"
            ],
            "application/javascript": [
              "\n",
              "    async function download(id, filename, size) {\n",
              "      if (!google.colab.kernel.accessAllowed) {\n",
              "        return;\n",
              "      }\n",
              "      const div = document.createElement('div');\n",
              "      const label = document.createElement('label');\n",
              "      label.textContent = `Downloading \"${filename}\": `;\n",
              "      div.appendChild(label);\n",
              "      const progress = document.createElement('progress');\n",
              "      progress.max = size;\n",
              "      div.appendChild(progress);\n",
              "      document.body.appendChild(div);\n",
              "\n",
              "      const buffers = [];\n",
              "      let downloaded = 0;\n",
              "\n",
              "      const channel = await google.colab.kernel.comms.open(id);\n",
              "      // Send a message to notify the kernel that we're ready.\n",
              "      channel.send({})\n",
              "\n",
              "      for await (const message of channel.messages) {\n",
              "        // Send a message to notify the kernel that we're ready.\n",
              "        channel.send({})\n",
              "        if (message.buffers) {\n",
              "          for (const buffer of message.buffers) {\n",
              "            buffers.push(buffer);\n",
              "            downloaded += buffer.byteLength;\n",
              "            progress.value = downloaded;\n",
              "          }\n",
              "        }\n",
              "      }\n",
              "      const blob = new Blob(buffers, {type: 'application/binary'});\n",
              "      const a = document.createElement('a');\n",
              "      a.href = window.URL.createObjectURL(blob);\n",
              "      a.download = filename;\n",
              "      div.appendChild(a);\n",
              "      a.click();\n",
              "      div.remove();\n",
              "    }\n",
              "  "
            ]
          },
          "metadata": {}
        },
        {
          "output_type": "display_data",
          "data": {
            "text/plain": [
              "<IPython.core.display.Javascript object>"
            ],
            "application/javascript": [
              "download(\"download_22ee4fd4-60d4-4d49-a817-1825f7f47f25\", \"zipForDemo.zip\", 19485163)"
            ]
          },
          "metadata": {}
        }
      ]
    }
  ]
}