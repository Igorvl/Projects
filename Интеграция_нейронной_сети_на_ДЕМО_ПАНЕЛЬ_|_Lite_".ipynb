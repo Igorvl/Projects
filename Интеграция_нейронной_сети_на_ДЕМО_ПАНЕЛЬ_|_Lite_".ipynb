{
  "nbformat": 4,
  "nbformat_minor": 0,
  "metadata": {
    "colab": {
      "provenance": [],
      "include_colab_link": true
    },
    "kernelspec": {
      "name": "python3",
      "display_name": "Python 3"
    },
    "language_info": {
      "name": "python"
    },
    "gpuClass": "standard"
  },
  "cells": [
    {
      "cell_type": "markdown",
      "metadata": {
        "id": "view-in-github",
        "colab_type": "text"
      },
      "source": [
        "<a href=\"https://colab.research.google.com/github/Igorvl/Projects/blob/master/%D0%98%D0%BD%D1%82%D0%B5%D0%B3%D1%80%D0%B0%D1%86%D0%B8%D1%8F_%D0%BD%D0%B5%D0%B9%D1%80%D0%BE%D0%BD%D0%BD%D0%BE%D0%B9_%D1%81%D0%B5%D1%82%D0%B8_%D0%BD%D0%B0_%D0%94%D0%95%D0%9C%D0%9E_%D0%9F%D0%90%D0%9D%D0%95%D0%9B%D0%AC_%7C_Lite_%22.ipynb\" target=\"_parent\"><img src=\"https://colab.research.google.com/assets/colab-badge.svg\" alt=\"Open In Colab\"/></a>"
      ]
    },
    {
      "cell_type": "markdown",
      "metadata": {
        "id": "c6nTn8IaLGn_"
      },
      "source": [
        "Необходимо создать, обучить нейронную сеть и упаковать её в архив для загрузки на демо-панель:\n",
        "* создать нейронную сеть для распознавания цифр из MNIST\n",
        "* сохраните веса (модель)\n",
        "* подготовить запуск модели \"из коробки\"\n",
        "* подготовить архив с готовой нейронной сетью для загрузки в демо-панель\n"
      ]
    },
    {
      "cell_type": "code",
      "metadata": {
        "id": "3b4wMrfQKe2l"
      },
      "source": [
        "# Загружаем базу mnist\n",
        "from tensorflow.keras.datasets import mnist \n",
        "\n",
        "# Сеть прямого распространения\n",
        "from tensorflow.keras.models import Sequential \n",
        "\n",
        "# Базовые слои для счёрточных сетей\n",
        "from tensorflow.keras.layers import Dense, Conv2D, MaxPooling2D, Flatten, Dropout, BatchNormalization\n",
        "\n",
        "# оптимизаторы\n",
        "from tensorflow.keras.optimizers import Adam, Adadelta \n",
        "\n",
        "# Используем дял to_categoricall\n",
        "from tensorflow.keras import utils \n",
        "\n",
        "# Для отрисовки изображений\n",
        "from tensorflow.keras.preprocessing import image \n",
        "\n",
        "# Для загрузки своей картинки\n",
        "from google.colab import files \n",
        "\n",
        "# Библиотека работы с массивами\n",
        "import numpy as np \n",
        "\n",
        "# Для отрисовки графиков\n",
        "import matplotlib.pyplot as plt \n",
        "\n",
        "# Для отрисовки изображений\n",
        "from PIL import Image \n",
        "\n",
        "# Для генерации случайных чисел \n",
        "import random \n",
        "\n",
        "# Для округления\n",
        "import math \n",
        "\n",
        "#Для работы с файлами \n",
        "import os \n",
        "\n",
        "# подключем диск\n",
        "from google.colab import drive\n",
        "\n",
        "%matplotlib inline"
      ],
      "execution_count": 1,
      "outputs": []
    },
    {
      "cell_type": "code",
      "metadata": {
        "id": "_Yi4Ziqhx-0A",
        "colab": {
          "base_uri": "https://localhost:8080/",
          "height": 36
        },
        "outputId": "614005d6-1a29-4c91-dc9f-665a16ab50f2"
      },
      "source": [
        "import gdown\n",
        "\n",
        "gdown.download('https://storage.yandexcloud.net/aiueducation/Content/base/l6/0-9.zip', None, quiet=True)"
      ],
      "execution_count": 2,
      "outputs": [
        {
          "output_type": "execute_result",
          "data": {
            "text/plain": [
              "'0-9.zip'"
            ],
            "application/vnd.google.colaboratory.intrinsic+json": {
              "type": "string"
            }
          },
          "metadata": {},
          "execution_count": 2
        }
      ]
    },
    {
      "cell_type": "markdown",
      "metadata": {
        "id": "7A0tdANyLCPs"
      },
      "source": [
        "## Распознавание изображений из набора данных MNIST \n"
      ]
    },
    {
      "cell_type": "markdown",
      "metadata": {
        "id": "a-cggImwMCQP"
      },
      "source": [
        "**Подготовка данных**\n"
      ]
    },
    {
      "cell_type": "code",
      "metadata": {
        "id": "_PT1LV_KMVto",
        "colab": {
          "base_uri": "https://localhost:8080/"
        },
        "outputId": "91fd32f5-27c4-4700-af36-4ee28df49fd2"
      },
      "source": [
        "# Загружаем MNIST\n",
        "(x_train, y_train), (x_test, y_test) = mnist.load_data()"
      ],
      "execution_count": 3,
      "outputs": [
        {
          "output_type": "stream",
          "name": "stdout",
          "text": [
            "Downloading data from https://storage.googleapis.com/tensorflow/tf-keras-datasets/mnist.npz\n",
            "11490434/11490434 [==============================] - 0s 0us/step\n"
          ]
        }
      ]
    },
    {
      "cell_type": "code",
      "metadata": {
        "id": "nft2zSCpVWYV",
        "colab": {
          "base_uri": "https://localhost:8080/"
        },
        "outputId": "1a294a97-e66e-4d27-def0-788d052fa257"
      },
      "source": [
        "x_train.shape"
      ],
      "execution_count": 4,
      "outputs": [
        {
          "output_type": "execute_result",
          "data": {
            "text/plain": [
              "(60000, 28, 28)"
            ]
          },
          "metadata": {},
          "execution_count": 4
        }
      ]
    },
    {
      "cell_type": "code",
      "metadata": {
        "id": "vNoGJvE_M3YW",
        "colab": {
          "base_uri": "https://localhost:8080/",
          "height": 118
        },
        "outputId": "62ca38ea-d569-476a-b355-8c1c8d3c7e13"
      },
      "source": [
        "# Выводим для примера картинки по каждому классу\n",
        "\n",
        "fig, axs = plt.subplots(1, 10, figsize=(25, 3)) # Создаем полотно из 10 графиков\n",
        "\n",
        "for i in range(10): # Проходим по классам от 0 до 9\n",
        "  label_indexes = np.where(y_train==i)[0] # Получаем список из индексов положений класса i в y_train\n",
        "  index = random.choice(label_indexes) # Случайным образом выбираем из списка индекс\n",
        "  img = x_train[index] # Выбираем из x_train нужное изображение\n",
        "  axs[i].imshow(Image.fromarray(img), cmap='gray') #Отображаем изображение i-ым графиков\n",
        "\n",
        "plt.show() # Показываем изображения"
      ],
      "execution_count": 5,
      "outputs": [
        {
          "output_type": "display_data",
          "data": {
            "text/plain": [
              "<Figure size 1800x216 with 10 Axes>"
            ],
            "image/png": "[encoded data removed]"
          },
          "metadata": {
            "needs_background": "light"
          }
        }
      ]
    },
    {
      "cell_type": "code",
      "metadata": {
        "id": "ti92Kvp3NX61"
      },
      "source": [
        "# Превращаем y_train и y_test сетей в формат one hot encoding\n",
        "\n",
        "y_train = utils.to_categorical(y_train, 10)\n",
        "y_test = utils.to_categorical(y_test, 10)\n",
        "\n",
        "# Меняем формат данных MNIST\n",
        "# Надо добавить в конце размерность 1\n",
        "# Чтобы свёрточная сеть понимала, что это чёрно-белые данные\n",
        "\n",
        "x_train = x_train.reshape(x_train.shape[0], 28, 28, 1)\n",
        "x_test = x_test.reshape(x_test.shape[0], 28, 28, 1)"
      ],
      "execution_count": 6,
      "outputs": []
    },
    {
      "cell_type": "code",
      "metadata": {
        "id": "tZwKJRB7dW3q",
        "colab": {
          "base_uri": "https://localhost:8080/"
        },
        "outputId": "60407ac6-8b36-4fa1-9155-d0436daca500"
      },
      "source": [
        "# Посмотрим форматы выборок перед обучением\n",
        "\n",
        "print(x_train.shape)\n",
        "print(x_test.shape)\n",
        "print(y_train.shape)\n",
        "print(y_test.shape)"
      ],
      "execution_count": 7,
      "outputs": [
        {
          "output_type": "stream",
          "name": "stdout",
          "text": [
            "(60000, 28, 28, 1)\n",
            "(10000, 28, 28, 1)\n",
            "(60000, 10)\n",
            "(10000, 10)\n"
          ]
        }
      ]
    },
    {
      "cell_type": "markdown",
      "metadata": {
        "id": "P93UbJvKSEAX"
      },
      "source": [
        "**Нейронная сеть**"
      ]
    },
    {
      "cell_type": "code",
      "metadata": {
        "id": "5YioYV0CPY7B"
      },
      "source": [
        "# задаём batch_size\n",
        "batch_size = 128 \n",
        "\n",
        "# Создаем последовательную модель\n",
        "\n",
        "model = Sequential()\n",
        "\n",
        "model.add(BatchNormalization(input_shape=(28, 28, 1))) # Слой пакетной нормализации\n",
        "model.add(Conv2D(32, (3, 3), padding='same', activation='relu')) # Первый сверточный слой\n",
        "model.add(Conv2D(32, (3, 3), padding='same', activation='relu')) # Второй сверточный слой\n",
        "model.add(MaxPooling2D(pool_size=(2, 2))) # Первый слой подвыборки\n",
        "\n",
        "model.add(Dropout(0.25)) # Слой регуляризации Dropout\n",
        "model.add(Flatten())\n",
        "\n",
        "model.add(Dense(256, activation='relu')) # Полносвязный слой для классификации\n",
        "model.add(Dropout(0.25)) # Слой регуляризации Dropout\n",
        "model.add(Dense(10, activation='softmax')) # Выходной полносвязный слой\n",
        "\n",
        "# Компилируем сеть\n",
        "model.compile(loss=\"categorical_crossentropy\", optimizer=\"adam\", metrics=[\"accuracy\"])"
      ],
      "execution_count": 8,
      "outputs": []
    },
    {
      "cell_type": "code",
      "metadata": {
        "id": "3DJfoivkXWpq",
        "colab": {
          "base_uri": "https://localhost:8080/"
        },
        "outputId": "38aae870-ce68-4e4a-a41b-c81728b971db"
      },
      "source": [
        "model.summary()"
      ],
      "execution_count": 9,
      "outputs": [
        {
          "output_type": "stream",
          "name": "stdout",
          "text": [
            "Model: \"sequential\"\n",
            "_________________________________________________________________\n",
            " Layer (type)                Output Shape              Param #   \n",
            "=================================================================\n",
            " batch_normalization (BatchN  (None, 28, 28, 1)        4         \n",
            " ormalization)                                                   \n",
            "                                                                 \n",
            " conv2d (Conv2D)             (None, 28, 28, 32)        320       \n",
            "                                                                 \n",
            " conv2d_1 (Conv2D)           (None, 28, 28, 32)        9248      \n",
            "                                                                 \n",
            " max_pooling2d (MaxPooling2D  (None, 14, 14, 32)       0         \n",
            " )                                                               \n",
            "                                                                 \n",
            " dropout (Dropout)           (None, 14, 14, 32)        0         \n",
            "                                                                 \n",
            " flatten (Flatten)           (None, 6272)              0         \n",
            "                                                                 \n",
            " dense (Dense)               (None, 256)               1605888   \n",
            "                                                                 \n",
            " dropout_1 (Dropout)         (None, 256)               0         \n",
            "                                                                 \n",
            " dense_1 (Dense)             (None, 10)                2570      \n",
            "                                                                 \n",
            "=================================================================\n",
            "Total params: 1,618,030\n",
            "Trainable params: 1,618,028\n",
            "Non-trainable params: 2\n",
            "_________________________________________________________________\n"
          ]
        }
      ]
    },
    {
      "cell_type": "code",
      "metadata": {
        "id": "Id69qEDaAx_4",
        "colab": {
          "base_uri": "https://localhost:8080/",
          "height": 823
        },
        "outputId": "c2e1cc75-dfb6-4ca1-f7fd-d7108e96534d"
      },
      "source": [
        "# Обучаем сеть на данных mnist\n",
        "\n",
        "history = model.fit(x_train, \n",
        "                    y_train, \n",
        "                    batch_size=batch_size, \n",
        "                    epochs=15,\n",
        "                    validation_data=(x_test, y_test),\n",
        "                    verbose=1)\n",
        "\n",
        "# Отображаем график точности обучения\n",
        "\n",
        "plt.plot(history.history['accuracy'], \n",
        "         label='Доля верных ответов на обучающем наборе')\n",
        "plt.plot(history.history['val_accuracy'], \n",
        "         label='Доля верных ответов на проверочном наборе')\n",
        "plt.xlabel('Эпоха обучения')\n",
        "plt.ylabel('Доля верных ответов')\n",
        "plt.legend()\n",
        "plt.show()"
      ],
      "execution_count": 109,
      "outputs": [
        {
          "output_type": "stream",
          "name": "stdout",
          "text": [
            "Epoch 1/15\n",
            "469/469 [==============================] - 156s 330ms/step - loss: 0.1589 - accuracy: 0.9511 - val_loss: 0.0507 - val_accuracy: 0.9824\n",
            "Epoch 2/15\n",
            "469/469 [==============================] - 154s 328ms/step - loss: 0.0528 - accuracy: 0.9841 - val_loss: 0.0355 - val_accuracy: 0.9877\n",
            "Epoch 3/15\n",
            "469/469 [==============================] - 154s 329ms/step - loss: 0.0357 - accuracy: 0.9889 - val_loss: 0.0335 - val_accuracy: 0.9891\n",
            "Epoch 4/15\n",
            "469/469 [==============================] - 154s 328ms/step - loss: 0.0279 - accuracy: 0.9909 - val_loss: 0.0355 - val_accuracy: 0.9877\n",
            "Epoch 5/15\n",
            "469/469 [==============================] - 154s 328ms/step - loss: 0.0228 - accuracy: 0.9926 - val_loss: 0.0341 - val_accuracy: 0.9898\n",
            "Epoch 6/15\n",
            "469/469 [==============================] - 154s 328ms/step - loss: 0.0194 - accuracy: 0.9936 - val_loss: 0.0289 - val_accuracy: 0.9918\n",
            "Epoch 7/15\n",
            "469/469 [==============================] - 153s 327ms/step - loss: 0.0160 - accuracy: 0.9951 - val_loss: 0.0335 - val_accuracy: 0.9907\n",
            "Epoch 8/15\n",
            "469/469 [==============================] - 153s 327ms/step - loss: 0.0146 - accuracy: 0.9952 - val_loss: 0.0321 - val_accuracy: 0.9916\n",
            "Epoch 9/15\n",
            "469/469 [==============================] - 153s 327ms/step - loss: 0.0124 - accuracy: 0.9959 - val_loss: 0.0367 - val_accuracy: 0.9907\n",
            "Epoch 10/15\n",
            "469/469 [==============================] - 154s 328ms/step - loss: 0.0110 - accuracy: 0.9959 - val_loss: 0.0313 - val_accuracy: 0.9914\n",
            "Epoch 11/15\n",
            "469/469 [==============================] - 154s 328ms/step - loss: 0.0113 - accuracy: 0.9962 - val_loss: 0.0374 - val_accuracy: 0.9910\n",
            "Epoch 12/15\n",
            "469/469 [==============================] - 153s 326ms/step - loss: 0.0112 - accuracy: 0.9963 - val_loss: 0.0353 - val_accuracy: 0.9910\n",
            "Epoch 13/15\n",
            "469/469 [==============================] - 153s 327ms/step - loss: 0.0080 - accuracy: 0.9972 - val_loss: 0.0339 - val_accuracy: 0.9919\n",
            "Epoch 14/15\n",
            "469/469 [==============================] - 153s 326ms/step - loss: 0.0094 - accuracy: 0.9968 - val_loss: 0.0351 - val_accuracy: 0.9917\n",
            "Epoch 15/15\n",
            "469/469 [==============================] - 153s 326ms/step - loss: 0.0063 - accuracy: 0.9979 - val_loss: 0.0393 - val_accuracy: 0.9918\n"
          ]
        },
        {
          "output_type": "display_data",
          "data": {
            "text/plain": [
              "<Figure size 432x288 with 1 Axes>"
            ],
            "image/png": "[encoded data removed]"
          },
          "metadata": {
            "needs_background": "light"
          }
        }
      ]
    },
    {
      "cell_type": "code",
      "source": [
        "from google.colab import drive\n",
        "drive.mount('/content/drive')"
      ],
      "metadata": {
        "colab": {
          "base_uri": "https://localhost:8080/"
        },
        "id": "4v4ylLgxEcJI",
        "outputId": "5b060f8a-216c-42b8-86ad-43f58639fe48"
      },
      "execution_count": 10,
      "outputs": [
        {
          "output_type": "stream",
          "name": "stdout",
          "text": [
            "Mounted at /content/drive\n"
          ]
        }
      ]
    },
    {
      "cell_type": "code",
      "source": [
        "model.save('/content/drive/MyDrive/Neural_UN_Work/model.h5') \n",
        "model.save_weights('/content/drive/MyDrive/Neural_UN_Work/weights.h5') "
      ],
      "metadata": {
        "id": "4dF5FRSyKWq0"
      },
      "execution_count": 110,
      "outputs": []
    },
    {
      "cell_type": "code",
      "source": [
        "from tensorflow.keras.models import load_model\n",
        "model = load_model('/content/drive/MyDrive/Neural_UN_Work/model.h5')\n",
        "print('Модель и веса загружены!')\n",
        "\n",
        "model.summary()\n",
        "\n",
        "# загрузка данных\n",
        "from tensorflow.keras.datasets import mnist \n",
        "(x_train, y_train), (x_test, y_test) = mnist.load_data()"
      ],
      "metadata": {
        "colab": {
          "base_uri": "https://localhost:8080/"
        },
        "id": "fJY-OaQEIYGx",
        "outputId": "d1407b06-6f8f-4398-f952-c335fc9393ad"
      },
      "execution_count": 11,
      "outputs": [
        {
          "output_type": "stream",
          "name": "stdout",
          "text": [
            "Модель и веса загружены!\n",
            "Model: \"sequential\"\n",
            "_________________________________________________________________\n",
            " Layer (type)                Output Shape              Param #   \n",
            "=================================================================\n",
            " batch_normalization (BatchN  (None, 28, 28, 1)        4         \n",
            " ormalization)                                                   \n",
            "                                                                 \n",
            " conv2d (Conv2D)             (None, 28, 28, 32)        320       \n",
            "                                                                 \n",
            " conv2d_1 (Conv2D)           (None, 28, 28, 32)        9248      \n",
            "                                                                 \n",
            " max_pooling2d (MaxPooling2D  (None, 14, 14, 32)       0         \n",
            " )                                                               \n",
            "                                                                 \n",
            " dropout (Dropout)           (None, 14, 14, 32)        0         \n",
            "                                                                 \n",
            " flatten (Flatten)           (None, 6272)              0         \n",
            "                                                                 \n",
            " dense (Dense)               (None, 256)               1605888   \n",
            "                                                                 \n",
            " dropout_1 (Dropout)         (None, 256)               0         \n",
            "                                                                 \n",
            " dense_1 (Dense)             (None, 10)                2570      \n",
            "                                                                 \n",
            "=================================================================\n",
            "Total params: 1,618,030\n",
            "Trainable params: 1,618,028\n",
            "Non-trainable params: 2\n",
            "_________________________________________________________________\n"
          ]
        }
      ]
    },
    {
      "cell_type": "code",
      "source": [
        "import gdown\n",
        "gdown.download('https://storage.yandexcloud.net/aiueducation/Content/base/l6/0-9.zip', None, quiet=True)\n",
        "\n",
        "!unzip -qo 0-9.zip"
      ],
      "metadata": {
        "id": "qO8ZxjDHOdBN"
      },
      "execution_count": 12,
      "outputs": []
    },
    {
      "cell_type": "code",
      "source": [
        "from PIL import Image\n",
        "img = Image.open('/content/0-9/7.jpg')\n",
        "display(img)"
      ],
      "metadata": {
        "colab": {
          "base_uri": "https://localhost:8080/",
          "height": 46
        },
        "id": "H4MQe1hiPwhB",
        "outputId": "6e1a491c-ac4f-4801-ac21-a461794ccf59"
      },
      "execution_count": 13,
      "outputs": [
        {
          "output_type": "display_data",
          "data": {
            "text/plain": [
              "<PIL.JpegImagePlugin.JpegImageFile image mode=RGB size=28x28 at 0x7F962F1A6EE0>"
            ],
            "image/png": "[encoded data removed]"
          },
          "metadata": {}
        }
      ]
    },
    {
      "cell_type": "code",
      "source": [
        "# скрипт загрузки на Demo\n",
        "from PIL import Image\n",
        "import numpy as np\n",
        "from tensorflow.keras.models import load_model\n",
        "\n",
        "def predict(img_path='/content/0-9/9.jpg', model_path='/content/drive/MyDrive/Neural_UN_Work/model.h5'):\n",
        "    \n",
        "    model = load_model(model_path)\n",
        "\n",
        "    img_width, img_height = 28, 28\n",
        "\n",
        "    img = Image.open(img_path).convert('L').resize((img_height, img_width))\n",
        "    img = 255-np.array(img)\n",
        "\n",
        "    plt.imshow(img, cmap='gray')\n",
        "    plt.show()\n",
        "\n",
        "    image = img.reshape(28,28,1)\n",
        "    image = np.expand_dims(image, axis=0)\n",
        "\n",
        "    cls_image = np.argmax(model.predict(image))\n",
        "    print(model.predict(image))\n",
        "\n",
        "    print(cls_image)"
      ],
      "metadata": {
        "id": "6JaQHQXEQ6xT"
      },
      "execution_count": 14,
      "outputs": []
    },
    {
      "cell_type": "code",
      "source": [
        "predict(img_path='/content/0-9/5.jpg', model_path='/content/drive/MyDrive/Neural_UN_Work/model.h5')\n",
        "plt.imshow(Image.open('/content/0-9/5.jpg'))\n",
        "plt.show()\n",
        "\n"
      ],
      "metadata": {
        "colab": {
          "base_uri": "https://localhost:8080/",
          "height": 600
        },
        "id": "tgiY3FFvRvb7",
        "outputId": "3e60a742-e6a7-4abf-b51e-1054dbfcba13"
      },
      "execution_count": 15,
      "outputs": [
        {
          "output_type": "display_data",
          "data": {
            "text/plain": [
              "<Figure size 432x288 with 1 Axes>"
            ],
            "image/png": "[encoded data removed]"
          },
          "metadata": {
            "needs_background": "light"
          }
        },
        {
          "output_type": "stream",
          "name": "stdout",
          "text": [
            "1/1 [==============================] - 0s 400ms/step\n",
            "1/1 [==============================] - 0s 18ms/step\n",
            "[[7.8105954e-22 3.0667158e-19 8.3112487e-17 3.5483325e-11 2.8047940e-15\n",
            "  1.0000000e+00 4.2830792e-18 4.9800010e-16 7.0995642e-15 1.3804576e-10]]\n",
            "5\n"
          ]
        },
        {
          "output_type": "display_data",
          "data": {
            "text/plain": [
              "<Figure size 432x288 with 1 Axes>"
            ],
            "image/png": "[encoded data removed]"
          },
          "metadata": {
            "needs_background": "light"
          }
        }
      ]
    },
    {
      "cell_type": "code",
      "source": [
        "from shutil import copyfile\n",
        "import os\n",
        "from zipfile import ZipFile as zip\n",
        "\n",
        "text_code = \"\"\" \n",
        "from PIL import Image\n",
        "import numpy as np\n",
        "from tensorflow.keras.models import load_model\n",
        "\n",
        "def predict(img_path='/content/0-9/9.jpg', model_path='/content/drive/MyDrive/Neural_UN_Work/model.h5'):\n",
        "    \n",
        "    model = load_model(model_path)\n",
        "\n",
        "    img_width, img_height = 28, 28\n",
        "\n",
        "    img = Image.open(img_path).convert('L').resize((img_height, img_width))\n",
        "    img = 255-np.array(img)\n",
        "\n",
        "    plt.imshow(img, cmap='gray')\n",
        "    plt.show()\n",
        "\n",
        "    image = img.reshape(28,28,1)\n",
        "    image = np.expand_dims(image, axis=0)\n",
        "\n",
        "    cls_image = np.argmax(model.predict(image))\n",
        " \"\"\"\n",
        "\n",
        "with open('script.py', 'w') as f: \n",
        "    f.write(text_code)\n",
        "\n",
        "for i in range(10):\n",
        "  copyfile(f'/content/0-9/{i}.jpg', f'/content/{i}.jpg')\n",
        "\n",
        "label_text = \"\"\" \n",
        "1\n",
        "2\n",
        "3\n",
        "4\n",
        "5\n",
        "6\n",
        "7\n",
        "8\n",
        "9\n",
        "0\n",
        "\"\"\"\n",
        "\n",
        "with open('label.txt', 'w') as f: \n",
        "    f.write(label_text)\n",
        "\n",
        "copyfile('/content/drive/MyDrive/Neural_UN_Work/model.h5', 'model.h5')\n",
        "\n",
        "filesForDemo = ['model.h5','label.txt','script.py',*[f'{x}.jpg' for x in range(10)]]\n",
        "\n",
        "zipForDemo = zip('/content/zipForDemo.zip','w')\n",
        "for f in filesForDemo:\n",
        "  if os.path.exists(f):\n",
        "    zipForDemo.write(f)\n",
        "    # print(f'{f} записан')\n",
        "  else:\n",
        "    print(f'файл {f} не существует')\n",
        "zipForDemo.close()\n"
      ],
      "metadata": {
        "id": "1WXAX5nnWATr"
      },
      "execution_count": 21,
      "outputs": []
    },
    {
      "cell_type": "code",
      "source": [
        "from google.colab import files\n",
        "files.download('/content/zipForDemo.zip')\n"
      ],
      "metadata": {
        "colab": {
          "base_uri": "https://localhost:8080/",
          "height": 18
        },
        "id": "ri-eW6DVqNZV",
        "outputId": "781ab4a0-ab69-47e5-fc35-9f1f5a3a4291"
      },
      "execution_count": 22,
      "outputs": [
        {
          "output_type": "display_data",
          "data": {
            "text/plain": [
              "<IPython.core.display.Javascript object>"
            ],
            "application/javascript": [
              "\n",
              "    async function download(id, filename, size) {\n",
              "      if (!google.colab.kernel.accessAllowed) {\n",
              "        return;\n",
              "      }\n",
              "      const div = document.createElement('div');\n",
              "      const label = document.createElement('label');\n",
              "      label.textContent = `Downloading \"${filename}\": `;\n",
              "      div.appendChild(label);\n",
              "      const progress = document.createElement('progress');\n",
              "      progress.max = size;\n",
              "      div.appendChild(progress);\n",
              "      document.body.appendChild(div);\n",
              "\n",
              "      const buffers = [];\n",
              "      let downloaded = 0;\n",
              "\n",
              "      const channel = await google.colab.kernel.comms.open(id);\n",
              "      // Send a message to notify the kernel that we're ready.\n",
              "      channel.send({})\n",
              "\n",
              "      for await (const message of channel.messages) {\n",
              "        // Send a message to notify the kernel that we're ready.\n",
              "        channel.send({})\n",
              "        if (message.buffers) {\n",
              "          for (const buffer of message.buffers) {\n",
              "            buffers.push(buffer);\n",
              "            downloaded += buffer.byteLength;\n",
              "            progress.value = downloaded;\n",
              "          }\n",
              "        }\n",
              "      }\n",
              "      const blob = new Blob(buffers, {type: 'application/binary'});\n",
              "      const a = document.createElement('a');\n",
              "      a.href = window.URL.createObjectURL(blob);\n",
              "      a.download = filename;\n",
              "      div.appendChild(a);\n",
              "      a.click();\n",
              "      div.remove();\n",
              "    }\n",
              "  "
            ]
          },
          "metadata": {}
        },
        {
          "output_type": "display_data",
          "data": {
            "text/plain": [
              "<IPython.core.display.Javascript object>"
            ],
            "application/javascript": [
              "download(\"download_9361b3f4-06c4-4299-9694-3c038198606a\", \"zipForDemo.zip\", 19485118)"
            ]
          },
          "metadata": {}
        }
      ]
    }
  ]
}