{
  "nbformat": 4,
  "nbformat_minor": 0,
  "metadata": {
    "colab": {
      "provenance": [],
      "include_colab_link": true
    },
    "kernelspec": {
      "name": "python3",
      "display_name": "Python 3"
    },
    "language_info": {
      "name": "python"
    },
    "gpuClass": "standard",
    "accelerator": "GPU"
  },
  "cells": [
    {
      "cell_type": "markdown",
      "metadata": {
        "id": "view-in-github",
        "colab_type": "text"
      },
      "source": [
        "<a href=\"https://colab.research.google.com/github/Igorvl/Projects/blob/master/%D0%9E%D0%B1%D1%80%D0%B0%D0%B1%D0%BE%D1%82%D0%BA%D0%B0_%D1%82%D0%B5%D0%BA%D1%81%D1%82%D0%BE%D0%B2_%D1%81_%D0%BF%D0%BE%D0%BC%D0%BE%D1%89%D1%8C%D1%8E_%D0%BD%D0%B5%D0%B9%D1%80%D0%BE%D0%BD%D0%BD%D1%8B%D1%85_%D1%81%D0%B5%D1%82%D0%B5%D0%B9_Lite.ipynb\" target=\"_parent\"><img src=\"https://colab.research.google.com/assets/colab-badge.svg\" alt=\"Open In Colab\"/></a>"
      ]
    },
    {
      "cell_type": "markdown",
      "metadata": {
        "id": "1YZ8VoAxmruT"
      },
      "source": [
        "Создать 9 нейросетей с различными параметрами словаря и гиперпараметрами нейронной сети. (см. пункт 2 и 3) \n",
        "\n",
        " Для этого:\n",
        "\n",
        "  1. Загрузить необходимую базу. https://storage.yandexcloud.net/aiueducation/Content/base/l7/writers.zip\n",
        "\n",
        "  2. Параметры размера словаря, ширины окна и шага:\n",
        "\n",
        "    - Размер словаря - от 10000 до 20000 (выбрать меньшее значение диапазона, если будет перегрузка ОЗУ и перезапуск подключения к Colaboratory)\n",
        "    - Ширина окна - от 1000 до 2000\n",
        "    - Шаг - от 100 до 500 (меньший шаг лучше для  обучения, но это может перегрузить ОЗУ).\n",
        "\n",
        "  3. Архитектура сети с гиперпараметрами. Можно воспользоваться шаблоном:\n",
        "  \n",
        "   - Модель прямого распространения **Sequential()**\n",
        "   - Один или несколько полносвязных (**Dense**) слоёв\n",
        "   - Слои **Dropout()** и **BatchNormalization()**\n",
        "   - Выходной полносвязный слой с количеством нейронов, соответствующим количеству классов (число писателей)\n",
        "  \n",
        "   Точность сети можно проверить по значению показателя 'val_accuracy' на конце каждой эпохи. \n",
        "   "
      ]
    },
    {
      "cell_type": "markdown",
      "metadata": {
        "id": "ky1AgGdguwwb"
      },
      "source": [
        "Загрузка библиотек и базы данных.\n",
        "\n",
        "Подключаем необходимые библиотеки и модули:"
      ]
    },
    {
      "cell_type": "code",
      "metadata": {
        "id": "E2_tU14GmA7r"
      },
      "source": [
        "# Работа с массивами данных\n",
        "import numpy as np \n",
        "\n",
        "# Функции-утилиты для работы с категориальными данными\n",
        "from tensorflow.keras import utils\n",
        "\n",
        "# Класс для конструирования последовательной модели нейронной сети\n",
        "from tensorflow.keras.models import Sequential\n",
        "\n",
        "# Основные слои\n",
        "from tensorflow.keras.layers import Dense, Dropout, BatchNormalization, Activation \n",
        "\n",
        "# Токенизатор для преобразование текстов в последовательности\n",
        "from tensorflow.keras.preprocessing.text import Tokenizer\n",
        "\n",
        "# Матрица ошибок классификатора\n",
        "from sklearn.metrics import confusion_matrix, ConfusionMatrixDisplay\n",
        "\n",
        "# Работа с google диском\n",
        "from google.colab import drive\n",
        "\n",
        "# Загрузка датасетов из облака google\n",
        "import gdown\n",
        "\n",
        "# Функции операционной системы\n",
        "import os\n",
        "\n",
        "# Регулярные выражения\n",
        "import re"
      ],
      "execution_count": 1,
      "outputs": []
    },
    {
      "cell_type": "markdown",
      "metadata": {
        "id": "S4WZ_WpXwkMb"
      },
      "source": [
        "Загрузка датасета с текстами писателей в виде архива и распаковка его в папку:"
      ]
    },
    {
      "cell_type": "code",
      "metadata": {
        "id": "wvMwi3yb_qRN",
        "colab": {
          "base_uri": "https://localhost:8080/"
        },
        "outputId": "7522317e-be32-40ef-cf7b-bbb3bf531d69"
      },
      "source": [
        "# Загрузка датасета из облака\n",
        "gdown.download('https://storage.yandexcloud.net/aiueducation/Content/base/l7/writers.zip', None, quiet=True)\n",
        "\n",
        "# Распаковка архива в папку writers\n",
        "!unzip -qo writers.zip -d writers/\n",
        "\n",
        "# Просмотр содержимого папки\n",
        "!ls writers"
      ],
      "execution_count": 2,
      "outputs": [
        {
          "output_type": "stream",
          "name": "stdout",
          "text": [
            "'(Булгаков) Обучающая_5 вместе.txt'\n",
            "'(Булгаков) Тестовая_2 вместе.txt'\n",
            "'(Клиффорд_Саймак) Обучающая_5 вместе.txt'\n",
            "'(Клиффорд_Саймак) Тестовая_2 вместе.txt'\n",
            "'(Макс Фрай) Обучающая_5 вместе.txt'\n",
            "'(Макс Фрай) Тестовая_2 вместе.txt'\n",
            "'(О. Генри) Обучающая_50 вместе.txt'\n",
            "'(О. Генри) Тестовая_20 вместе.txt'\n",
            "'(Рэй Брэдберри) Обучающая_22 вместе.txt'\n",
            "'(Рэй Брэдберри) Тестовая_8 вместе.txt'\n",
            "'(Стругацкие) Обучающая_5 вместе.txt'\n",
            "'(Стругацкие) Тестовая_2 вместе.txt'\n"
          ]
        }
      ]
    },
    {
      "cell_type": "markdown",
      "metadata": {
        "id": "v3lnuZ2XxDjf"
      },
      "source": [
        "Сохранение в отдельных переменных:\n",
        "\n",
        "   - Имя для папки с текстами\n",
        "   - Название выборки \"обучающая\"\n",
        "   - Название выборки \"тестовая\""
      ]
    },
    {
      "cell_type": "code",
      "metadata": {
        "id": "0o6vKYPJxECB"
      },
      "source": [
        "# Папка с текстовыми файлами\n",
        "FILE_DIR  = 'writers'\n",
        "\n",
        "# Признак обучающей выборки в имени файла                     \n",
        "SIG_TRAIN = 'обучающая'\n",
        "\n",
        "# Признак тестовой выборки в имени файла                   \n",
        "SIG_TEST  = 'тестовая'                    "
      ],
      "execution_count": 3,
      "outputs": []
    },
    {
      "cell_type": "markdown",
      "metadata": {
        "id": "edtkKOhDx9dw"
      },
      "source": [
        "**Шаг 2.** Преобразование базы данных для обучения.\n",
        "\n",
        "Добавление имен всех писателей в список классов.\n",
        "\n",
        "Преобразование текстов в одну длинную строку и разбиение их отдельно в списки для каждого класса и выборки."
      ]
    },
    {
      "cell_type": "code",
      "metadata": {
        "id": "wa_wqREXx2M7",
        "colab": {
          "base_uri": "https://localhost:8080/"
        },
        "outputId": "9f513825-92e2-4249-a286-2649e6b370a9"
      },
      "source": [
        "# В список добавляются имена классов\n",
        "CLASS_LIST = []\n",
        "\n",
        "# Здесь сохраняются тексты для обучения сети\n",
        "text_train = []\n",
        "\n",
        "# А здесь для проверки точности сети\n",
        "text_test = []\n",
        " \n",
        "# цикл для итерации по каждому имени текста в общей папке\n",
        "for file_name in os.listdir(FILE_DIR):\n",
        "\n",
        "    # Выделение имени класса и типа выборки из имени файла\n",
        "    m = re.match('\\((.+)\\) (\\S+)_', file_name)\n",
        "\n",
        "    # Если выделение получилось, то файл обрабатывается\n",
        "    if m:\n",
        "\n",
        "        # отдельно берём имя класса (автора)\n",
        "        class_name = m[1]\n",
        "\n",
        "        # отдельно - имя выборки\n",
        "        subset_name = m[2].lower()\n",
        "\n",
        "        # Проверка типа выборки по названию в имени файла\n",
        "        is_train = SIG_TRAIN in subset_name\n",
        "        is_test = SIG_TEST in subset_name\n",
        "\n",
        "        # Если тип выборки обучающая или тестовая - файл обрабатывается\n",
        "        if is_train or is_test:\n",
        "\n",
        "            # Добавление нового класса, если его еще нет в списке\n",
        "            if class_name not in CLASS_LIST:\n",
        "\n",
        "                # Выводится информационное сообщение о добавлении названия класса\n",
        "                CLASS_LIST.append(class_name)\n",
        "\n",
        "                # Инициализация соответствующих классу строк текста\n",
        "                text_train.append('')\n",
        "                text_test.append('')\n",
        "\n",
        "            # Поиск индекса класса для добавления содержимого файла в выборку\n",
        "            cls = CLASS_LIST.index(class_name)\n",
        "\n",
        "            # Выводится информационное сообщение о добавлении класса в список классов и текста к выборке\n",
        "            print(f'Добавление файла \"{file_name}\" в класс \"{CLASS_LIST[cls]}\", {subset_name} выборка.')\n",
        "\n",
        "            # оператор with - безопасное чтение каждого файла с текстом\n",
        "            with open(f'{FILE_DIR}/{file_name}', 'r') as f:\n",
        "\n",
        "                # Загрузка содержимого файла в строку\n",
        "                text = f.read()\n",
        "\n",
        "            # Определение выборки, куда будет добавлено содержимое\n",
        "            subset = text_train if is_train else text_test\n",
        "\n",
        "            # Добавление текста к соответствующей выборке класса. Концы строк заменяются на пробел\n",
        "            subset[cls] += ' ' + text.replace('\\n', ' ')\n",
        "            \n",
        "# Определим кол-во классов\n",
        "CLASS_COUNT = len(CLASS_LIST)"
      ],
      "execution_count": 4,
      "outputs": [
        {
          "output_type": "stream",
          "name": "stdout",
          "text": [
            "Добавление файла \"(Стругацкие) Тестовая_2 вместе.txt\" в класс \"Стругацкие\", тестовая выборка.\n",
            "Добавление файла \"(Клиффорд_Саймак) Обучающая_5 вместе.txt\" в класс \"Клиффорд_Саймак\", обучающая выборка.\n",
            "Добавление файла \"(Булгаков) Тестовая_2 вместе.txt\" в класс \"Булгаков\", тестовая выборка.\n",
            "Добавление файла \"(О. Генри) Тестовая_20 вместе.txt\" в класс \"О. Генри\", тестовая выборка.\n",
            "Добавление файла \"(Рэй Брэдберри) Тестовая_8 вместе.txt\" в класс \"Рэй Брэдберри\", тестовая выборка.\n",
            "Добавление файла \"(Макс Фрай) Тестовая_2 вместе.txt\" в класс \"Макс Фрай\", тестовая выборка.\n",
            "Добавление файла \"(Стругацкие) Обучающая_5 вместе.txt\" в класс \"Стругацкие\", обучающая выборка.\n",
            "Добавление файла \"(Булгаков) Обучающая_5 вместе.txt\" в класс \"Булгаков\", обучающая выборка.\n",
            "Добавление файла \"(О. Генри) Обучающая_50 вместе.txt\" в класс \"О. Генри\", обучающая выборка.\n",
            "Добавление файла \"(Макс Фрай) Обучающая_5 вместе.txt\" в класс \"Макс Фрай\", обучающая выборка.\n",
            "Добавление файла \"(Клиффорд_Саймак) Тестовая_2 вместе.txt\" в класс \"Клиффорд_Саймак\", тестовая выборка.\n",
            "Добавление файла \"(Рэй Брэдберри) Обучающая_22 вместе.txt\" в класс \"Рэй Брэдберри\", обучающая выборка.\n"
          ]
        }
      ]
    },
    {
      "cell_type": "markdown",
      "metadata": {
        "id": "e6KFkTkYyq1y"
      },
      "source": [
        "Подготовка текстовой инфрмации для обработки Токенайзером. Для этого сохрание в подходящих именах переменных со следующим параметрами:\n",
        "\n",
        "   - Объем словаря для токенизатора\n",
        "   - Длина отрезка текста (окна) в словах\n",
        "   - Шаг смещения окна по тексту для деления на векторы\n",
        "\n",
        "И затем вызов самого Токенайзера, передав в его параметры эти переменные и оставшиеся значения для преобразования."
      ]
    },
    {
      "cell_type": "code",
      "metadata": {
        "id": "OruBwLqkyrLt"
      },
      "source": [
        "# Объем словаря для токенизатора\n",
        "VOCAB_SIZE = 15000\n",
        "\n",
        "# Длина отрезка текста (окна) в словах                        \n",
        "WIN_SIZE   = 3000\n",
        "\n",
        "# Шаг окна разбиения текста на векторы                         \n",
        "WIN_HOP    = 300                          \n",
        "\n",
        "# Токенайзер из Keras для разбиения текста и построения частотного словаря\n",
        "tokenizer = Tokenizer(num_words=VOCAB_SIZE, filters='!\"#$%&()*+,-–—./…:;<=>?@[\\\\]^_`{|}~«»\\t\\n\\xa0\\ufeff', \n",
        "                          lower=True, split=' ', oov_token='неизвестное_слово', char_level=False)"
      ],
      "execution_count": 9,
      "outputs": []
    },
    {
      "cell_type": "markdown",
      "metadata": {
        "id": "NS7TUrrz1M-9"
      },
      "source": [
        "Отдельно обучение самого Токенайзера на выборке текстов для обучения сети:\n"
      ]
    },
    {
      "cell_type": "code",
      "metadata": {
        "id": "skrycupq1Moi"
      },
      "source": [
        "# Получаем словарь частотности \n",
        "tokenizer.fit_on_texts(text_train)"
      ],
      "execution_count": 10,
      "outputs": []
    },
    {
      "cell_type": "markdown",
      "metadata": {
        "id": "n4YC49gT-284"
      },
      "source": [
        "Преобразование обучающих и проверочных текстов в последовательность индексов согласно частотному словарю Токенайзера:"
      ]
    },
    {
      "cell_type": "code",
      "metadata": {
        "id": "6V1IUpSY-_4M"
      },
      "source": [
        "seq_train = tokenizer.texts_to_sequences(text_train)\n",
        "seq_test = tokenizer.texts_to_sequences(text_test)"
      ],
      "execution_count": 11,
      "outputs": []
    },
    {
      "cell_type": "markdown",
      "metadata": {
        "id": "56gEAIUZ1eQ6"
      },
      "source": [
        "**Шаг 3.** Создание функций для формирования выборок. Формирование выборок.\n",
        "\n",
        "Воспроизведение блока кода с двумя функциями:\n",
        "\n",
        "  1. Функция деления последовательности индексов на отрезки скользящим окном"
      ]
    },
    {
      "cell_type": "code",
      "metadata": {
        "id": "lxJIXy9E1dv2"
      },
      "source": [
        "def split_sequence(sequence,   # Последовательность индексов\n",
        "                   win_size,   # Размер окна для деления на примеры\n",
        "                   hop):       # Шаг окна\n",
        "\n",
        "    # Последовательность разбивается на части до последнего полного окна\n",
        "    return [sequence[i:i + win_size] for i in range(0, len(sequence) - win_size + 1, hop)]"
      ],
      "execution_count": null,
      "outputs": []
    },
    {
      "cell_type": "markdown",
      "metadata": {
        "id": "hGSCHmlyOXhc"
      },
      "source": [
        " 2. Функция формирования выборок из индексов и соответствующих классам меток в формате One Hot Encoding"
      ]
    },
    {
      "cell_type": "code",
      "metadata": {
        "id": "M-s7ZBCCOYg6"
      },
      "source": [
        "def vectorize_sequence(seq_list,    # Список последовательностей индексов \n",
        "                       win_size,    # Размер окна для деления на примеры\n",
        "                       hop):        # Шаг окна\n",
        "\n",
        "    # В списке последовательности следуют в порядке их классов (их кол-во сповпадает с кол-вом классов)\n",
        "    class_count = len(seq_list)\n",
        "\n",
        "    # Списки для исходных векторов и категориальных меток класса\n",
        "    x, y = [], []\n",
        "\n",
        "    # Для каждого класса:\n",
        "    for cls in range(class_count):\n",
        "\n",
        "        # Разбиение последовательности класса cls на отрезки\n",
        "        vectors = split_sequence(seq_list[cls], win_size, hop)\n",
        "\n",
        "        # Добавление отрезков в выборку\n",
        "\n",
        "        x += vectors\n",
        "        \n",
        "        # Для всех отрезков класса cls добавление меток класса в виде OHE\n",
        "        y += [utils.to_categorical(cls, class_count)] * len(vectors)\n",
        "\n",
        "    # Возврат результатов как numpy-массивов\n",
        "    return np.array(x), np.array(y)"
      ],
      "execution_count": null,
      "outputs": []
    },
    {
      "cell_type": "markdown",
      "metadata": {
        "id": "X6UIcMij2v6Y"
      },
      "source": [
        "Формирование выборки (x_train, y_train) и (x_test, y_test) с помощью функций, воспроизведённых в ячейке выше:"
      ]
    },
    {
      "cell_type": "code",
      "metadata": {
        "id": "-TlOfvwa2vgc",
        "colab": {
          "base_uri": "https://localhost:8080/"
        },
        "outputId": "ab99bec6-4e81-49e8-fa03-de085125b9c0"
      },
      "source": [
        "# Формирование обучающей выборки\n",
        "x_train, y_train = vectorize_sequence(seq_train, WIN_SIZE, WIN_HOP) \n",
        "# Формирование тестовой выборки\n",
        "x_test, y_test = vectorize_sequence(seq_test, WIN_SIZE, WIN_HOP)\n",
        "\n",
        "# Проверка формы сформированных данных\n",
        "print(x_train.shape, y_train.shape)\n",
        "print(x_test.shape, y_test.shape)"
      ],
      "execution_count": null,
      "outputs": [
        {
          "output_type": "stream",
          "name": "stdout",
          "text": [
            "(5842, 3000) (5842, 6)\n",
            "(2190, 3000) (2190, 6)\n"
          ]
        }
      ]
    },
    {
      "cell_type": "markdown",
      "metadata": {
        "id": "jiiOXgiX3UFK"
      },
      "source": [
        "Формирование выборки индексов слов в виде матриц Bag Of Words методом  **sequences_to_matrix( )**. "
      ]
    },
    {
      "cell_type": "code",
      "metadata": {
        "id": "TvpEhEXm36F3",
        "colab": {
          "base_uri": "https://localhost:8080/"
        },
        "outputId": "9ab0ba5b-4e8e-415e-fda4-c4860209d222"
      },
      "source": [
        "# На входе .sequences_to_matrix() ожидает список, .tolist() выполняет преобразование к типу данных 'список'\n",
        "x_train_01 = tokenizer.sequences_to_matrix(x_train.tolist())\n",
        "x_test_01 = tokenizer.sequences_to_matrix(x_test.tolist())\n",
        "\n",
        "# Выводим форму обучающей выборки в виде матрицы Bag of Words\n",
        "print(x_train_01.shape)       \n",
        "# Выводим фрагмент отрезка обучающего текста в виде Bag of Words\n",
        "print(x_train_01[0][0:100])"
      ],
      "execution_count": null,
      "outputs": [
        {
          "output_type": "stream",
          "name": "stdout",
          "text": [
            "(5842, 15000)\n",
            "[0. 1. 1. 1. 1. 1. 1. 1. 1. 1. 1. 1. 1. 1. 1. 1. 1. 1. 1. 1. 1. 1. 1. 1.\n",
            " 1. 1. 1. 1. 1. 1. 1. 1. 1. 1. 1. 1. 1. 1. 1. 1. 1. 1. 1. 1. 1. 1. 1. 1.\n",
            " 1. 1. 1. 1. 1. 1. 1. 1. 1. 0. 1. 1. 1. 1. 1. 1. 1. 0. 1. 1. 1. 1. 1. 1.\n",
            " 1. 0. 1. 1. 1. 1. 1. 1. 1. 1. 0. 1. 1. 1. 1. 1. 1. 1. 0. 1. 1. 1. 1. 1.\n",
            " 1. 1. 1. 1.]\n"
          ]
        }
      ]
    },
    {
      "cell_type": "markdown",
      "metadata": {
        "id": "DfVgSybU4inE"
      },
      "source": [
        "**Шаг 4.** Создание архитектуры нейронной сети.\n",
        "\n",
        "Создайте несложную архитектуру нейронной сети. После этого произведите компиляцию модели с соответствующими параметрами:"
      ]
    },
    {
      "cell_type": "code",
      "metadata": {
        "id": "4B2O7ZCq4jXf"
      },
      "source": [
        "model_BoW = Sequential()                                            # Создание последовательной модели нейросети\n",
        "model_BoW.add(Dense(184, input_dim=VOCAB_SIZE, activation=\"relu\"))  # Первый полносвязный слой\n",
        "model_BoW.add(Dense(86, activation=\"relu\"))                         # Второй полносвязный слой\n",
        "model_BoW.add(Dense(33, activation=\"relu\"))                         # Третий полносвязный слой\n",
        "model_BoW.add(BatchNormalization())                                 # Слой пакетной нормализации\n",
        "model_BoW.add(Dropout(0.1))                                         # Слой регуляризации Dropout\n",
        "model_BoW.add(Dense(CLASS_COUNT, activation='sigmoid'))             # Выходной полносвязный слой\n",
        "\n",
        "model_BoW.compile(optimizer='adam',                                 # Компиляция модели для обучения на данных вида Bag of Words\n",
        "              loss='categorical_crossentropy', \n",
        "              metrics=['accuracy'])"
      ],
      "execution_count": null,
      "outputs": []
    },
    {
      "cell_type": "markdown",
      "metadata": {
        "id": "uyLd3_uS58Zv"
      },
      "source": [
        "Обучите модель нейронной сети и посмотрите на результаты точности на проверочной выборке:"
      ]
    },
    {
      "cell_type": "code",
      "metadata": {
        "id": "wmiVZ4Ip572-",
        "colab": {
          "base_uri": "https://localhost:8080/"
        },
        "outputId": "b8837c10-c28a-4f2c-c4a4-d6776c182293"
      },
      "source": [
        "# Обучение сети с помощью функции fit()\n",
        "history = model_BoW.fit(x_train_01,                            # Обучающая выборка Bag of Words\n",
        "                        y_train,                               # Метки классов обучающей выборки\n",
        "                        epochs=20,                             # Количество эпох\n",
        "                        batch_size=32,                         # Размер подвыборки для одного шага по данным на эпохе\n",
        "                        validation_data=(x_test_01, y_test))   # Проверочная выборка и метки классов проверочной выборки"
      ],
      "execution_count": null,
      "outputs": [
        {
          "output_type": "stream",
          "name": "stdout",
          "text": [
            "Epoch 1/20\n",
            "183/183 [==============================] - 6s 28ms/step - loss: 0.1087 - accuracy: 0.9798 - val_loss: 0.3222 - val_accuracy: 0.9457\n",
            "Epoch 2/20\n",
            "183/183 [==============================] - 4s 24ms/step - loss: 0.0071 - accuracy: 1.0000 - val_loss: 0.3091 - val_accuracy: 0.9416\n",
            "Epoch 3/20\n",
            "183/183 [==============================] - 4s 23ms/step - loss: 0.0036 - accuracy: 1.0000 - val_loss: 0.3145 - val_accuracy: 0.9311\n",
            "Epoch 4/20\n",
            "183/183 [==============================] - 4s 23ms/step - loss: 0.0021 - accuracy: 1.0000 - val_loss: 0.3007 - val_accuracy: 0.9292\n",
            "Epoch 5/20\n",
            "183/183 [==============================] - 4s 23ms/step - loss: 0.0013 - accuracy: 1.0000 - val_loss: 0.2501 - val_accuracy: 0.9475\n",
            "Epoch 6/20\n",
            "183/183 [==============================] - 4s 23ms/step - loss: 8.5893e-04 - accuracy: 1.0000 - val_loss: 0.2930 - val_accuracy: 0.9242\n",
            "Epoch 7/20\n",
            "183/183 [==============================] - 4s 23ms/step - loss: 6.7804e-04 - accuracy: 1.0000 - val_loss: 0.2628 - val_accuracy: 0.9352\n",
            "Epoch 8/20\n",
            "183/183 [==============================] - 4s 24ms/step - loss: 5.5410e-04 - accuracy: 1.0000 - val_loss: 0.2456 - val_accuracy: 0.9402\n",
            "Epoch 9/20\n",
            "183/183 [==============================] - 4s 24ms/step - loss: 4.2347e-04 - accuracy: 1.0000 - val_loss: 0.2558 - val_accuracy: 0.9370\n",
            "Epoch 10/20\n",
            "183/183 [==============================] - 4s 23ms/step - loss: 3.3909e-04 - accuracy: 1.0000 - val_loss: 0.2431 - val_accuracy: 0.9379\n",
            "Epoch 11/20\n",
            "183/183 [==============================] - 4s 23ms/step - loss: 2.9749e-04 - accuracy: 1.0000 - val_loss: 0.2575 - val_accuracy: 0.9347\n",
            "Epoch 12/20\n",
            "183/183 [==============================] - 4s 24ms/step - loss: 2.8157e-04 - accuracy: 1.0000 - val_loss: 0.2684 - val_accuracy: 0.9247\n",
            "Epoch 13/20\n",
            "183/183 [==============================] - 4s 24ms/step - loss: 1.9074e-04 - accuracy: 1.0000 - val_loss: 0.2204 - val_accuracy: 0.9443\n",
            "Epoch 14/20\n",
            "183/183 [==============================] - 4s 24ms/step - loss: 1.8844e-04 - accuracy: 1.0000 - val_loss: 0.2454 - val_accuracy: 0.9292\n",
            "Epoch 15/20\n",
            "183/183 [==============================] - 4s 25ms/step - loss: 1.3298e-04 - accuracy: 1.0000 - val_loss: 0.2283 - val_accuracy: 0.9324\n",
            "Epoch 16/20\n",
            "183/183 [==============================] - 4s 24ms/step - loss: 1.3440e-04 - accuracy: 1.0000 - val_loss: 0.2103 - val_accuracy: 0.9466\n",
            "Epoch 17/20\n",
            "183/183 [==============================] - 6s 32ms/step - loss: 1.1609e-04 - accuracy: 1.0000 - val_loss: 0.2473 - val_accuracy: 0.9256\n",
            "Epoch 18/20\n",
            "183/183 [==============================] - 4s 23ms/step - loss: 9.1092e-05 - accuracy: 1.0000 - val_loss: 0.2067 - val_accuracy: 0.9457\n",
            "Epoch 19/20\n",
            "183/183 [==============================] - 4s 24ms/step - loss: 9.6504e-05 - accuracy: 1.0000 - val_loss: 0.2138 - val_accuracy: 0.9416\n",
            "Epoch 20/20\n",
            "183/183 [==============================] - 4s 23ms/step - loss: 8.5369e-05 - accuracy: 1.0000 - val_loss: 0.2250 - val_accuracy: 0.9347\n"
          ]
        }
      ]
    },
    {
      "cell_type": "markdown",
      "source": [
        "Создать 9 нейросетей с различными параметрами словаря и гиперпараметрами нейронной сети.\n",
        "\n",
        "Параметры размера словаря, ширины окна и шага:\n",
        "- Размер словаря - от 10000 до 20000 (выбрать меньшее \n",
        "значение диапазона, если будет перегрузка ОЗУ и перезапуск подключения к Colaboratory)\n",
        "- Ширина окна - от 1000 до 2000\n",
        "- Шаг - от 100 до 500 (меньший шаг лучше для обучения, но это может перегрузить ОЗУ).\n",
        "\n",
        "\n",
        "\n",
        "\n",
        "Архитектура сети с гиперпараметрами:\n",
        "- Модель прямого распространения Sequential()\n",
        "- Один или несколько полносвязных (Dense) слоёв\n",
        "- Слои Dropout() и BatchNormalization()\n",
        "- Выходной полносвязный слой с количеством нейронов, соответствующим количеству классов (число писателей)\n",
        "Точность сети проверить по значению показателя 'val_accuracy'."
      ],
      "metadata": {
        "id": "jWyYhPs53ys2"
      }
    },
    {
      "cell_type": "markdown",
      "metadata": {
        "id": "SJD9POc6tYpB"
      },
      "source": [
        "Запишите результаты в таблицу:"
      ]
    },
    {
      "cell_type": "code",
      "metadata": {
        "id": "aHuhzwFVtZIc",
        "colab": {
          "base_uri": "https://localhost:8080/"
        },
        "outputId": "24ad2d93-1b2c-49e3-ca4d-bad364a35438"
      },
      "source": [
        "\n",
        "# Ваше задание здесь\n",
        "import pandas as pd\n",
        "\n",
        "CLASS_COUNT = len(CLASS_LIST)\n",
        "VOCAB_SIZE = [10000, 15000]                      \n",
        "WIN_SIZE = [1000, 2000]                       \n",
        "WIN_HOP = [200, 500]\n",
        "table = pd.DataFrame()   \n",
        "\n",
        "def split_sequence(sequence, win_size, hop):\n",
        "    return [sequence[i:i + win_size] for i in range(0, len(sequence) - win_size + 1, hop)]\n",
        "\n",
        "def vectorize_sequence(seq_list, win_size, hop):\n",
        "    class_count = len(seq_list)\n",
        "    x, y = [], []\n",
        "    \n",
        "    for cls in range(class_count):\n",
        "        vectors = split_sequence(seq_list[cls], win_size, hop)\n",
        "        x += vectors\n",
        "        y += [utils.to_categorical(cls, class_count)] * len(vectors)\n",
        "\n",
        "    return np.array(x), np.array(y)\n",
        "\n",
        "\n",
        "for i in VOCAB_SIZE:\n",
        "  for j in WIN_SIZE:\n",
        "    for k in WIN_HOP:\n",
        "      for l in [True, False]:\n",
        "        tokenizer = Tokenizer(num_words=i, filters='!\"#$%&()*+,-–—./…:;<=>?@[\\\\]^_`{|}~«»\\t\\n\\xa0\\ufeff', \n",
        "                            lower=True, split=' ', oov_token='неизвестное_слово', char_level=False)\n",
        "        \n",
        "        tokenizer.fit_on_texts(text_train)\n",
        "\n",
        "        seq_train = tokenizer.texts_to_sequences(text_train)\n",
        "        seq_test = tokenizer.texts_to_sequences(text_test)\n",
        "\n",
        "        x_train, y_train = vectorize_sequence(seq_train, j, k) \n",
        "        x_test, y_test = vectorize_sequence(seq_test, j, k)\n",
        "\n",
        "        x_train_01 = tokenizer.sequences_to_matrix(x_train.tolist())\n",
        "        x_test_01 = tokenizer.sequences_to_matrix(x_test.tolist())\n",
        "\n",
        "        model_BoW = Sequential()\n",
        "        model_BoW.add(Dense(256, input_dim=i, activation=\"relu\"))\n",
        "        if l:\n",
        "          model_BoW.add(Dense(128, activation=\"relu\"))\n",
        "        model_BoW.add(Dense(32, activation=\"relu\"))\n",
        "        model_BoW.add(BatchNormalization())\n",
        "        model_BoW.add(Dropout(0.1))\n",
        "        model_BoW.add(Dense(CLASS_COUNT, activation='sigmoid'))\n",
        "\n",
        "        model_BoW.compile(optimizer='adam', loss='categorical_crossentropy', metrics=['accuracy'])\n",
        "\n",
        "        history = model_BoW.fit(x_train_01, y_train, epochs=10, batch_size=64, \n",
        "                                validation_data=(x_test_01, y_test), verbose=0)\n",
        "\n",
        "\n",
        "        valAccMaxInd = np.argmax(history.history['val_accuracy'])\n",
        "        # print(history.history)\n",
        "        lossMax = history.history['loss'][valAccMaxInd]\n",
        "        accMax = history.history['accuracy'][valAccMaxInd]\n",
        "        valLossMax = history.history['val_loss'][valAccMaxInd]\n",
        "        valAccMax = history.history['val_accuracy'][valAccMaxInd]\n",
        "\n",
        "        print(np.argmax(history.history['val_accuracy']))\n",
        "\n",
        "\n",
        "        historySrs = pd.Series([lossMax,accMax,valLossMax,valAccMax],\n",
        "                              index=['loss','accuracy','val_loss','val_accuracy'])\n",
        "\n",
        "        print(f'{historySrs}')\n",
        "        table[f'VOCAB_SIZE:{i} WIN_SIZE:{j} WIN_HOP:{k} Sec_Dence:{l}'] = historySrs\n",
        "\n",
        "table\n",
        "print(f'Вывод: Лучший результат {round(table[table.idxmax(axis=\"columns\")[3]][\"val_accuracy\"], 2)}% при параметрах {table.idxmax(axis=\"columns\")[3]}')"
      ],
      "execution_count": 31,
      "outputs": [
        {
          "output_type": "stream",
          "name": "stdout",
          "text": [
            "1\n",
            "loss            0.008170\n",
            "accuracy        1.000000\n",
            "val_loss        0.356853\n",
            "val_accuracy    0.892344\n",
            "dtype: float64\n",
            "6\n",
            "loss            0.000779\n",
            "accuracy        1.000000\n",
            "val_loss        0.311713\n",
            "val_accuracy    0.904007\n",
            "dtype: float64\n",
            "9\n",
            "loss            0.001868\n",
            "accuracy        1.000000\n",
            "val_loss        0.346826\n",
            "val_accuracy    0.880597\n",
            "dtype: float64\n",
            "4\n",
            "loss            0.007030\n",
            "accuracy        1.000000\n",
            "val_loss        0.386472\n",
            "val_accuracy    0.895522\n",
            "dtype: float64\n",
            "8\n",
            "loss            0.000540\n",
            "accuracy        1.000000\n",
            "val_loss        0.274876\n",
            "val_accuracy    0.910380\n",
            "dtype: float64\n",
            "2\n",
            "loss            0.003198\n",
            "accuracy        1.000000\n",
            "val_loss        0.309340\n",
            "val_accuracy    0.924261\n",
            "dtype: float64\n",
            "3\n",
            "loss            0.006167\n",
            "accuracy        1.000000\n",
            "val_loss        0.333777\n",
            "val_accuracy    0.925452\n",
            "dtype: float64\n",
            "5\n",
            "loss            0.003615\n",
            "accuracy        1.000000\n",
            "val_loss        0.331446\n",
            "val_accuracy    0.923946\n",
            "dtype: float64\n",
            "2\n",
            "loss            0.003075\n",
            "accuracy        1.000000\n",
            "val_loss        0.377007\n",
            "val_accuracy    0.890550\n",
            "dtype: float64\n",
            "6\n",
            "loss            0.000819\n",
            "accuracy        1.000000\n",
            "val_loss        0.352050\n",
            "val_accuracy    0.885467\n",
            "dtype: float64\n",
            "7\n",
            "loss            0.002601\n",
            "accuracy        1.000000\n",
            "val_loss        0.305266\n",
            "val_accuracy    0.922388\n",
            "dtype: float64\n",
            "5\n",
            "loss            0.005212\n",
            "accuracy        1.000000\n",
            "val_loss        0.382290\n",
            "val_accuracy    0.902985\n",
            "dtype: float64\n",
            "9\n",
            "loss            0.000236\n",
            "accuracy        1.000000\n",
            "val_loss        0.235395\n",
            "val_accuracy    0.936331\n",
            "dtype: float64\n",
            "1\n",
            "loss            0.005818\n",
            "accuracy        1.000000\n",
            "val_loss        0.324639\n",
            "val_accuracy    0.930597\n",
            "dtype: float64\n",
            "0\n",
            "loss            0.214007\n",
            "accuracy        0.948281\n",
            "val_loss        0.401501\n",
            "val_accuracy    0.907380\n",
            "dtype: float64\n",
            "2\n",
            "loss            0.008708\n",
            "accuracy        1.000000\n",
            "val_loss        0.299937\n",
            "val_accuracy    0.957831\n",
            "dtype: float64\n",
            "Вывод: Лучший результат 0.96% при параметрах VOCAB_SIZE:15000 WIN_SIZE:2000 WIN_HOP:500 Sec_Dence:False\n"
          ]
        }
      ]
    },
    {
      "cell_type": "code",
      "source": [
        "table"
      ],
      "metadata": {
        "colab": {
          "base_uri": "https://localhost:8080/",
          "height": 291
        },
        "id": "Y4OuFzfY8qkv",
        "outputId": "39b7edec-4ee8-446d-bdd8-f51616b6ec19"
      },
      "execution_count": 33,
      "outputs": [
        {
          "output_type": "execute_result",
          "data": {
            "text/plain": [
              "              VOCAB_SIZE:10000 WIN_SIZE:1000 WIN_HOP:200 Sec_Dence:True  \\\n",
              "loss                                                   0.008170           \n",
              "accuracy                                               1.000000           \n",
              "val_loss                                               0.356853           \n",
              "val_accuracy                                           0.892344           \n",
              "\n",
              "              VOCAB_SIZE:10000 WIN_SIZE:1000 WIN_HOP:200 Sec_Dence:False  \\\n",
              "loss                                                   0.000779            \n",
              "accuracy                                               1.000000            \n",
              "val_loss                                               0.311713            \n",
              "val_accuracy                                           0.904007            \n",
              "\n",
              "              VOCAB_SIZE:10000 WIN_SIZE:1000 WIN_HOP:500 Sec_Dence:True  \\\n",
              "loss                                                   0.001868           \n",
              "accuracy                                               1.000000           \n",
              "val_loss                                               0.346826           \n",
              "val_accuracy                                           0.880597           \n",
              "\n",
              "              VOCAB_SIZE:10000 WIN_SIZE:1000 WIN_HOP:500 Sec_Dence:False  \\\n",
              "loss                                                   0.007030            \n",
              "accuracy                                               1.000000            \n",
              "val_loss                                               0.386472            \n",
              "val_accuracy                                           0.895522            \n",
              "\n",
              "              VOCAB_SIZE:10000 WIN_SIZE:2000 WIN_HOP:200 Sec_Dence:True  \\\n",
              "loss                                                   0.000540           \n",
              "accuracy                                               1.000000           \n",
              "val_loss                                               0.274876           \n",
              "val_accuracy                                           0.910380           \n",
              "\n",
              "              VOCAB_SIZE:10000 WIN_SIZE:2000 WIN_HOP:200 Sec_Dence:False  \\\n",
              "loss                                                   0.003198            \n",
              "accuracy                                               1.000000            \n",
              "val_loss                                               0.309340            \n",
              "val_accuracy                                           0.924261            \n",
              "\n",
              "              VOCAB_SIZE:10000 WIN_SIZE:2000 WIN_HOP:500 Sec_Dence:True  \\\n",
              "loss                                                   0.006167           \n",
              "accuracy                                               1.000000           \n",
              "val_loss                                               0.333777           \n",
              "val_accuracy                                           0.925452           \n",
              "\n",
              "              VOCAB_SIZE:10000 WIN_SIZE:2000 WIN_HOP:500 Sec_Dence:False  \\\n",
              "loss                                                   0.003615            \n",
              "accuracy                                               1.000000            \n",
              "val_loss                                               0.331446            \n",
              "val_accuracy                                           0.923946            \n",
              "\n",
              "              VOCAB_SIZE:15000 WIN_SIZE:1000 WIN_HOP:200 Sec_Dence:True  \\\n",
              "loss                                                   0.003075           \n",
              "accuracy                                               1.000000           \n",
              "val_loss                                               0.377007           \n",
              "val_accuracy                                           0.890550           \n",
              "\n",
              "              VOCAB_SIZE:15000 WIN_SIZE:1000 WIN_HOP:200 Sec_Dence:False  \\\n",
              "loss                                                   0.000819            \n",
              "accuracy                                               1.000000            \n",
              "val_loss                                               0.352050            \n",
              "val_accuracy                                           0.885467            \n",
              "\n",
              "              VOCAB_SIZE:15000 WIN_SIZE:1000 WIN_HOP:500 Sec_Dence:True  \\\n",
              "loss                                                   0.002601           \n",
              "accuracy                                               1.000000           \n",
              "val_loss                                               0.305266           \n",
              "val_accuracy                                           0.922388           \n",
              "\n",
              "              VOCAB_SIZE:15000 WIN_SIZE:1000 WIN_HOP:500 Sec_Dence:False  \\\n",
              "loss                                                   0.005212            \n",
              "accuracy                                               1.000000            \n",
              "val_loss                                               0.382290            \n",
              "val_accuracy                                           0.902985            \n",
              "\n",
              "              VOCAB_SIZE:15000 WIN_SIZE:2000 WIN_HOP:200 Sec_Dence:True  \\\n",
              "loss                                                   0.000236           \n",
              "accuracy                                               1.000000           \n",
              "val_loss                                               0.235395           \n",
              "val_accuracy                                           0.936331           \n",
              "\n",
              "              VOCAB_SIZE:15000 WIN_SIZE:2000 WIN_HOP:200 Sec_Dence:False  \\\n",
              "loss                                                   0.005818            \n",
              "accuracy                                               1.000000            \n",
              "val_loss                                               0.324639            \n",
              "val_accuracy                                           0.930597            \n",
              "\n",
              "              VOCAB_SIZE:15000 WIN_SIZE:2000 WIN_HOP:500 Sec_Dence:True  \\\n",
              "loss                                                   0.214007           \n",
              "accuracy                                               0.948281           \n",
              "val_loss                                               0.401501           \n",
              "val_accuracy                                           0.907380           \n",
              "\n",
              "              VOCAB_SIZE:15000 WIN_SIZE:2000 WIN_HOP:500 Sec_Dence:False  \n",
              "loss                                                   0.008708           \n",
              "accuracy                                               1.000000           \n",
              "val_loss                                               0.299937           \n",
              "val_accuracy                                           0.957831           "
            ],
            "text/html": [
              "\n",
              "  <div id=\"df-988d582d-5a9d-4782-ac06-449a69fafaa4\">\n",
              "    <div class=\"colab-df-container\">\n",
              "      <div>\n",
              "<style scoped>\n",
              "    .dataframe tbody tr th:only-of-type {\n",
              "        vertical-align: middle;\n",
              "    }\n",
              "\n",
              "    .dataframe tbody tr th {\n",
              "        vertical-align: top;\n",
              "    }\n",
              "\n",
              "    .dataframe thead th {\n",
              "        text-align: right;\n",
              "    }\n",
              "</style>\n",
              "<table border=\"1\" class=\"dataframe\">\n",
              "  <thead>\n",
              "    <tr style=\"text-align: right;\">\n",
              "      <th></th>\n",
              "      <th>VOCAB_SIZE:10000 WIN_SIZE:1000 WIN_HOP:200 Sec_Dence:True</th>\n",
              "      <th>VOCAB_SIZE:10000 WIN_SIZE:1000 WIN_HOP:200 Sec_Dence:False</th>\n",
              "      <th>VOCAB_SIZE:10000 WIN_SIZE:1000 WIN_HOP:500 Sec_Dence:True</th>\n",
              "      <th>VOCAB_SIZE:10000 WIN_SIZE:1000 WIN_HOP:500 Sec_Dence:False</th>\n",
              "      <th>VOCAB_SIZE:10000 WIN_SIZE:2000 WIN_HOP:200 Sec_Dence:True</th>\n",
              "      <th>VOCAB_SIZE:10000 WIN_SIZE:2000 WIN_HOP:200 Sec_Dence:False</th>\n",
              "      <th>VOCAB_SIZE:10000 WIN_SIZE:2000 WIN_HOP:500 Sec_Dence:True</th>\n",
              "      <th>VOCAB_SIZE:10000 WIN_SIZE:2000 WIN_HOP:500 Sec_Dence:False</th>\n",
              "      <th>VOCAB_SIZE:15000 WIN_SIZE:1000 WIN_HOP:200 Sec_Dence:True</th>\n",
              "      <th>VOCAB_SIZE:15000 WIN_SIZE:1000 WIN_HOP:200 Sec_Dence:False</th>\n",
              "      <th>VOCAB_SIZE:15000 WIN_SIZE:1000 WIN_HOP:500 Sec_Dence:True</th>\n",
              "      <th>VOCAB_SIZE:15000 WIN_SIZE:1000 WIN_HOP:500 Sec_Dence:False</th>\n",
              "      <th>VOCAB_SIZE:15000 WIN_SIZE:2000 WIN_HOP:200 Sec_Dence:True</th>\n",
              "      <th>VOCAB_SIZE:15000 WIN_SIZE:2000 WIN_HOP:200 Sec_Dence:False</th>\n",
              "      <th>VOCAB_SIZE:15000 WIN_SIZE:2000 WIN_HOP:500 Sec_Dence:True</th>\n",
              "      <th>VOCAB_SIZE:15000 WIN_SIZE:2000 WIN_HOP:500 Sec_Dence:False</th>\n",
              "    </tr>\n",
              "  </thead>\n",
              "  <tbody>\n",
              "    <tr>\n",
              "      <th>loss</th>\n",
              "      <td>0.008170</td>\n",
              "      <td>0.000779</td>\n",
              "      <td>0.001868</td>\n",
              "      <td>0.007030</td>\n",
              "      <td>0.000540</td>\n",
              "      <td>0.003198</td>\n",
              "      <td>0.006167</td>\n",
              "      <td>0.003615</td>\n",
              "      <td>0.003075</td>\n",
              "      <td>0.000819</td>\n",
              "      <td>0.002601</td>\n",
              "      <td>0.005212</td>\n",
              "      <td>0.000236</td>\n",
              "      <td>0.005818</td>\n",
              "      <td>0.214007</td>\n",
              "      <td>0.008708</td>\n",
              "    </tr>\n",
              "    <tr>\n",
              "      <th>accuracy</th>\n",
              "      <td>1.000000</td>\n",
              "      <td>1.000000</td>\n",
              "      <td>1.000000</td>\n",
              "      <td>1.000000</td>\n",
              "      <td>1.000000</td>\n",
              "      <td>1.000000</td>\n",
              "      <td>1.000000</td>\n",
              "      <td>1.000000</td>\n",
              "      <td>1.000000</td>\n",
              "      <td>1.000000</td>\n",
              "      <td>1.000000</td>\n",
              "      <td>1.000000</td>\n",
              "      <td>1.000000</td>\n",
              "      <td>1.000000</td>\n",
              "      <td>0.948281</td>\n",
              "      <td>1.000000</td>\n",
              "    </tr>\n",
              "    <tr>\n",
              "      <th>val_loss</th>\n",
              "      <td>0.356853</td>\n",
              "      <td>0.311713</td>\n",
              "      <td>0.346826</td>\n",
              "      <td>0.386472</td>\n",
              "      <td>0.274876</td>\n",
              "      <td>0.309340</td>\n",
              "      <td>0.333777</td>\n",
              "      <td>0.331446</td>\n",
              "      <td>0.377007</td>\n",
              "      <td>0.352050</td>\n",
              "      <td>0.305266</td>\n",
              "      <td>0.382290</td>\n",
              "      <td>0.235395</td>\n",
              "      <td>0.324639</td>\n",
              "      <td>0.401501</td>\n",
              "      <td>0.299937</td>\n",
              "    </tr>\n",
              "    <tr>\n",
              "      <th>val_accuracy</th>\n",
              "      <td>0.892344</td>\n",
              "      <td>0.904007</td>\n",
              "      <td>0.880597</td>\n",
              "      <td>0.895522</td>\n",
              "      <td>0.910380</td>\n",
              "      <td>0.924261</td>\n",
              "      <td>0.925452</td>\n",
              "      <td>0.923946</td>\n",
              "      <td>0.890550</td>\n",
              "      <td>0.885467</td>\n",
              "      <td>0.922388</td>\n",
              "      <td>0.902985</td>\n",
              "      <td>0.936331</td>\n",
              "      <td>0.930597</td>\n",
              "      <td>0.907380</td>\n",
              "      <td>0.957831</td>\n",
              "    </tr>\n",
              "  </tbody>\n",
              "</table>\n",
              "</div>\n",
              "      <button class=\"colab-df-convert\" onclick=\"convertToInteractive('df-988d582d-5a9d-4782-ac06-449a69fafaa4')\"\n",
              "              title=\"Convert this dataframe to an interactive table.\"\n",
              "              style=\"display:none;\">\n",
              "        \n",
              "  <svg xmlns=\"http://www.w3.org/2000/svg\" height=\"24px\"viewBox=\"0 0 24 24\"\n",
              "       width=\"24px\">\n",
              "    <path d=\"M0 0h24v24H0V0z\" fill=\"none\"/>\n",
              "    <path d=\"M18.56 5.44l.94 2.06.94-2.06 2.06-.94-2.06-.94-.94-2.06-.94 2.06-2.06.94zm-11 1L8.5 8.5l.94-2.06 2.06-.94-2.06-.94L8.5 2.5l-.94 2.06-2.06.94zm10 10l.94 2.06.94-2.06 2.06-.94-2.06-.94-.94-2.06-.94 2.06-2.06.94z\"/><path d=\"M17.41 7.96l-1.37-1.37c-.4-.4-.92-.59-1.43-.59-.52 0-1.04.2-1.43.59L10.3 9.45l-7.72 7.72c-.78.78-.78 2.05 0 2.83L4 21.41c.39.39.9.59 1.41.59.51 0 1.02-.2 1.41-.59l7.78-7.78 2.81-2.81c.8-.78.8-2.07 0-2.86zM5.41 20L4 18.59l7.72-7.72 1.47 1.35L5.41 20z\"/>\n",
              "  </svg>\n",
              "      </button>\n",
              "      \n",
              "  <style>\n",
              "    .colab-df-container {\n",
              "      display:flex;\n",
              "      flex-wrap:wrap;\n",
              "      gap: 12px;\n",
              "    }\n",
              "\n",
              "    .colab-df-convert {\n",
              "      background-color: #E8F0FE;\n",
              "      border: none;\n",
              "      border-radius: 50%;\n",
              "      cursor: pointer;\n",
              "      display: none;\n",
              "      fill: #1967D2;\n",
              "      height: 32px;\n",
              "      padding: 0 0 0 0;\n",
              "      width: 32px;\n",
              "    }\n",
              "\n",
              "    .colab-df-convert:hover {\n",
              "      background-color: #E2EBFA;\n",
              "      box-shadow: 0px 1px 2px rgba(60, 64, 67, 0.3), 0px 1px 3px 1px rgba(60, 64, 67, 0.15);\n",
              "      fill: #174EA6;\n",
              "    }\n",
              "\n",
              "    [theme=dark] .colab-df-convert {\n",
              "      background-color: #3B4455;\n",
              "      fill: #D2E3FC;\n",
              "    }\n",
              "\n",
              "    [theme=dark] .colab-df-convert:hover {\n",
              "      background-color: #434B5C;\n",
              "      box-shadow: 0px 1px 3px 1px rgba(0, 0, 0, 0.15);\n",
              "      filter: drop-shadow(0px 1px 2px rgba(0, 0, 0, 0.3));\n",
              "      fill: #FFFFFF;\n",
              "    }\n",
              "  </style>\n",
              "\n",
              "      <script>\n",
              "        const buttonEl =\n",
              "          document.querySelector('#df-988d582d-5a9d-4782-ac06-449a69fafaa4 button.colab-df-convert');\n",
              "        buttonEl.style.display =\n",
              "          google.colab.kernel.accessAllowed ? 'block' : 'none';\n",
              "\n",
              "        async function convertToInteractive(key) {\n",
              "          const element = document.querySelector('#df-988d582d-5a9d-4782-ac06-449a69fafaa4');\n",
              "          const dataTable =\n",
              "            await google.colab.kernel.invokeFunction('convertToInteractive',\n",
              "                                                     [key], {});\n",
              "          if (!dataTable) return;\n",
              "\n",
              "          const docLinkHtml = 'Like what you see? Visit the ' +\n",
              "            '<a target=\"_blank\" href=https://colab.research.google.com/notebooks/data_table.ipynb>data table notebook</a>'\n",
              "            + ' to learn more about interactive tables.';\n",
              "          element.innerHTML = '';\n",
              "          dataTable['output_type'] = 'display_data';\n",
              "          await google.colab.output.renderOutput(dataTable, element);\n",
              "          const docLink = document.createElement('div');\n",
              "          docLink.innerHTML = docLinkHtml;\n",
              "          element.appendChild(docLink);\n",
              "        }\n",
              "      </script>\n",
              "    </div>\n",
              "  </div>\n",
              "  "
            ]
          },
          "metadata": {},
          "execution_count": 33
        }
      ]
    }
  ]
}