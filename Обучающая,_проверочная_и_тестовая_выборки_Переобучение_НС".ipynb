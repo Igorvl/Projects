{
  "nbformat": 4,
  "nbformat_minor": 0,
  "metadata": {
    "colab": {
      "provenance": []
    },
    "kernelspec": {
      "name": "python3",
      "display_name": "Python 3"
    },
    "language_info": {
      "name": "python"
    },
    "gpuClass": "standard"
  },
  "cells": [
    {
      "cell_type": "markdown",
      "metadata": {
        "id": "_2pH_8ASEy09"
      },
      "source": [
        "Используя базу \"Пассажиры автобуса\", подготовьте данные для обучения нейронной сети, классифицирующей изображение на два класса:\n",
        "- входящий пассажир\n",
        "- выходящий пассажир\n",
        "\n",
        "Добейтесь точности работы модели на проверочной выборке не ниже 85%\n",
        "\n",
        "Ссылка на датасет: https://storage.yandexcloud.net/aiueducation/Content/base/l4/bus.zip"
      ]
    },
    {
      "cell_type": "markdown",
      "metadata": {
        "id": "n71N5BciGfAD"
      },
      "source": [
        "Информацию о загрузке изображений и преобразовании их в numnpy-массивы вы можете найти в Базе знаний:\n"
      ]
    },
    {
      "cell_type": "markdown",
      "metadata": {
        "id": "pXm5C1GeL1ip"
      },
      "source": [
        "\n",
        "---\n",
        "Дополнительная информация ([База знаний УИИ - «**Загрузка изображений**»](https://colab.research.google.com/drive/1T3i7JL1jYDPZlFT5UwC91cxUL0smehZz?usp=sharing))\n",
        "\n",
        "---\n",
        "\n",
        "\n",
        "\n"
      ]
    },
    {
      "cell_type": "code",
      "metadata": {
        "id": "R8o-mDseMpdP"
      },
      "source": [
        "# Ваше решение\n",
        "from tensorflow.keras.models import Sequential\n",
        "from tensorflow.keras.layers import Dense, Dropout, BatchNormalization\n",
        "from tensorflow.keras import utils\n",
        "from tensorflow.keras.optimizers import Adam\n",
        "import pandas as pd\n",
        "import numpy as np\n",
        "import matplotlib.pyplot as plt\n",
        "from sklearn.model_selection import train_test_split\n",
        "import gdown\n",
        "import zipfile\n",
        "%matplotlib inline\n",
        "\n",
        "gdown.download('https://storage.yandexcloud.net/aiueducation/Content/base/l4/bus.zip', None, quiet = True)\n",
        "\n",
        "archive = 'bus.zip'\n",
        "with zipfile.ZipFile(archive, 'r') as zip_file:\n",
        "    zip_file.extractall('/')"
      ],
      "execution_count": 6,
      "outputs": []
    }
  ]
}