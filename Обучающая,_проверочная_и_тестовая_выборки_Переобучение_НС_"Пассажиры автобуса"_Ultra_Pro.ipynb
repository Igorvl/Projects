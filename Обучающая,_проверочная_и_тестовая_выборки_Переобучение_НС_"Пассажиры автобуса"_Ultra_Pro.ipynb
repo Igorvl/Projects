{
  "nbformat": 4,
  "nbformat_minor": 0,
  "metadata": {
    "colab": {
      "provenance": [],
      "include_colab_link": true
    },
    "kernelspec": {
      "name": "python3",
      "display_name": "Python 3"
    },
    "language_info": {
      "name": "python"
    },
    "gpuClass": "standard"
  },
  "cells": [
    {
      "cell_type": "markdown",
      "metadata": {
        "id": "view-in-github",
        "colab_type": "text"
      },
      "source": [
        "<a href=\"https://colab.research.google.com/github/Igorvl/Projects/blob/master/%D0%9E%D0%B1%D1%83%D1%87%D0%B0%D1%8E%D1%89%D0%B0%D1%8F%2C_%D0%BF%D1%80%D0%BE%D0%B2%D0%B5%D1%80%D0%BE%D1%87%D0%BD%D0%B0%D1%8F_%D0%B8_%D1%82%D0%B5%D1%81%D1%82%D0%BE%D0%B2%D0%B0%D1%8F_%D0%B2%D1%8B%D0%B1%D0%BE%D1%80%D0%BA%D0%B8_%D0%9F%D0%B5%D1%80%D0%B5%D0%BE%D0%B1%D1%83%D1%87%D0%B5%D0%BD%D0%B8%D0%B5_%D0%9D%D0%A1_%22%D0%9F%D0%B0%D1%81%D1%81%D0%B0%D0%B6%D0%B8%D1%80%D1%8B%20%D0%B0%D0%B2%D1%82%D0%BE%D0%B1%D1%83%D1%81%D0%B0%22_Ultra_Pro.ipynb\" target=\"_parent\"><img src=\"https://colab.research.google.com/assets/colab-badge.svg\" alt=\"Open In Colab\"/></a>"
      ]
    },
    {
      "cell_type": "markdown",
      "metadata": {
        "id": "_2pH_8ASEy09"
      },
      "source": [
        "Используя базу \"Пассажиры автобуса\", подготовьте данные для обучения нейронной сети, классифицирующей изображение на два класса:\n",
        "- входящий пассажир\n",
        "- выходящий пассажир\n",
        "\n",
        "Добейтесь точности работы модели на проверочной выборке не ниже 85%\n",
        "\n",
        "Ссылка на датасет: https://storage.yandexcloud.net/aiueducation/Content/base/l4/bus.zip"
      ]
    },
    {
      "cell_type": "code",
      "metadata": {
        "id": "R8o-mDseMpdP"
      },
      "source": [
        "# Ваше решение\n",
        "from tensorflow.keras.models import Sequential\n",
        "from tensorflow.keras.layers import Dense, Dropout, BatchNormalization\n",
        "from tensorflow.keras import utils\n",
        "from tensorflow.keras.optimizers import Adam\n",
        "import pandas as pd\n",
        "import numpy as np\n",
        "import matplotlib.pyplot as plt\n",
        "from sklearn.model_selection import train_test_split\n",
        "import gdown\n",
        "import os\n",
        "import pdb \n",
        "import zipfile\n",
        "from PIL import Image\n",
        "%matplotlib inline\n",
        "\n",
        "# скачивание, распаковывка, если данных нет\n",
        "if not os.path.exists('/content/Входящий') or not os.path.exists('/content/Выходящий'):\n",
        "\n",
        "  gdown.download('https://storage.yandexcloud.net/aiueducation/Content/base/l4/bus.zip', None, quiet = True)\n",
        "\n",
        "  with zipfile.ZipFile('bus.zip', 'r') as zip_file:\n",
        "      zip_file.extractall('/content')"
      ],
      "execution_count": null,
      "outputs": []
    },
    {
      "cell_type": "code",
      "source": [
        "# считывание входящих, сбор в Array\n",
        "imLst = []\n",
        "for x in os.listdir('/content/Входящий/'):\n",
        "  img = Image.open(f'/content/Входящий/{x}')\n",
        "  img =img.resize(size=(128,64))\n",
        "  imArr = np.array(img)\n",
        "  imLst.append(imArr)\n",
        "baseIn = np.array(imLst)\n",
        "\n",
        "# считывание выходящих, сбор в Array\n",
        "imLst = []\n",
        "for x in os.listdir('/content/Выходящий/'):\n",
        "  img = Image.open(f'/content/Выходящий/{x}')\n",
        "  img =img.resize(size=(128,64))\n",
        "  imArr = np.array(img)\n",
        "  imLst.append(imArr)\n",
        "baseOut = np.array(imLst)"
      ],
      "metadata": {
        "id": "5cPZvJEAoKIL"
      },
      "execution_count": null,
      "outputs": []
    },
    {
      "cell_type": "code",
      "source": [
        "# нормализация\n",
        "x_baseIn = baseIn.reshape(baseIn.shape[0],-1).astype('float')/255\n",
        "x_baseOut = baseOut.reshape(baseOut.shape[0],-1).astype('float')/255\n",
        "y_baseIn = np.ones(x_baseIn.shape[0])\n",
        "y_baseOut = np.zeros(x_baseOut.shape[0])\n",
        "print(x_baseIn.shape)\n",
        "print(x_baseOut.shape)\n",
        "print(y_baseIn.shape)\n",
        "print(y_baseOut.shape)"
      ],
      "metadata": {
        "colab": {
          "base_uri": "https://localhost:8080/"
        },
        "id": "-Cbr-WnU3_G9",
        "outputId": "3edc21b3-3599-4e32-d9e7-3308dd940c31"
      },
      "execution_count": null,
      "outputs": [
        {
          "output_type": "stream",
          "name": "stdout",
          "text": [
            "(6485, 24576)\n",
            "(2596, 24576)\n",
            "(6485,)\n",
            "(2596,)\n"
          ]
        }
      ]
    },
    {
      "cell_type": "code",
      "source": [
        "# объединение массивов входящих и выходящих\n",
        "x_base = np.concatenate([x_baseIn, x_baseOut])\n",
        "y_base = np.concatenate([y_baseIn, y_baseOut])\n",
        "print(x_base.shape)\n",
        "print(y_base.shape)"
      ],
      "metadata": {
        "colab": {
          "base_uri": "https://localhost:8080/"
        },
        "id": "cnMjeCId9zHL",
        "outputId": "9202f14d-c1a4-40b0-ab5d-c4bfa416b89e"
      },
      "execution_count": null,
      "outputs": [
        {
          "output_type": "stream",
          "name": "stdout",
          "text": [
            "(9081, 24576)\n",
            "(9081,)\n"
          ]
        }
      ]
    },
    {
      "cell_type": "code",
      "source": [
        "# Разбиение наборов на общую и тестовую выборки\n",
        "x_all, x_test, y_all, y_test = train_test_split(x_base, y_base, test_size=0.1, shuffle=True, random_state = 42)\n",
        "\n",
        "# Разбиение общей выборки на обучающую и проверочную \n",
        "x_train, x_val, y_train, y_val = train_test_split(x_all, y_all, test_size=0.1, shuffle=True, random_state = 42)\n",
        "print(f'Обучающая выборка изображений {len(x_train)}')\n",
        "print(f'Обучающая выборка меток {len(y_train)}')\n",
        "print(f'Проверочная выборка изображений {len(x_val)}')\n",
        "print(f'Проверочная выборка меток {len(y_val)}')\n",
        "print(f'Тестовая выборка изображений {len(x_test)}')\n",
        "print(f'Тестовая выборка меток {len(y_test)}')\n",
        "\n"
      ],
      "metadata": {
        "colab": {
          "base_uri": "https://localhost:8080/"
        },
        "id": "xgE3RIWtEr5m",
        "outputId": "090c4f4f-541a-4ba3-b4ca-1304f1f9772f"
      },
      "execution_count": null,
      "outputs": [
        {
          "output_type": "stream",
          "name": "stdout",
          "text": [
            "Обучающая выборка изображений 7354\n",
            "Обучающая выборка меток 7354\n",
            "Проверочная выборка изображений 818\n",
            "Проверочная выборка меток 818\n",
            "Тестовая выборка изображений 909\n",
            "Тестовая выборка меток 909\n"
          ]
        }
      ]
    },
    {
      "cell_type": "code",
      "source": [
        "# ф-я сбора модели\n",
        "TYPES = 1\n",
        "def modelBuild(d1=100, d2=20, drp=0, bNorm=False, activ='relu'):\n",
        "  model = Sequential()\n",
        "  model.add(Dense(d1, input_dim=x_train.shape[1], activation=activ))\n",
        "  model.add(Dropout(drp))\n",
        "  model.add(Dense(d2, activation=activ))\n",
        "  if bNorm: \n",
        "    model.add(BatchNormalization())\n",
        "  model.add(Dense(TYPES, activation='sigmoid'))\n",
        "  model.compile(loss='binary_crossentropy', optimizer=Adam(learning_rate=0.001), metrics=['accuracy'])\n",
        "  return model\n",
        "model = modelBuild()\n",
        "model.summary()"
      ],
      "metadata": {
        "colab": {
          "base_uri": "https://localhost:8080/"
        },
        "id": "MavBYohuLaMW",
        "outputId": "00de28c3-ba2a-4a3c-96b8-1a99a673004e"
      },
      "execution_count": null,
      "outputs": [
        {
          "output_type": "stream",
          "name": "stdout",
          "text": [
            "Model: \"sequential\"\n",
            "_________________________________________________________________\n",
            " Layer (type)                Output Shape              Param #   \n",
            "=================================================================\n",
            " dense (Dense)               (None, 100)               2457700   \n",
            "                                                                 \n",
            " dropout (Dropout)           (None, 100)               0         \n",
            "                                                                 \n",
            " dense_1 (Dense)             (None, 20)                2020      \n",
            "                                                                 \n",
            " dense_2 (Dense)             (None, 1)                 21        \n",
            "                                                                 \n",
            "=================================================================\n",
            "Total params: 2,459,741\n",
            "Trainable params: 2,459,741\n",
            "Non-trainable params: 0\n",
            "_________________________________________________________________\n"
          ]
        }
      ]
    },
    {
      "cell_type": "code",
      "source": [
        "\n",
        "bestAccur,val = 0,pd.Series(dtype=pd.StringDtype())\n",
        "\n",
        "# первый слой\n",
        "for i in [1024]:\n",
        "# второй слой\n",
        "  for j in [128]:\n",
        "\n",
        "        model = modelBuild(i, j, 0, False, activ='relu')\n",
        "        hist = model.fit(x_train, y_train, batch_size=20, \n",
        "                         validation_data=(x_val, y_val),epochs=15, verbose=1)\n",
        "        evalHist = model.evaluate(x_test, y_test, verbose=1)\n",
        "        if bestAccur < evalHist[1]:\n",
        "          bestAccur = evalHist[1]\n",
        "          val = [evalHist[1],evalHist[0],i,j]\n",
        "          # pdb.set_trace()   \n",
        "          print(val)           \n",
        "          \n",
        "print(f'\\n\\nМаксимальная точность классификации на тестовой выборке {val[0]*100}% c loss - {val[1]} при параметрах:\\nПервый Dense слой {val[2]}\\nВторой Dense слой {val[3]}')"
      ],
      "metadata": {
        "colab": {
          "base_uri": "https://localhost:8080/"
        },
        "id": "56XK5DvTMeLq",
        "outputId": "180ee0dd-8616-41ec-e1af-b87031760b15"
      },
      "execution_count": null,
      "outputs": [
        {
          "output_type": "stream",
          "name": "stdout",
          "text": [
            "Epoch 1/15\n",
            "368/368 [==============================] - 57s 154ms/step - loss: 1.4523 - accuracy: 0.6904 - val_loss: 0.4766 - val_accuracy: 0.7433\n",
            "Epoch 2/15\n",
            "368/368 [==============================] - 58s 157ms/step - loss: 0.4946 - accuracy: 0.7691 - val_loss: 0.4332 - val_accuracy: 0.8068\n",
            "Epoch 3/15\n",
            "368/368 [==============================] - 60s 162ms/step - loss: 0.4714 - accuracy: 0.7852 - val_loss: 0.4949 - val_accuracy: 0.7995\n",
            "Epoch 4/15\n",
            "368/368 [==============================] - 55s 149ms/step - loss: 0.4502 - accuracy: 0.7932 - val_loss: 0.4002 - val_accuracy: 0.8289\n",
            "Epoch 5/15\n",
            "368/368 [==============================] - 55s 151ms/step - loss: 0.4249 - accuracy: 0.8103 - val_loss: 0.3803 - val_accuracy: 0.8350\n",
            "Epoch 6/15\n",
            "368/368 [==============================] - 58s 157ms/step - loss: 0.3888 - accuracy: 0.8287 - val_loss: 0.5012 - val_accuracy: 0.7824\n",
            "Epoch 7/15\n",
            "368/368 [==============================] - 57s 154ms/step - loss: 0.3572 - accuracy: 0.8397 - val_loss: 0.3371 - val_accuracy: 0.8496\n",
            "Epoch 8/15\n",
            "368/368 [==============================] - 57s 155ms/step - loss: 0.3392 - accuracy: 0.8495 - val_loss: 0.3357 - val_accuracy: 0.8496\n",
            "Epoch 9/15\n",
            "368/368 [==============================] - 55s 151ms/step - loss: 0.3131 - accuracy: 0.8598 - val_loss: 0.3112 - val_accuracy: 0.8619\n",
            "Epoch 10/15\n",
            "368/368 [==============================] - 57s 156ms/step - loss: 0.2864 - accuracy: 0.8748 - val_loss: 0.3136 - val_accuracy: 0.8729\n",
            "Epoch 11/15\n",
            "368/368 [==============================] - 54s 148ms/step - loss: 0.2867 - accuracy: 0.8718 - val_loss: 0.3338 - val_accuracy: 0.8533\n",
            "Epoch 12/15\n",
            "368/368 [==============================] - 58s 156ms/step - loss: 0.2506 - accuracy: 0.8918 - val_loss: 0.2590 - val_accuracy: 0.8985\n",
            "Epoch 13/15\n",
            "368/368 [==============================] - 56s 152ms/step - loss: 0.2445 - accuracy: 0.8924 - val_loss: 0.2762 - val_accuracy: 0.8973\n",
            "Epoch 14/15\n",
            "368/368 [==============================] - 55s 149ms/step - loss: 0.2625 - accuracy: 0.8833 - val_loss: 0.3069 - val_accuracy: 0.8778\n",
            "Epoch 15/15\n",
            "368/368 [==============================] - 57s 155ms/step - loss: 0.2409 - accuracy: 0.8956 - val_loss: 0.3630 - val_accuracy: 0.8765\n",
            "29/29 [==============================] - 1s 45ms/step - loss: 0.3116 - accuracy: 0.8669\n",
            "[0.8668866753578186, 0.3116176426410675, 1024, 128]\n",
            "\n",
            "\n",
            "Максимальная точность классификации на тестовой выборке 86.68866753578186% c loss - 0.3116176426410675 при параметрах:\n",
            "Первый Dense слой 1024\n",
            "Второй Dense слой 128\n"
          ]
        }
      ]
    }
  ]
}