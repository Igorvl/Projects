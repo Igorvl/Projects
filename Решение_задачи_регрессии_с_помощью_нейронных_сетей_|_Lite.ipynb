{
  "nbformat": 4,
  "nbformat_minor": 0,
  "metadata": {
    "colab": {
      "provenance": [],
      "include_colab_link": true
    },
    "kernelspec": {
      "name": "python3",
      "display_name": "Python 3"
    },
    "language_info": {
      "name": "python"
    },
    "gpuClass": "standard"
  },
  "cells": [
    {
      "cell_type": "markdown",
      "metadata": {
        "id": "view-in-github",
        "colab_type": "text"
      },
      "source": [
        "<a href=\"https://colab.research.google.com/github/Igorvl/Projects/blob/master/%D0%A0%D0%B5%D1%88%D0%B5%D0%BD%D0%B8%D0%B5_%D0%B7%D0%B0%D0%B4%D0%B0%D1%87%D0%B8_%D1%80%D0%B5%D0%B3%D1%80%D0%B5%D1%81%D1%81%D0%B8%D0%B8_%D1%81_%D0%BF%D0%BE%D0%BC%D0%BE%D1%89%D1%8C%D1%8E_%D0%BD%D0%B5%D0%B9%D1%80%D0%BE%D0%BD%D0%BD%D1%8B%D1%85_%D1%81%D0%B5%D1%82%D0%B5%D0%B9_%7C_Lite.ipynb\" target=\"_parent\"><img src=\"https://colab.research.google.com/assets/colab-badge.svg\" alt=\"Open In Colab\"/></a>"
      ]
    },
    {
      "cell_type": "markdown",
      "metadata": {
        "id": "zjsDkd2D_-cj"
      },
      "source": [
        "## Подготовка"
      ]
    },
    {
      "cell_type": "code",
      "metadata": {
        "id": "EOjQlKFqKLXw"
      },
      "source": [
        "# Работа с массивами данных\n",
        "import numpy as np \n",
        "\n",
        "# Работа с табличными данными\n",
        "import pandas as pd\n",
        "\n",
        "# Функции-утилиты для работы с категориальными данными\n",
        "from tensorflow.keras import utils\n",
        "\n",
        "# Класс для конструирования последовательной модели нейронной сети\n",
        "from tensorflow.keras.models import Sequential, Model\n",
        "\n",
        "# Основные слои\n",
        "from tensorflow.keras.layers import Dense, Dropout, SpatialDropout1D, BatchNormalization, Embedding, Flatten, Activation, Input, concatenate\n",
        "from tensorflow.keras.layers import SimpleRNN, GRU, LSTM, Bidirectional, Conv1D, MaxPooling1D, GlobalMaxPooling1D\n",
        "\n",
        "# Оптимизаторы\n",
        "from tensorflow.keras.optimizers import Adam, Adadelta, SGD, Adagrad, RMSprop\n",
        "\n",
        "# Токенизатор для преобразование текстов в последовательности\n",
        "from tensorflow.keras.preprocessing.text import Tokenizer\n",
        "\n",
        "# Масштабирование данных\n",
        "from sklearn.preprocessing import StandardScaler\n",
        "\n",
        "# Загрузка датасетов из облака google\n",
        "import gdown\n",
        "\n",
        "# Регулярные выражения\n",
        "import re\n",
        "\n",
        "# Отрисовка графиков\n",
        "import matplotlib.pyplot as plt\n",
        "\n",
        "# Метрики для расчета ошибок\n",
        "from sklearn.metrics import mean_squared_error, mean_absolute_error\n",
        "\n",
        "%matplotlib inline"
      ],
      "execution_count": 1,
      "outputs": []
    },
    {
      "cell_type": "code",
      "metadata": {
        "colab": {
          "base_uri": "https://localhost:8080/",
          "height": 572
        },
        "id": "6ZWqBAzwB8JK",
        "outputId": "7482845c-915c-4c0b-b1de-d5966b38ff89"
      },
      "source": [
        "# скачиваем базу\n",
        "gdown.download('https://storage.yandexcloud.net/aiueducation/Content/base/l10/hh_fixed.csv', None, quiet=True)\n",
        "\n",
        "# Чтение файла базы данных\n",
        "df = pd.read_csv('hh_fixed.csv', index_col=0)\n",
        "\n",
        "# Вывод количества резюме и числа признаков\n",
        "print(df.shape)\n",
        "\n",
        "df.head(3)"
      ],
      "execution_count": 2,
      "outputs": [
        {
          "output_type": "stream",
          "name": "stdout",
          "text": [
            "(62967, 12)\n"
          ]
        },
        {
          "output_type": "execute_result",
          "data": {
            "text/plain": [
              "                               Пол, возраст           ЗП  \\\n",
              "0   Мужчина ,  29 лет , родился 16 мая 1989   40000 руб.   \n",
              "1   Мужчина ,  38 лет , родился 25 мая 1980   40000 руб.   \n",
              "2  Мужчина ,  35 лет , родился 14 июня 1983  300000 руб.   \n",
              "\n",
              "                           Ищет работу на должность:  \\\n",
              "0  Специалист по поддержке чата(support team) дом...   \n",
              "1                            Системный администратор   \n",
              "2                DevOps TeamLead / DevOps архитектор   \n",
              "\n",
              "                                               Город         Занятость  \\\n",
              "0  Новороссийск , готов к переезду (Анапа, Геленд...  полная занятость   \n",
              "1  Новосибирск ,  м. Березовая роща , не готов к ...  полная занятость   \n",
              "2  Москва , готов к переезду , готов к редким ком...  полная занятость   \n",
              "\n",
              "        График           Опыт (двойное нажатие для полной версии)  \\\n",
              "0  полный день  Опыт работы 3 года 9 месяцев  Специалист по по...   \n",
              "1  полный день  Опыт работы 11 лет 11 месяцев  Системный админ...   \n",
              "2  полный день  Опыт работы 12 лет 11 месяцев  DevOps TeamLead...   \n",
              "\n",
              "   Последенее/нынешнее место работы  \\\n",
              "0                  ООО \"Гольфстрим\"   \n",
              "1  ООО «Завод модульных технологий»   \n",
              "2                    Банк ВТБ (ПАО)   \n",
              "\n",
              "                       Последеняя/нынешняя должность  \\\n",
              "0                               Генеральный директор   \n",
              "1                            Системный администратор   \n",
              "2  Начальник отдела методологии разработки (DevOp...   \n",
              "\n",
              "                                   Образование и ВУЗ Обновление резюме  \\\n",
              "0  Высшее образование 2011  Международный юридиче...  26.04.2019 08:04   \n",
              "1  Высшее образование 2002 Новосибирский государс...  26.04.2019 04:30   \n",
              "2  DevOps TeamLead / DevOps архитектор 300 000 ру...  09.04.2019 14:40   \n",
              "\n",
              "         Авто  \n",
              "0  Не указано  \n",
              "1  Не указано  \n",
              "2  Не указано  "
            ],
            "text/html": [
              "\n",
              "  <div id=\"df-7c8c3097-4a80-4a64-854b-98ce9f142e44\">\n",
              "    <div class=\"colab-df-container\">\n",
              "      <div>\n",
              "<style scoped>\n",
              "    .dataframe tbody tr th:only-of-type {\n",
              "        vertical-align: middle;\n",
              "    }\n",
              "\n",
              "    .dataframe tbody tr th {\n",
              "        vertical-align: top;\n",
              "    }\n",
              "\n",
              "    .dataframe thead th {\n",
              "        text-align: right;\n",
              "    }\n",
              "</style>\n",
              "<table border=\"1\" class=\"dataframe\">\n",
              "  <thead>\n",
              "    <tr style=\"text-align: right;\">\n",
              "      <th></th>\n",
              "      <th>Пол, возраст</th>\n",
              "      <th>ЗП</th>\n",
              "      <th>Ищет работу на должность:</th>\n",
              "      <th>Город</th>\n",
              "      <th>Занятость</th>\n",
              "      <th>График</th>\n",
              "      <th>Опыт (двойное нажатие для полной версии)</th>\n",
              "      <th>Последенее/нынешнее место работы</th>\n",
              "      <th>Последеняя/нынешняя должность</th>\n",
              "      <th>Образование и ВУЗ</th>\n",
              "      <th>Обновление резюме</th>\n",
              "      <th>Авто</th>\n",
              "    </tr>\n",
              "  </thead>\n",
              "  <tbody>\n",
              "    <tr>\n",
              "      <th>0</th>\n",
              "      <td>Мужчина ,  29 лет , родился 16 мая 1989</td>\n",
              "      <td>40000 руб.</td>\n",
              "      <td>Специалист по поддержке чата(support team) дом...</td>\n",
              "      <td>Новороссийск , готов к переезду (Анапа, Геленд...</td>\n",
              "      <td>полная занятость</td>\n",
              "      <td>полный день</td>\n",
              "      <td>Опыт работы 3 года 9 месяцев  Специалист по по...</td>\n",
              "      <td>ООО \"Гольфстрим\"</td>\n",
              "      <td>Генеральный директор</td>\n",
              "      <td>Высшее образование 2011  Международный юридиче...</td>\n",
              "      <td>26.04.2019 08:04</td>\n",
              "      <td>Не указано</td>\n",
              "    </tr>\n",
              "    <tr>\n",
              "      <th>1</th>\n",
              "      <td>Мужчина ,  38 лет , родился 25 мая 1980</td>\n",
              "      <td>40000 руб.</td>\n",
              "      <td>Системный администратор</td>\n",
              "      <td>Новосибирск ,  м. Березовая роща , не готов к ...</td>\n",
              "      <td>полная занятость</td>\n",
              "      <td>полный день</td>\n",
              "      <td>Опыт работы 11 лет 11 месяцев  Системный админ...</td>\n",
              "      <td>ООО «Завод модульных технологий»</td>\n",
              "      <td>Системный администратор</td>\n",
              "      <td>Высшее образование 2002 Новосибирский государс...</td>\n",
              "      <td>26.04.2019 04:30</td>\n",
              "      <td>Не указано</td>\n",
              "    </tr>\n",
              "    <tr>\n",
              "      <th>2</th>\n",
              "      <td>Мужчина ,  35 лет , родился 14 июня 1983</td>\n",
              "      <td>300000 руб.</td>\n",
              "      <td>DevOps TeamLead / DevOps архитектор</td>\n",
              "      <td>Москва , готов к переезду , готов к редким ком...</td>\n",
              "      <td>полная занятость</td>\n",
              "      <td>полный день</td>\n",
              "      <td>Опыт работы 12 лет 11 месяцев  DevOps TeamLead...</td>\n",
              "      <td>Банк ВТБ (ПАО)</td>\n",
              "      <td>Начальник отдела методологии разработки (DevOp...</td>\n",
              "      <td>DevOps TeamLead / DevOps архитектор 300 000 ру...</td>\n",
              "      <td>09.04.2019 14:40</td>\n",
              "      <td>Не указано</td>\n",
              "    </tr>\n",
              "  </tbody>\n",
              "</table>\n",
              "</div>\n",
              "      <button class=\"colab-df-convert\" onclick=\"convertToInteractive('df-7c8c3097-4a80-4a64-854b-98ce9f142e44')\"\n",
              "              title=\"Convert this dataframe to an interactive table.\"\n",
              "              style=\"display:none;\">\n",
              "        \n",
              "  <svg xmlns=\"http://www.w3.org/2000/svg\" height=\"24px\"viewBox=\"0 0 24 24\"\n",
              "       width=\"24px\">\n",
              "    <path d=\"M0 0h24v24H0V0z\" fill=\"none\"/>\n",
              "    <path d=\"M18.56 5.44l.94 2.06.94-2.06 2.06-.94-2.06-.94-.94-2.06-.94 2.06-2.06.94zm-11 1L8.5 8.5l.94-2.06 2.06-.94-2.06-.94L8.5 2.5l-.94 2.06-2.06.94zm10 10l.94 2.06.94-2.06 2.06-.94-2.06-.94-.94-2.06-.94 2.06-2.06.94z\"/><path d=\"M17.41 7.96l-1.37-1.37c-.4-.4-.92-.59-1.43-.59-.52 0-1.04.2-1.43.59L10.3 9.45l-7.72 7.72c-.78.78-.78 2.05 0 2.83L4 21.41c.39.39.9.59 1.41.59.51 0 1.02-.2 1.41-.59l7.78-7.78 2.81-2.81c.8-.78.8-2.07 0-2.86zM5.41 20L4 18.59l7.72-7.72 1.47 1.35L5.41 20z\"/>\n",
              "  </svg>\n",
              "      </button>\n",
              "      \n",
              "  <style>\n",
              "    .colab-df-container {\n",
              "      display:flex;\n",
              "      flex-wrap:wrap;\n",
              "      gap: 12px;\n",
              "    }\n",
              "\n",
              "    .colab-df-convert {\n",
              "      background-color: #E8F0FE;\n",
              "      border: none;\n",
              "      border-radius: 50%;\n",
              "      cursor: pointer;\n",
              "      display: none;\n",
              "      fill: #1967D2;\n",
              "      height: 32px;\n",
              "      padding: 0 0 0 0;\n",
              "      width: 32px;\n",
              "    }\n",
              "\n",
              "    .colab-df-convert:hover {\n",
              "      background-color: #E2EBFA;\n",
              "      box-shadow: 0px 1px 2px rgba(60, 64, 67, 0.3), 0px 1px 3px 1px rgba(60, 64, 67, 0.15);\n",
              "      fill: #174EA6;\n",
              "    }\n",
              "\n",
              "    [theme=dark] .colab-df-convert {\n",
              "      background-color: #3B4455;\n",
              "      fill: #D2E3FC;\n",
              "    }\n",
              "\n",
              "    [theme=dark] .colab-df-convert:hover {\n",
              "      background-color: #434B5C;\n",
              "      box-shadow: 0px 1px 3px 1px rgba(0, 0, 0, 0.15);\n",
              "      filter: drop-shadow(0px 1px 2px rgba(0, 0, 0, 0.3));\n",
              "      fill: #FFFFFF;\n",
              "    }\n",
              "  </style>\n",
              "\n",
              "      <script>\n",
              "        const buttonEl =\n",
              "          document.querySelector('#df-7c8c3097-4a80-4a64-854b-98ce9f142e44 button.colab-df-convert');\n",
              "        buttonEl.style.display =\n",
              "          google.colab.kernel.accessAllowed ? 'block' : 'none';\n",
              "\n",
              "        async function convertToInteractive(key) {\n",
              "          const element = document.querySelector('#df-7c8c3097-4a80-4a64-854b-98ce9f142e44');\n",
              "          const dataTable =\n",
              "            await google.colab.kernel.invokeFunction('convertToInteractive',\n",
              "                                                     [key], {});\n",
              "          if (!dataTable) return;\n",
              "\n",
              "          const docLinkHtml = 'Like what you see? Visit the ' +\n",
              "            '<a target=\"_blank\" href=https://colab.research.google.com/notebooks/data_table.ipynb>data table notebook</a>'\n",
              "            + ' to learn more about interactive tables.';\n",
              "          element.innerHTML = '';\n",
              "          dataTable['output_type'] = 'display_data';\n",
              "          await google.colab.output.renderOutput(dataTable, element);\n",
              "          const docLink = document.createElement('div');\n",
              "          docLink.innerHTML = docLinkHtml;\n",
              "          element.appendChild(docLink);\n",
              "        }\n",
              "      </script>\n",
              "    </div>\n",
              "  </div>\n",
              "  "
            ]
          },
          "metadata": {},
          "execution_count": 2
        }
      ]
    },
    {
      "cell_type": "code",
      "metadata": {
        "id": "34V0BDMg9bku"
      },
      "source": [
        "# Настройка номеров столбцов\n",
        "\n",
        "COL_SEX_AGE     = df.columns.get_loc('Пол, возраст')\n",
        "COL_SALARY      = df.columns.get_loc('ЗП')\n",
        "COL_POS_SEEK    = df.columns.get_loc('Ищет работу на должность:')\n",
        "COL_POS_PREV    = df.columns.get_loc('Последеняя/нынешняя должность')\n",
        "COL_CITY        = df.columns.get_loc('Город')\n",
        "COL_EMPL        = df.columns.get_loc('Занятость')\n",
        "COL_SCHED       = df.columns.get_loc('График')\n",
        "COL_EXP         = df.columns.get_loc('Опыт (двойное нажатие для полной версии)')\n",
        "COL_EDU         = df.columns.get_loc('Образование и ВУЗ')\n",
        "COL_UPDATED     = df.columns.get_loc('Обновление резюме')"
      ],
      "execution_count": 3,
      "outputs": []
    },
    {
      "cell_type": "code",
      "metadata": {
        "id": "ZttFUMQLC5ed"
      },
      "source": [
        "# Замена концов строк на пробелы, удаление символа с кодом 0xA0\n",
        "# обрезка краевых пробелов, приведение к нижнему регистру\n",
        "\n",
        "def purify(x):\n",
        "    if isinstance(x, str):                # Если значение - строка:\n",
        "        x = x.replace('\\n', ' ').replace('\\xa0', '').strip().lower()\n",
        "    return x"
      ],
      "execution_count": 4,
      "outputs": []
    },
    {
      "cell_type": "code",
      "metadata": {
        "id": "tem1bwgj1ITN"
      },
      "source": [
        "# Выделение подстроки вида ДД.ММ.ГГГГ и возвращение значения года\n",
        "\n",
        "def extract_year(x):\n",
        "    try: \n",
        "        return int(re.search(r'\\d\\d.\\d\\d.(\\d{4})', x)[1])   # Ожидается строка вида 'dd.mm.yyyy ...'\n",
        "  \n",
        "    except (IndexError, TypeError, ValueError):\n",
        "        return 0     "
      ],
      "execution_count": 5,
      "outputs": []
    },
    {
      "cell_type": "code",
      "metadata": {
        "id": "DFq-_gswjtQy"
      },
      "source": [
        "### Параметрические данные для функций разбора ###\n",
        "\n",
        "# Курсы валют для зарплат\n",
        "currency_rate = {'usd'    : 65.,\n",
        "                 'kzt'    : 0.17,\n",
        "                 'грн'    : 2.6,\n",
        "                 'белруб' : 30.5,\n",
        "                 'eur'    : 70.,\n",
        "                 'kgs'    : 0.9,\n",
        "                 'сум'    : 0.007,\n",
        "                 'azn'    : 37.5\n",
        "                }\n",
        "\n",
        "# Списки и словари для разбиения на классы\n",
        "# Для ускорения работы добавлен счетчик классов, который будет вычислен ниже\n",
        "\n",
        "# Список порогов возраста\n",
        "age_class = [0, [18, 23, 28, 33, 38, 43, 48, 53, 58, 63]]\n",
        "\n",
        "# Список порогов опыта работы в месяцах\n",
        "experience_class = [0, [7, 13, 25, 37, 61, 97, 121, 157, 193, 241]]\n",
        "\n",
        "# Классы городов\n",
        "city_class = [0, \n",
        "              {'москва'          : 0,\n",
        "               'санкт-петербург' : 1,\n",
        "               'новосибирск'     : 2,\n",
        "               'екатеринбург'    : 2,\n",
        "               'нижний новгород' : 2,\n",
        "               'казань'          : 2,\n",
        "               'челябинск'       : 2,\n",
        "               'омск'            : 2,\n",
        "               'самара'          : 2,\n",
        "               'ростов-на-дону'  : 2,\n",
        "               'уфа'             : 2,\n",
        "               'красноярск'      : 2,\n",
        "               'пермь'           : 2,\n",
        "               'воронеж'         : 2,\n",
        "               'волгоград'       : 2,\n",
        "               'прочие города'   : 3\n",
        "              }]\n",
        "\n",
        "# Классы занятости\n",
        "employment_class = [0, \n",
        "                    {'стажировка'          : 0,\n",
        "                     'частичная занятость' : 1,\n",
        "                     'проектная работа'    : 2,\n",
        "                     'полная занятость'    : 3\n",
        "                    }]\n",
        "\n",
        "# Классы графика работы\n",
        "schedule_class = [0, \n",
        "                  {'гибкий график'         : 0,\n",
        "                   'полный день'           : 1,\n",
        "                   'сменный график'        : 2,\n",
        "                   'удаленная работа'      : 3\n",
        "                  }]\n",
        "\n",
        "# Классы образования\n",
        "education_class = [0,\n",
        "                   {'высшее образование'   : 0,\n",
        "                    'higher education'     : 0,\n",
        "                    'среднее специальное'  : 1,\n",
        "                    'неоконченное высшее'  : 2,\n",
        "                    'среднее образование'  : 3\n",
        "                   }]\n"
      ],
      "execution_count": 6,
      "outputs": []
    },
    {
      "cell_type": "code",
      "metadata": {
        "id": "pDUQlvhRjtWG"
      },
      "source": [
        "# Вычисление счетчиков для данных разбиения\n",
        "\n",
        "for class_desc in [age_class,\n",
        "                   experience_class,\n",
        "                   city_class,\n",
        "                   employment_class,\n",
        "                   schedule_class,\n",
        "                   education_class]:\n",
        "    if isinstance(class_desc[1], list):\n",
        "        class_desc[0] = len(class_desc[1]) + 1\n",
        "    else:\n",
        "        class_desc[0] = max(class_desc[1].values()) + 1"
      ],
      "execution_count": 7,
      "outputs": []
    },
    {
      "cell_type": "code",
      "metadata": {
        "id": "MZwdS84MGS7D"
      },
      "source": [
        " # Получение one hot encoding представления значения класса\n",
        " \n",
        "def int_to_ohe(arg, class_list):\n",
        "  \n",
        "    # Определение размерности выходного вектора\n",
        "    num_classes = class_list[0]\n",
        "\n",
        "    # Поиск верного интервала для входного значения\n",
        "    for i in range(num_classes - 1):\n",
        "        if arg < class_list[1][i]:\n",
        "            cls = i                       # Интервал найден - назначение класса\n",
        "            break\n",
        "    else:                                 # Внимание: for/else\n",
        "        cls = num_classes - 1             # Интервал не найден - последний класс\n",
        "\n",
        "    # Возврат в виде one hot encoding-вектора\n",
        "    return utils.to_categorical(cls, num_classes)"
      ],
      "execution_count": 8,
      "outputs": []
    },
    {
      "cell_type": "code",
      "metadata": {
        "id": "LlFhkM0RAbsr"
      },
      "source": [
        "# Общая функция преобразования строки к multi-вектору\n",
        "# На входе данные и словарь сопоставления подстрок классам\n",
        "\n",
        "def str_to_multi(arg, class_dict):\n",
        "    # Определение размерности выходного вектора\n",
        "    num_classes = class_dict[0]\n",
        "\n",
        "    # Создание нулевого вектора\n",
        "    result = np.zeros(num_classes)\n",
        "    \n",
        "    # Поиск значения в словаре и, если найдено,\n",
        "    # выставление 1. на нужной позиции\n",
        "    for value, cls in class_dict[1].items():\n",
        "        if value in arg:\n",
        "            result[cls] = 1.\n",
        "\n",
        "    return result"
      ],
      "execution_count": 9,
      "outputs": []
    },
    {
      "cell_type": "code",
      "metadata": {
        "id": "6ijWpsP8C89r"
      },
      "source": [
        "# Разбор значений пола, возраста\n",
        "\n",
        "base_update_year = 2019\n",
        "\n",
        "def extract_sex_age_years(arg):\n",
        "    # Ожидается, что значение содержит \"мужчина\" или \"женщина\"\n",
        "    # Если \"мужчина\" - результат 1., иначе 0.\n",
        "    sex = 1. if 'муж' in arg else 0.\n",
        "\n",
        "    try:\n",
        "        # Выделение года и вычисление возраста\n",
        "        years = base_update_year - int(re.search(r'\\d{4}', arg)[0])\n",
        "\n",
        "    except (IndexError, TypeError, ValueError):\n",
        "        # В случае ошибки год равен 0\n",
        "        years = 0\n",
        "\n",
        "    return sex, years"
      ],
      "execution_count": 10,
      "outputs": []
    },
    {
      "cell_type": "code",
      "metadata": {
        "id": "ybrMkaYXFNl6"
      },
      "source": [
        "# Преобразование значения возраста в one hot encoding\n",
        "\n",
        "def age_years_to_ohe(arg):\n",
        "    return int_to_ohe(arg, age_class)"
      ],
      "execution_count": 11,
      "outputs": []
    },
    {
      "cell_type": "code",
      "metadata": {
        "id": "j3Vhf8Y4GHFJ"
      },
      "source": [
        "# Преобразование данных об опыте работы в one hot encoding\n",
        "\n",
        "def experience_months_to_ohe(arg):\n",
        "    return int_to_ohe(arg, experience_class)"
      ],
      "execution_count": 12,
      "outputs": []
    },
    {
      "cell_type": "code",
      "metadata": {
        "id": "lAlv_61TFW-4"
      },
      "source": [
        "# Разбор значения зарплаты\n",
        "\n",
        "def extract_salary(arg):\n",
        "    try:\n",
        "        # Выделение числа и преобразование к float\n",
        "        value = float(re.search(r'\\d+', arg)[0])\n",
        "\n",
        "        # Поиск символа валюты в строке, и, если найдено,\n",
        "        # приведение к рублю по курсу валюты\n",
        "        for currency, rate in currency_rate.items():\n",
        "            if currency in arg:\n",
        "                value *= rate\n",
        "                break\n",
        "\n",
        "    except TypeError:\n",
        "        # Если не получилось выделить число - вернуть 0\n",
        "        value = 0.\n",
        "\n",
        "    return value / 1000.                  # В тысячах рублей"
      ],
      "execution_count": 13,
      "outputs": []
    },
    {
      "cell_type": "code",
      "metadata": {
        "id": "7rXOxq9lFXY3"
      },
      "source": [
        "# Разбор данных о городe и преобразование в one hot encoding\n",
        "\n",
        "def extract_city_to_ohe(arg):\n",
        "    # Определение размерности выходного вектора\n",
        "    num_classes = city_class[0]\n",
        "\n",
        "    # Разбивка на слова\n",
        "    split_array = re.split(r'[ ,.:()?!]', arg)\n",
        "\n",
        "    # Поиск города в строке и присвоение ему класса\n",
        "    for word in split_array:\n",
        "        city_cls = city_class[1].get(word, -1)\n",
        "        if city_cls >= 0:\n",
        "            break\n",
        "    else:                                 # Внимание: for/else\n",
        "        # Город не в city_class - значит его класс \"прочие города\"\n",
        "        city_cls = num_classes - 1\n",
        "\n",
        "    # Возврат в виде one hot encoding-вектора\n",
        "    return utils.to_categorical(city_cls, num_classes)"
      ],
      "execution_count": 14,
      "outputs": []
    },
    {
      "cell_type": "code",
      "metadata": {
        "id": "z5t3F4U5FXt-"
      },
      "source": [
        "# Разбор данных о желаемой занятости и преобразование в multi\n",
        "\n",
        "def extract_employment_to_multi(arg):\n",
        "    return str_to_multi(arg, employment_class)"
      ],
      "execution_count": 15,
      "outputs": []
    },
    {
      "cell_type": "code",
      "metadata": {
        "id": "DWYotxpvFmwq"
      },
      "source": [
        "# Разбор данных о желаемом графике работы и преобразование в multi\n",
        "\n",
        "def extract_schedule_to_multi(arg):\n",
        "    return str_to_multi(arg, schedule_class)"
      ],
      "execution_count": 16,
      "outputs": []
    },
    {
      "cell_type": "code",
      "metadata": {
        "id": "aJH1dMJBFnJs"
      },
      "source": [
        "# Разбор данных об образовании и преобразование в multi\n",
        "\n",
        "def extract_education_to_multi(arg):\n",
        "    result = str_to_multi(arg, education_class)\n",
        "    \n",
        "    # Поправка: неоконченное высшее не может быть одновременно с высшим\n",
        "    if result[2] > 0.:\n",
        "        result[0] = 0.\n",
        "    \n",
        "    return result"
      ],
      "execution_count": 17,
      "outputs": []
    },
    {
      "cell_type": "code",
      "metadata": {
        "id": "-Gw-a0kDFne1"
      },
      "source": [
        "# Разбор данных об опыте работы - результат в месяцах\n",
        "\n",
        "def extract_experience_months(arg):\n",
        "    try:\n",
        "        # Выделение количества лет, преобразование в int\n",
        "        years = int(re.search(r'(\\d+)\\s+(год.?|лет)', arg)[1])\n",
        "\n",
        "    except (IndexError, TypeError, ValueError):\n",
        "        # Неудача - количество лет равно 0\n",
        "        years = 0\n",
        "    \n",
        "    try:\n",
        "        # Выделение количества месяцев, преобразование в int\n",
        "        months = int(re.search(r'(\\d+)\\s+месяц', arg)[1])\n",
        "\n",
        "    except (IndexError, TypeError, ValueError):\n",
        "        # Неудача - количество месяцев равно 0\n",
        "        months = 0\n",
        "\n",
        "    # Возврат результата в месяцах\n",
        "    return years * 12 + months"
      ],
      "execution_count": 18,
      "outputs": []
    },
    {
      "cell_type": "markdown",
      "metadata": {
        "id": "9MFFc7hcYg29"
      },
      "source": [
        "Функции подготовки выборок"
      ]
    },
    {
      "cell_type": "code",
      "metadata": {
        "id": "b0jq85WTahIA"
      },
      "source": [
        "def extract_row_data(row):\n",
        "  \n",
        "    # Извлечение и преобразование данных\n",
        "    sex, age = extract_sex_age_years(row[COL_SEX_AGE])      # Пол, возраст\n",
        "    sex_vec = np.array([sex])                               # Пол в виде вектора\n",
        "    age_ohe = age_years_to_ohe(age)                         # Возраст в one hot encoding\n",
        "    city_ohe = extract_city_to_ohe(row[COL_CITY])           # Город\n",
        "    empl_multi = extract_employment_to_multi(row[COL_EMPL]) # Тип занятости\n",
        "    sсhed_multi = extract_schedule_to_multi(row[COL_SCHED]) # График работы\n",
        "    edu_multi = extract_education_to_multi(row[COL_EDU])    # Образование\n",
        "    exp_months = extract_experience_months(row[COL_EXP])    # Опыт работы в месяцах\n",
        "    exp_ohe = experience_months_to_ohe(exp_months)          # Опыт работы в one hot encoding\n",
        "    salary = extract_salary(row[COL_SALARY])                # Зарплата в тысячах рублей\n",
        "    salary_vec = np.array([salary])                         # Зарплата в виде вектора\n",
        "\n",
        "    # Объединение всех входных данных в один общий вектор\n",
        "    x_data = np.hstack([sex_vec,\n",
        "                        age_ohe, \n",
        "                        city_ohe,\n",
        "                        empl_multi,\n",
        "                        sсhed_multi,\n",
        "                        edu_multi,\n",
        "                        exp_ohe])\n",
        "    \n",
        "    # Возврат входных данных и выходных (зарплаты)\n",
        "    return x_data, salary_vec\n",
        "\n",
        "\n",
        "# Создание общей выборки\n",
        "def construct_train_data(row_list):\n",
        "    x_data = []\n",
        "    y_data = []\n",
        "    \n",
        "    for row in row_list:\n",
        "        x, y = extract_row_data(row)\n",
        "        if y[0] > 0:                      # Данные добавляются, только если есть зарплата\n",
        "            x_data.append(x)\n",
        "            y_data.append(y)\n",
        "\n",
        "    return np.array(x_data), np.array(y_data)"
      ],
      "execution_count": 19,
      "outputs": []
    },
    {
      "cell_type": "code",
      "metadata": {
        "id": "fK9zVrEuMF4I"
      },
      "source": [
        "# Формирование выборки из загруженного набора данных    \n",
        "x_train_01, y_train = construct_train_data(df.values)"
      ],
      "execution_count": 20,
      "outputs": []
    },
    {
      "cell_type": "code",
      "metadata": {
        "colab": {
          "base_uri": "https://localhost:8080/"
        },
        "id": "neCPfE6DMnfu",
        "outputId": "f577c9fe-225d-4c7e-aef4-57cf4ae7f20e"
      },
      "source": [
        "# Форма наборов параметров и зарплат\n",
        "print(x_train_01.shape) \n",
        "print(y_train.shape)\n",
        "\n",
        "# Пример обработанных данных\n",
        "n = 0 \n",
        "print(x_train_01[n])\n",
        "print(y_train[n])"
      ],
      "execution_count": 21,
      "outputs": [
        {
          "output_type": "stream",
          "name": "stdout",
          "text": [
            "(62967, 39)\n",
            "(62967, 1)\n",
            "[0. 0. 0. 0. 1. 0. 0. 0. 0. 0. 0. 0. 0. 0. 0. 1. 0. 0. 0. 1. 0. 1. 0. 0.\n",
            " 0. 0. 0. 0. 0. 0. 0. 0. 1. 0. 0. 0. 0. 0. 0.]\n",
            "[40.]\n"
          ]
        }
      ]
    },
    {
      "cell_type": "markdown",
      "metadata": {
        "id": "jXQP_ALWdTdI"
      },
      "source": [
        "Функция отрисовки графика истории обучения"
      ]
    },
    {
      "cell_type": "code",
      "metadata": {
        "id": "Kb-Lu5fPdGoh"
      },
      "source": [
        "def plot_history(history):\n",
        "    plt.plot(history.history['mae'], \n",
        "            label='Средняя абсолютная ошибка на обучающем наборе')\n",
        "    plt.plot(history.history['val_mae'], \n",
        "            label='Средняя абсолютная ошибка на проверочном наборе')\n",
        "    plt.xlabel('Эпоха обучения')\n",
        "    plt.ylabel('Средняя абсолютная ошибка')\n",
        "    plt.legend()\n",
        "    plt.show()"
      ],
      "execution_count": 22,
      "outputs": []
    },
    {
      "cell_type": "markdown",
      "metadata": {
        "id": "7e1foE1GAWRe"
      },
      "source": [
        "На основе подготовленной для нейросети таблицы данных с HeadHunter создайте 6 архитектур нейросетей, поэкспериментируйте с гиперпараметрами.\n",
        "Используйте только числовые данные, текстовые не подавайте.\n",
        "\n",
        "Результаты в конце проанализируйте.\n"
      ]
    },
    {
      "cell_type": "code",
      "metadata": {
        "id": "Lw5dKpafB7pT",
        "colab": {
          "base_uri": "https://localhost:8080/",
          "height": 1000
        },
        "outputId": "d9915fc0-885e-46e6-c3e8-6277def1d95b"
      },
      "source": [
        "# Ваше решение\n",
        "\n",
        "model = Sequential()\n",
        "model.add(BatchNormalization(input_dim = x_train_01.shape[1]))\n",
        "model.add(Dense(64, activation = 'relu'))\n",
        "model.add(Dense(1024, activation = 'tanh'))\n",
        "model.add(Dense(32, activation = 'relu'))\n",
        "model.add(Dense(1, activation = 'linear'))\n",
        "\n",
        "model.compile(optimizer = Adam(learning_rate=0.0001), loss = 'mse', metrics = ['mae'])\n",
        "hist = model.fit(x_train_01, y_train, epochs=35, batch_size = 128, validation_split = 0.15, verbose = 1)\n",
        "plot_history(hist)"
      ],
      "execution_count": 27,
      "outputs": [
        {
          "output_type": "stream",
          "name": "stdout",
          "text": [
            "Epoch 1/35\n",
            "331/419 [======================>.......] - ETA: 0s - loss: 7410.8843 - mae: 54.3307"
          ]
        },
        {
          "output_type": "stream",
          "name": "stderr",
          "text": [
            "Exception ignored in: <function WeakKeyDictionary.__init__.<locals>.remove at 0x7f1bde8b7160>\n",
            "Traceback (most recent call last):\n",
            "  File \"/usr/lib/python3.8/weakref.py\", line 345, in remove\n",
            "    def remove(k, selfref=ref(self)):\n",
            "KeyboardInterrupt: \n"
          ]
        },
        {
          "output_type": "stream",
          "name": "stdout",
          "text": [
            "419/419 [==============================] - 5s 8ms/step - loss: 6769.7583 - mae: 52.2279 - val_loss: 5240.0444 - val_mae: 44.5501\n",
            "Epoch 2/35\n",
            "419/419 [==============================] - 3s 7ms/step - loss: 4753.6343 - mae: 43.4142 - val_loss: 5070.9839 - val_mae: 43.9640\n",
            "Epoch 3/35\n",
            "419/419 [==============================] - 3s 6ms/step - loss: 4653.8716 - mae: 42.5298 - val_loss: 4983.2842 - val_mae: 44.5116\n",
            "Epoch 4/35\n",
            "419/419 [==============================] - 3s 7ms/step - loss: 4604.3438 - mae: 42.2061 - val_loss: 4952.2466 - val_mae: 44.0170\n",
            "Epoch 5/35\n",
            "419/419 [==============================] - 3s 6ms/step - loss: 4580.8784 - mae: 42.0203 - val_loss: 4931.7598 - val_mae: 43.7859\n",
            "Epoch 6/35\n",
            "419/419 [==============================] - 3s 6ms/step - loss: 4564.5688 - mae: 41.9724 - val_loss: 4921.5840 - val_mae: 43.4212\n",
            "Epoch 7/35\n",
            "419/419 [==============================] - 3s 6ms/step - loss: 4552.8438 - mae: 41.8427 - val_loss: 4915.4878 - val_mae: 43.1857\n",
            "Epoch 8/35\n",
            "419/419 [==============================] - 3s 8ms/step - loss: 4544.0376 - mae: 41.7337 - val_loss: 4901.5801 - val_mae: 43.3724\n",
            "Epoch 9/35\n",
            "419/419 [==============================] - 3s 7ms/step - loss: 4537.6665 - mae: 41.6991 - val_loss: 4895.4316 - val_mae: 43.3881\n",
            "Epoch 10/35\n",
            "419/419 [==============================] - 3s 7ms/step - loss: 4530.1455 - mae: 41.6123 - val_loss: 4886.2568 - val_mae: 43.8689\n",
            "Epoch 11/35\n",
            "419/419 [==============================] - 3s 7ms/step - loss: 4533.9995 - mae: 41.6625 - val_loss: 4887.7505 - val_mae: 43.3561\n",
            "Epoch 12/35\n",
            "419/419 [==============================] - 3s 8ms/step - loss: 4523.2871 - mae: 41.5956 - val_loss: 4890.2983 - val_mae: 43.2635\n",
            "Epoch 13/35\n",
            "419/419 [==============================] - 3s 6ms/step - loss: 4518.6826 - mae: 41.5640 - val_loss: 4881.7817 - val_mae: 43.4650\n",
            "Epoch 14/35\n",
            "419/419 [==============================] - 3s 7ms/step - loss: 4518.5337 - mae: 41.5169 - val_loss: 4877.2808 - val_mae: 44.0442\n",
            "Epoch 15/35\n",
            "419/419 [==============================] - 3s 6ms/step - loss: 4514.0024 - mae: 41.5426 - val_loss: 4879.2607 - val_mae: 43.3737\n",
            "Epoch 16/35\n",
            "419/419 [==============================] - 3s 8ms/step - loss: 4516.7158 - mae: 41.5668 - val_loss: 4891.2969 - val_mae: 42.8134\n",
            "Epoch 17/35\n",
            "419/419 [==============================] - 3s 7ms/step - loss: 4511.9966 - mae: 41.4636 - val_loss: 4876.4863 - val_mae: 43.3228\n",
            "Epoch 18/35\n",
            "419/419 [==============================] - 3s 7ms/step - loss: 4510.5029 - mae: 41.4969 - val_loss: 4874.2002 - val_mae: 43.4380\n",
            "Epoch 19/35\n",
            "419/419 [==============================] - 3s 7ms/step - loss: 4507.8975 - mae: 41.5039 - val_loss: 4873.9536 - val_mae: 43.2887\n",
            "Epoch 20/35\n",
            "419/419 [==============================] - 4s 10ms/step - loss: 4502.1338 - mae: 41.4118 - val_loss: 4871.6821 - val_mae: 43.6300\n",
            "Epoch 21/35\n",
            "419/419 [==============================] - 3s 7ms/step - loss: 4507.1011 - mae: 41.4790 - val_loss: 4893.6826 - val_mae: 42.6437\n",
            "Epoch 22/35\n",
            "419/419 [==============================] - 3s 6ms/step - loss: 4502.6460 - mae: 41.4119 - val_loss: 4880.8130 - val_mae: 42.9038\n",
            "Epoch 23/35\n",
            "419/419 [==============================] - 3s 6ms/step - loss: 4500.5034 - mae: 41.4049 - val_loss: 4865.7671 - val_mae: 43.9009\n",
            "Epoch 24/35\n",
            "419/419 [==============================] - 3s 8ms/step - loss: 4499.2793 - mae: 41.4455 - val_loss: 4872.7896 - val_mae: 43.0910\n",
            "Epoch 25/35\n",
            "419/419 [==============================] - 3s 7ms/step - loss: 4496.6050 - mae: 41.3988 - val_loss: 4871.3433 - val_mae: 43.1982\n",
            "Epoch 26/35\n",
            "419/419 [==============================] - 3s 7ms/step - loss: 4501.1030 - mae: 41.3802 - val_loss: 4880.2388 - val_mae: 44.9357\n",
            "Epoch 27/35\n",
            "419/419 [==============================] - 3s 6ms/step - loss: 4505.3887 - mae: 41.4359 - val_loss: 4864.9448 - val_mae: 43.8498\n",
            "Epoch 28/35\n",
            "419/419 [==============================] - 3s 8ms/step - loss: 4497.4868 - mae: 41.3879 - val_loss: 4869.0566 - val_mae: 43.1489\n",
            "Epoch 29/35\n",
            "419/419 [==============================] - 3s 7ms/step - loss: 4492.7822 - mae: 41.3455 - val_loss: 4869.7695 - val_mae: 43.0725\n",
            "Epoch 30/35\n",
            "419/419 [==============================] - 3s 7ms/step - loss: 4494.5527 - mae: 41.3760 - val_loss: 4873.1948 - val_mae: 42.9098\n",
            "Epoch 31/35\n",
            "419/419 [==============================] - 3s 7ms/step - loss: 4493.3721 - mae: 41.3054 - val_loss: 4863.9419 - val_mae: 43.7226\n",
            "Epoch 32/35\n",
            "419/419 [==============================] - 3s 8ms/step - loss: 4497.6216 - mae: 41.4020 - val_loss: 4868.3203 - val_mae: 43.1956\n",
            "Epoch 33/35\n",
            "419/419 [==============================] - 3s 7ms/step - loss: 4496.3486 - mae: 41.3970 - val_loss: 4861.5103 - val_mae: 43.3770\n",
            "Epoch 34/35\n",
            "419/419 [==============================] - 3s 7ms/step - loss: 4487.5078 - mae: 41.3156 - val_loss: 4861.9858 - val_mae: 43.5422\n",
            "Epoch 35/35\n",
            "419/419 [==============================] - 3s 7ms/step - loss: 4489.2261 - mae: 41.3084 - val_loss: 4861.7725 - val_mae: 43.3347\n"
          ]
        },
        {
          "output_type": "display_data",
          "data": {
            "text/plain": [
              "<Figure size 432x288 with 1 Axes>"
            ],
            "image/png": "[encoded data removed]"
          },
          "metadata": {
            "needs_background": "light"
          }
        }
      ]
    },
    {
      "cell_type": "code",
      "source": [
        "# Вариант №2 добавлена нормализация\n",
        "\n",
        "model = Sequential()\n",
        "model.add(BatchNormalization(input_dim = x_train_01.shape[1]))\n",
        "model.add(Dense(64, activation = 'relu'))\n",
        "model.add(Dropout(0.25))\n",
        "model.add(Dense(1024, activation = 'tanh'))\n",
        "model.add(BatchNormalization())\n",
        "model.add(Dense(32, activation = 'relu'))\n",
        "model.add(Dense(1, activation = 'linear'))\n",
        "\n",
        "model.compile(optimizer = Adam(learning_rate=0.0001), loss = 'mse', metrics = ['mae'])\n",
        "hist = model.fit(x_train_01, y_train, epochs=35, batch_size = 128, validation_split = 0.15, verbose = 1)\n",
        "plot_history(hist)"
      ],
      "metadata": {
        "colab": {
          "base_uri": "https://localhost:8080/",
          "height": 1000
        },
        "id": "kdk_bdOc5glt",
        "outputId": "b046453c-2d28-4d67-ecfd-a21b6cf1bb7e"
      },
      "execution_count": 28,
      "outputs": [
        {
          "output_type": "stream",
          "name": "stdout",
          "text": [
            "Epoch 1/35\n",
            "419/419 [==============================] - 5s 9ms/step - loss: 8218.1582 - mae: 60.7257 - val_loss: 6607.4839 - val_mae: 50.6899\n",
            "Epoch 2/35\n",
            "419/419 [==============================] - 4s 8ms/step - loss: 5297.1973 - mae: 45.8285 - val_loss: 5280.7051 - val_mae: 45.2104\n",
            "Epoch 3/35\n",
            "419/419 [==============================] - 5s 11ms/step - loss: 4889.7930 - mae: 43.3732 - val_loss: 5057.0469 - val_mae: 43.7011\n",
            "Epoch 4/35\n",
            "419/419 [==============================] - 4s 10ms/step - loss: 4729.7271 - mae: 42.3619 - val_loss: 4982.8096 - val_mae: 43.5220\n",
            "Epoch 5/35\n",
            "419/419 [==============================] - 4s 11ms/step - loss: 4667.1211 - mae: 42.1762 - val_loss: 4956.3936 - val_mae: 43.1121\n",
            "Epoch 6/35\n",
            "419/419 [==============================] - 6s 14ms/step - loss: 4638.9834 - mae: 42.0802 - val_loss: 4923.1831 - val_mae: 43.3958\n",
            "Epoch 7/35\n",
            "419/419 [==============================] - 4s 9ms/step - loss: 4617.0347 - mae: 41.9777 - val_loss: 4908.8276 - val_mae: 43.4869\n",
            "Epoch 8/35\n",
            "419/419 [==============================] - 3s 8ms/step - loss: 4600.4062 - mae: 42.0121 - val_loss: 4906.7173 - val_mae: 43.1882\n",
            "Epoch 9/35\n",
            "419/419 [==============================] - 4s 10ms/step - loss: 4587.0405 - mae: 41.9688 - val_loss: 4907.4258 - val_mae: 43.0969\n",
            "Epoch 10/35\n",
            "419/419 [==============================] - 5s 11ms/step - loss: 4583.4307 - mae: 41.8840 - val_loss: 4894.1006 - val_mae: 43.3555\n",
            "Epoch 11/35\n",
            "419/419 [==============================] - 4s 9ms/step - loss: 4583.4580 - mae: 41.8896 - val_loss: 4905.6421 - val_mae: 42.9459\n",
            "Epoch 12/35\n",
            "419/419 [==============================] - 4s 10ms/step - loss: 4583.4780 - mae: 41.8722 - val_loss: 4892.9233 - val_mae: 43.0230\n",
            "Epoch 13/35\n",
            "419/419 [==============================] - 4s 10ms/step - loss: 4564.5679 - mae: 41.8673 - val_loss: 4890.8311 - val_mae: 42.9712\n",
            "Epoch 14/35\n",
            "419/419 [==============================] - 5s 13ms/step - loss: 4566.6831 - mae: 41.7767 - val_loss: 4891.1631 - val_mae: 43.0792\n",
            "Epoch 15/35\n",
            "419/419 [==============================] - 5s 12ms/step - loss: 4562.2822 - mae: 41.7186 - val_loss: 4875.8511 - val_mae: 43.3206\n",
            "Epoch 16/35\n",
            "419/419 [==============================] - 5s 12ms/step - loss: 4559.2573 - mae: 41.8036 - val_loss: 4888.6484 - val_mae: 42.7865\n",
            "Epoch 17/35\n",
            "419/419 [==============================] - 5s 12ms/step - loss: 4553.5020 - mae: 41.7022 - val_loss: 4880.7578 - val_mae: 43.1352\n",
            "Epoch 18/35\n",
            "419/419 [==============================] - 5s 12ms/step - loss: 4546.9727 - mae: 41.6106 - val_loss: 4883.9380 - val_mae: 42.8332\n",
            "Epoch 19/35\n",
            "419/419 [==============================] - 6s 15ms/step - loss: 4550.7617 - mae: 41.7509 - val_loss: 4882.4463 - val_mae: 42.9899\n",
            "Epoch 20/35\n",
            "419/419 [==============================] - 4s 9ms/step - loss: 4546.3198 - mae: 41.6475 - val_loss: 4884.2510 - val_mae: 42.8642\n",
            "Epoch 21/35\n",
            "419/419 [==============================] - 4s 10ms/step - loss: 4544.3926 - mae: 41.6681 - val_loss: 4882.2656 - val_mae: 42.9262\n",
            "Epoch 22/35\n",
            "419/419 [==============================] - 4s 10ms/step - loss: 4547.8633 - mae: 41.6883 - val_loss: 4889.8286 - val_mae: 42.8969\n",
            "Epoch 23/35\n",
            "419/419 [==============================] - 4s 10ms/step - loss: 4540.8384 - mae: 41.5913 - val_loss: 4867.5039 - val_mae: 43.1391\n",
            "Epoch 24/35\n",
            "419/419 [==============================] - 4s 9ms/step - loss: 4539.5742 - mae: 41.6138 - val_loss: 4868.9146 - val_mae: 43.0929\n",
            "Epoch 25/35\n",
            "419/419 [==============================] - 4s 10ms/step - loss: 4533.6099 - mae: 41.6216 - val_loss: 4887.5942 - val_mae: 42.7046\n",
            "Epoch 26/35\n",
            "419/419 [==============================] - 4s 9ms/step - loss: 4537.2563 - mae: 41.5710 - val_loss: 4874.8018 - val_mae: 42.8496\n",
            "Epoch 27/35\n",
            "419/419 [==============================] - 4s 9ms/step - loss: 4524.6177 - mae: 41.5353 - val_loss: 4873.4263 - val_mae: 42.8798\n",
            "Epoch 28/35\n",
            "419/419 [==============================] - 4s 10ms/step - loss: 4533.9863 - mae: 41.5738 - val_loss: 4881.0073 - val_mae: 42.6142\n",
            "Epoch 29/35\n",
            "419/419 [==============================] - 4s 9ms/step - loss: 4525.0649 - mae: 41.5352 - val_loss: 4870.5771 - val_mae: 43.0598\n",
            "Epoch 30/35\n",
            "419/419 [==============================] - 4s 9ms/step - loss: 4532.0933 - mae: 41.5640 - val_loss: 4867.5332 - val_mae: 42.8964\n",
            "Epoch 31/35\n",
            "419/419 [==============================] - 4s 10ms/step - loss: 4531.4951 - mae: 41.6067 - val_loss: 4875.3604 - val_mae: 42.7656\n",
            "Epoch 32/35\n",
            "419/419 [==============================] - 4s 9ms/step - loss: 4520.1475 - mae: 41.4686 - val_loss: 4886.8521 - val_mae: 42.9570\n",
            "Epoch 33/35\n",
            "419/419 [==============================] - 4s 9ms/step - loss: 4529.2930 - mae: 41.5354 - val_loss: 4868.3960 - val_mae: 43.0009\n",
            "Epoch 34/35\n",
            "419/419 [==============================] - 4s 10ms/step - loss: 4519.8208 - mae: 41.4904 - val_loss: 4863.4644 - val_mae: 42.8374\n",
            "Epoch 35/35\n",
            "419/419 [==============================] - 3s 8ms/step - loss: 4527.9624 - mae: 41.5089 - val_loss: 4864.6367 - val_mae: 43.0217\n"
          ]
        },
        {
          "output_type": "display_data",
          "data": {
            "text/plain": [
              "<Figure size 432x288 with 1 Axes>"
            ],
            "image/png": "[encoded data removed]"
          },
          "metadata": {
            "needs_background": "light"
          }
        }
      ]
    },
    {
      "cell_type": "code",
      "source": [
        "# Вариант №3 Увеличены размеры первых двух слоёв\n",
        "\n",
        "model = Sequential()\n",
        "model.add(BatchNormalization(input_dim = x_train_01.shape[1]))\n",
        "model.add(Dense(128, activation = 'relu'))\n",
        "model.add(Dropout(0.25))\n",
        "model.add(Dense(4096, activation = 'tanh'))\n",
        "model.add(BatchNormalization())\n",
        "model.add(Dense(32, activation = 'relu'))\n",
        "model.add(Dense(1, activation = 'linear'))\n",
        "\n",
        "model.compile(optimizer = Adam(learning_rate=0.0001), loss = 'mse', metrics = ['mae'])\n",
        "hist = model.fit(x_train_01, y_train, epochs=35, batch_size = 128, validation_split = 0.15, verbose = 1)\n",
        "plot_history(hist)"
      ],
      "metadata": {
        "colab": {
          "base_uri": "https://localhost:8080/",
          "height": 1000
        },
        "id": "wTd-LveK6t6T",
        "outputId": "ad1386fc-8e49-41b1-d4d4-8b1aa8311080"
      },
      "execution_count": 29,
      "outputs": [
        {
          "output_type": "stream",
          "name": "stdout",
          "text": [
            "Epoch 1/35\n",
            "419/419 [==============================] - 13s 29ms/step - loss: 6132.5112 - mae: 49.3256 - val_loss: 5721.9771 - val_mae: 43.9985\n",
            "Epoch 2/35\n",
            "419/419 [==============================] - 12s 28ms/step - loss: 4712.0244 - mae: 42.6286 - val_loss: 4988.2476 - val_mae: 43.2566\n",
            "Epoch 3/35\n",
            "419/419 [==============================] - 14s 33ms/step - loss: 4642.0308 - mae: 42.1538 - val_loss: 4934.2188 - val_mae: 43.6722\n",
            "Epoch 4/35\n",
            "419/419 [==============================] - 18s 43ms/step - loss: 4608.3262 - mae: 42.0874 - val_loss: 4944.4551 - val_mae: 43.2830\n",
            "Epoch 5/35\n",
            "419/419 [==============================] - 12s 29ms/step - loss: 4594.5229 - mae: 41.9806 - val_loss: 4923.2686 - val_mae: 42.9802\n",
            "Epoch 6/35\n",
            "419/419 [==============================] - 13s 30ms/step - loss: 4587.3491 - mae: 41.8575 - val_loss: 4908.7607 - val_mae: 43.2821\n",
            "Epoch 7/35\n",
            "419/419 [==============================] - 14s 34ms/step - loss: 4585.2100 - mae: 41.9856 - val_loss: 4909.0669 - val_mae: 43.0253\n",
            "Epoch 8/35\n",
            "419/419 [==============================] - 14s 34ms/step - loss: 4561.5308 - mae: 41.7474 - val_loss: 4913.1685 - val_mae: 42.8782\n",
            "Epoch 9/35\n",
            "419/419 [==============================] - 15s 35ms/step - loss: 4558.5732 - mae: 41.7592 - val_loss: 4895.0063 - val_mae: 43.4855\n",
            "Epoch 10/35\n",
            "419/419 [==============================] - 14s 33ms/step - loss: 4544.5454 - mae: 41.6931 - val_loss: 4885.5503 - val_mae: 43.4326\n",
            "Epoch 11/35\n",
            "419/419 [==============================] - 12s 28ms/step - loss: 4551.6270 - mae: 41.7104 - val_loss: 4895.6216 - val_mae: 42.9973\n",
            "Epoch 12/35\n",
            "419/419 [==============================] - 14s 33ms/step - loss: 4541.7383 - mae: 41.6836 - val_loss: 4902.3208 - val_mae: 42.8236\n",
            "Epoch 13/35\n",
            "419/419 [==============================] - 13s 32ms/step - loss: 4538.1797 - mae: 41.6544 - val_loss: 4888.2178 - val_mae: 43.3138\n",
            "Epoch 14/35\n",
            "419/419 [==============================] - 15s 35ms/step - loss: 4540.1411 - mae: 41.6878 - val_loss: 4888.3779 - val_mae: 43.2219\n",
            "Epoch 15/35\n",
            "419/419 [==============================] - 17s 41ms/step - loss: 4533.6294 - mae: 41.6308 - val_loss: 4890.4902 - val_mae: 42.9333\n",
            "Epoch 16/35\n",
            "419/419 [==============================] - 16s 38ms/step - loss: 4533.1211 - mae: 41.5672 - val_loss: 4875.8838 - val_mae: 43.0168\n",
            "Epoch 17/35\n",
            "419/419 [==============================] - 12s 28ms/step - loss: 4539.8354 - mae: 41.5955 - val_loss: 4885.1426 - val_mae: 42.9143\n",
            "Epoch 18/35\n",
            "419/419 [==============================] - 12s 28ms/step - loss: 4523.0933 - mae: 41.5531 - val_loss: 4868.0845 - val_mae: 43.3671\n",
            "Epoch 19/35\n",
            "419/419 [==============================] - 12s 28ms/step - loss: 4526.8154 - mae: 41.5914 - val_loss: 4882.2993 - val_mae: 42.9179\n",
            "Epoch 20/35\n",
            "419/419 [==============================] - 12s 28ms/step - loss: 4523.1890 - mae: 41.6103 - val_loss: 4878.6191 - val_mae: 43.0180\n",
            "Epoch 21/35\n",
            "419/419 [==============================] - 12s 28ms/step - loss: 4528.3135 - mae: 41.5232 - val_loss: 4886.0083 - val_mae: 43.1748\n",
            "Epoch 22/35\n",
            "419/419 [==============================] - 12s 29ms/step - loss: 4523.9868 - mae: 41.5244 - val_loss: 4886.9204 - val_mae: 42.9826\n",
            "Epoch 23/35\n",
            "419/419 [==============================] - 12s 28ms/step - loss: 4525.5767 - mae: 41.5552 - val_loss: 4879.3032 - val_mae: 43.0099\n",
            "Epoch 24/35\n",
            "419/419 [==============================] - 12s 29ms/step - loss: 4508.2114 - mae: 41.4395 - val_loss: 4875.9824 - val_mae: 43.1120\n",
            "Epoch 25/35\n",
            "419/419 [==============================] - 12s 28ms/step - loss: 4511.9795 - mae: 41.5480 - val_loss: 4887.7944 - val_mae: 42.9112\n",
            "Epoch 26/35\n",
            "419/419 [==============================] - 12s 28ms/step - loss: 4513.5991 - mae: 41.4945 - val_loss: 4874.8403 - val_mae: 43.0262\n",
            "Epoch 27/35\n",
            "419/419 [==============================] - 12s 28ms/step - loss: 4523.7510 - mae: 41.5747 - val_loss: 4905.4658 - val_mae: 42.3763\n",
            "Epoch 28/35\n",
            "419/419 [==============================] - 13s 30ms/step - loss: 4506.9668 - mae: 41.4732 - val_loss: 4869.7427 - val_mae: 43.2496\n",
            "Epoch 29/35\n",
            "419/419 [==============================] - 12s 28ms/step - loss: 4507.5728 - mae: 41.5010 - val_loss: 4862.6616 - val_mae: 43.2445\n",
            "Epoch 30/35\n",
            "419/419 [==============================] - 13s 30ms/step - loss: 4507.2871 - mae: 41.5540 - val_loss: 4874.8589 - val_mae: 42.7505\n",
            "Epoch 31/35\n",
            "419/419 [==============================] - 12s 28ms/step - loss: 4506.4082 - mae: 41.3983 - val_loss: 4877.9727 - val_mae: 42.7013\n",
            "Epoch 32/35\n",
            "419/419 [==============================] - 12s 29ms/step - loss: 4509.6553 - mae: 41.4940 - val_loss: 4880.3955 - val_mae: 42.5546\n",
            "Epoch 33/35\n",
            "419/419 [==============================] - 12s 28ms/step - loss: 4502.4248 - mae: 41.4117 - val_loss: 4893.5469 - val_mae: 42.4483\n",
            "Epoch 34/35\n",
            "419/419 [==============================] - 12s 28ms/step - loss: 4503.5757 - mae: 41.4039 - val_loss: 4866.3022 - val_mae: 43.0507\n",
            "Epoch 35/35\n",
            "419/419 [==============================] - 12s 28ms/step - loss: 4508.8384 - mae: 41.4514 - val_loss: 4887.8442 - val_mae: 42.6223\n"
          ]
        },
        {
          "output_type": "display_data",
          "data": {
            "text/plain": [
              "<Figure size 432x288 with 1 Axes>"
            ],
            "image/png": "[encoded data removed]"
          },
          "metadata": {
            "needs_background": "light"
          }
        }
      ]
    },
    {
      "cell_type": "code",
      "source": [
        "# Вариант №4 Увеличен размер batch_size\n",
        "\n",
        "model = Sequential()\n",
        "model.add(BatchNormalization(input_dim = x_train_01.shape[1]))\n",
        "model.add(Dense(128, activation = 'relu'))\n",
        "model.add(Dropout(0.25))\n",
        "model.add(Dense(4096, activation = 'tanh'))\n",
        "model.add(BatchNormalization())\n",
        "model.add(Dense(32, activation = 'relu'))\n",
        "model.add(Dense(1, activation = 'linear'))\n",
        "\n",
        "model.compile(optimizer = Adam(learning_rate=0.0001), loss = 'mse', metrics = ['mae'])\n",
        "hist = model.fit(x_train_01, y_train, epochs=35, batch_size = 512, validation_split = 0.15, verbose = 1)\n",
        "plot_history(hist)"
      ],
      "metadata": {
        "colab": {
          "base_uri": "https://localhost:8080/",
          "height": 1000
        },
        "id": "D8XcbTQE7fiq",
        "outputId": "d6711aaf-bdf8-498d-964a-d87058b86717"
      },
      "execution_count": 30,
      "outputs": [
        {
          "output_type": "stream",
          "name": "stdout",
          "text": [
            "Epoch 1/35\n",
            "105/105 [==============================] - 11s 96ms/step - loss: 8122.2666 - mae: 59.5144 - val_loss: 11135.6279 - val_mae: 75.7662\n",
            "Epoch 2/35\n",
            "105/105 [==============================] - 10s 94ms/step - loss: 5269.9028 - mae: 44.3360 - val_loss: 8686.3994 - val_mae: 60.3458\n",
            "Epoch 3/35\n",
            "105/105 [==============================] - 9s 88ms/step - loss: 4823.8413 - mae: 42.7190 - val_loss: 6717.6577 - val_mae: 47.7099\n",
            "Epoch 4/35\n",
            "105/105 [==============================] - 10s 95ms/step - loss: 4701.2710 - mae: 42.3136 - val_loss: 5560.8984 - val_mae: 42.5397\n",
            "Epoch 5/35\n",
            "105/105 [==============================] - 10s 93ms/step - loss: 4653.2524 - mae: 42.1700 - val_loss: 5084.3330 - val_mae: 42.3491\n",
            "Epoch 6/35\n",
            "105/105 [==============================] - 10s 95ms/step - loss: 4624.5469 - mae: 42.0805 - val_loss: 4978.8394 - val_mae: 42.7240\n",
            "Epoch 7/35\n",
            "105/105 [==============================] - 10s 93ms/step - loss: 4605.2080 - mae: 42.0307 - val_loss: 4933.5503 - val_mae: 43.1159\n",
            "Epoch 8/35\n",
            "105/105 [==============================] - 9s 87ms/step - loss: 4595.5562 - mae: 42.0042 - val_loss: 4913.0166 - val_mae: 43.1692\n",
            "Epoch 9/35\n",
            "105/105 [==============================] - 10s 94ms/step - loss: 4569.7339 - mae: 41.8144 - val_loss: 4898.7681 - val_mae: 43.2449\n",
            "Epoch 10/35\n",
            "105/105 [==============================] - 11s 108ms/step - loss: 4577.3086 - mae: 41.9150 - val_loss: 4894.8208 - val_mae: 43.2140\n",
            "Epoch 11/35\n",
            "105/105 [==============================] - 11s 104ms/step - loss: 4574.9512 - mae: 41.9218 - val_loss: 4902.8501 - val_mae: 42.9204\n",
            "Epoch 12/35\n",
            "105/105 [==============================] - 10s 95ms/step - loss: 4557.9204 - mae: 41.7455 - val_loss: 4885.9434 - val_mae: 43.2316\n",
            "Epoch 13/35\n",
            "105/105 [==============================] - 10s 94ms/step - loss: 4559.5859 - mae: 41.8565 - val_loss: 4892.2705 - val_mae: 42.9482\n",
            "Epoch 14/35\n",
            "105/105 [==============================] - 9s 90ms/step - loss: 4551.2490 - mae: 41.7476 - val_loss: 4894.2163 - val_mae: 42.8725\n",
            "Epoch 15/35\n",
            "105/105 [==============================] - 9s 90ms/step - loss: 4554.2324 - mae: 41.8127 - val_loss: 4878.2695 - val_mae: 42.9928\n",
            "Epoch 16/35\n",
            "105/105 [==============================] - 10s 94ms/step - loss: 4546.2720 - mae: 41.6946 - val_loss: 4892.4209 - val_mae: 42.8267\n",
            "Epoch 17/35\n",
            "105/105 [==============================] - 10s 95ms/step - loss: 4539.0107 - mae: 41.6978 - val_loss: 4868.9683 - val_mae: 43.3639\n",
            "Epoch 18/35\n",
            "105/105 [==============================] - 10s 94ms/step - loss: 4542.6626 - mae: 41.7260 - val_loss: 4876.4287 - val_mae: 42.9312\n",
            "Epoch 19/35\n",
            "105/105 [==============================] - 10s 94ms/step - loss: 4536.6646 - mae: 41.6445 - val_loss: 4871.5615 - val_mae: 42.9616\n",
            "Epoch 20/35\n",
            "105/105 [==============================] - 9s 86ms/step - loss: 4529.5972 - mae: 41.6515 - val_loss: 4874.1787 - val_mae: 42.8469\n",
            "Epoch 21/35\n",
            "105/105 [==============================] - 10s 94ms/step - loss: 4533.3115 - mae: 41.6517 - val_loss: 4885.2202 - val_mae: 42.7311\n",
            "Epoch 22/35\n",
            "105/105 [==============================] - 10s 94ms/step - loss: 4527.5742 - mae: 41.6077 - val_loss: 4873.5649 - val_mae: 42.7702\n",
            "Epoch 23/35\n",
            "105/105 [==============================] - 10s 94ms/step - loss: 4528.4507 - mae: 41.6386 - val_loss: 4873.0225 - val_mae: 42.7605\n",
            "Epoch 24/35\n",
            "105/105 [==============================] - 10s 95ms/step - loss: 4527.0342 - mae: 41.5618 - val_loss: 4877.8628 - val_mae: 42.7229\n",
            "Epoch 25/35\n",
            "105/105 [==============================] - 9s 89ms/step - loss: 4528.6914 - mae: 41.6866 - val_loss: 4873.9912 - val_mae: 42.7975\n",
            "Epoch 26/35\n",
            "105/105 [==============================] - 10s 93ms/step - loss: 4532.6553 - mae: 41.5884 - val_loss: 4873.9741 - val_mae: 42.7899\n",
            "Epoch 27/35\n",
            "105/105 [==============================] - 10s 93ms/step - loss: 4521.7036 - mae: 41.6051 - val_loss: 4872.7354 - val_mae: 42.7440\n",
            "Epoch 28/35\n",
            "105/105 [==============================] - 10s 93ms/step - loss: 4520.3018 - mae: 41.5294 - val_loss: 4863.4990 - val_mae: 42.9039\n",
            "Epoch 29/35\n",
            "105/105 [==============================] - 10s 94ms/step - loss: 4525.2905 - mae: 41.6125 - val_loss: 4874.5347 - val_mae: 42.7311\n",
            "Epoch 30/35\n",
            "105/105 [==============================] - 10s 92ms/step - loss: 4518.1396 - mae: 41.5455 - val_loss: 4864.8081 - val_mae: 42.9148\n",
            "Epoch 31/35\n",
            "105/105 [==============================] - 9s 89ms/step - loss: 4515.9668 - mae: 41.4945 - val_loss: 4872.4736 - val_mae: 42.7037\n",
            "Epoch 32/35\n",
            "105/105 [==============================] - 10s 93ms/step - loss: 4506.4663 - mae: 41.5140 - val_loss: 4864.6855 - val_mae: 42.8291\n",
            "Epoch 33/35\n",
            "105/105 [==============================] - 10s 94ms/step - loss: 4507.6938 - mae: 41.5708 - val_loss: 4855.4575 - val_mae: 43.0882\n",
            "Epoch 34/35\n",
            "105/105 [==============================] - 10s 95ms/step - loss: 4515.2124 - mae: 41.5110 - val_loss: 4863.8149 - val_mae: 42.8293\n",
            "Epoch 35/35\n",
            "105/105 [==============================] - 10s 94ms/step - loss: 4513.4658 - mae: 41.5985 - val_loss: 4867.0640 - val_mae: 42.7493\n"
          ]
        },
        {
          "output_type": "display_data",
          "data": {
            "text/plain": [
              "<Figure size 432x288 with 1 Axes>"
            ],
            "image/png": "[encoded data removed]"
          },
          "metadata": {
            "needs_background": "light"
          }
        }
      ]
    },
    {
      "cell_type": "code",
      "source": [
        "# Вариант №5 Изменена функция активации второго слоя.\n",
        "\n",
        "model = Sequential()\n",
        "model.add(BatchNormalization(input_dim = x_train_01.shape[1]))\n",
        "model.add(Dense(128, activation = 'relu'))\n",
        "model.add(Dropout(0.25))\n",
        "model.add(Dense(4096, activation = 'relu'))\n",
        "model.add(BatchNormalization())\n",
        "model.add(Dense(32, activation = 'relu'))\n",
        "model.add(Dense(1, activation = 'linear'))\n",
        "\n",
        "model.compile(optimizer = Adam(learning_rate=0.0001), loss = 'mse', metrics = ['mae'])\n",
        "hist = model.fit(x_train_01, y_train, epochs=35, batch_size = 512, validation_split = 0.15, verbose = 1)\n",
        "plot_history(hist)"
      ],
      "metadata": {
        "colab": {
          "base_uri": "https://localhost:8080/",
          "height": 1000
        },
        "id": "WxGZyFHC70Am",
        "outputId": "83829b4c-0bff-4932-b7e9-73f1b9ebfa20"
      },
      "execution_count": 31,
      "outputs": [
        {
          "output_type": "stream",
          "name": "stdout",
          "text": [
            "Epoch 1/35\n",
            "105/105 [==============================] - 11s 96ms/step - loss: 9661.8857 - mae: 69.0093 - val_loss: 11775.6328 - val_mae: 79.2633\n",
            "Epoch 2/35\n",
            "105/105 [==============================] - 10s 94ms/step - loss: 6508.9648 - mae: 51.7333 - val_loss: 9428.1729 - val_mae: 65.6705\n",
            "Epoch 3/35\n",
            "105/105 [==============================] - 10s 93ms/step - loss: 5323.3867 - mae: 45.8624 - val_loss: 6984.1250 - val_mae: 50.1488\n",
            "Epoch 4/35\n",
            "105/105 [==============================] - 10s 95ms/step - loss: 4928.5620 - mae: 43.6647 - val_loss: 5570.0200 - val_mae: 43.6916\n",
            "Epoch 5/35\n",
            "105/105 [==============================] - 9s 88ms/step - loss: 4739.3765 - mae: 42.5991 - val_loss: 5094.9062 - val_mae: 43.0513\n",
            "Epoch 6/35\n",
            "105/105 [==============================] - 10s 92ms/step - loss: 4642.9971 - mae: 42.0611 - val_loss: 4949.5889 - val_mae: 43.5222\n",
            "Epoch 7/35\n",
            "105/105 [==============================] - 10s 94ms/step - loss: 4602.3062 - mae: 41.9538 - val_loss: 4914.6689 - val_mae: 43.4973\n",
            "Epoch 8/35\n",
            "105/105 [==============================] - 10s 94ms/step - loss: 4577.6187 - mae: 41.8465 - val_loss: 4889.0386 - val_mae: 43.6516\n",
            "Epoch 9/35\n",
            "105/105 [==============================] - 10s 95ms/step - loss: 4571.8467 - mae: 41.8217 - val_loss: 4876.5054 - val_mae: 43.6957\n",
            "Epoch 10/35\n",
            "105/105 [==============================] - 10s 95ms/step - loss: 4553.8672 - mae: 41.7205 - val_loss: 4871.0361 - val_mae: 43.8932\n",
            "Epoch 11/35\n",
            "105/105 [==============================] - 9s 88ms/step - loss: 4541.1401 - mae: 41.6453 - val_loss: 4863.3252 - val_mae: 43.7282\n",
            "Epoch 12/35\n",
            "105/105 [==============================] - 10s 95ms/step - loss: 4541.6665 - mae: 41.6007 - val_loss: 4890.7139 - val_mae: 43.0467\n",
            "Epoch 13/35\n",
            "105/105 [==============================] - 10s 95ms/step - loss: 4537.9146 - mae: 41.6366 - val_loss: 4861.5874 - val_mae: 43.5416\n",
            "Epoch 14/35\n",
            "105/105 [==============================] - 10s 95ms/step - loss: 4529.0161 - mae: 41.6664 - val_loss: 4856.4653 - val_mae: 43.3078\n",
            "Epoch 15/35\n",
            "105/105 [==============================] - 10s 95ms/step - loss: 4530.5562 - mae: 41.5760 - val_loss: 4854.8071 - val_mae: 43.4261\n",
            "Epoch 16/35\n",
            "105/105 [==============================] - 9s 89ms/step - loss: 4522.5137 - mae: 41.5534 - val_loss: 4858.3213 - val_mae: 43.1198\n",
            "Epoch 17/35\n",
            "105/105 [==============================] - 10s 93ms/step - loss: 4522.7080 - mae: 41.4895 - val_loss: 4849.7969 - val_mae: 43.3853\n",
            "Epoch 18/35\n",
            "105/105 [==============================] - 10s 95ms/step - loss: 4515.1860 - mae: 41.5034 - val_loss: 4851.2881 - val_mae: 43.1538\n",
            "Epoch 19/35\n",
            "105/105 [==============================] - 10s 99ms/step - loss: 4507.9385 - mae: 41.5109 - val_loss: 4849.2959 - val_mae: 43.2901\n",
            "Epoch 20/35\n",
            "105/105 [==============================] - 10s 95ms/step - loss: 4519.3745 - mae: 41.5186 - val_loss: 4849.4785 - val_mae: 43.3168\n",
            "Epoch 21/35\n",
            "105/105 [==============================] - 10s 95ms/step - loss: 4513.3374 - mae: 41.4655 - val_loss: 4848.6763 - val_mae: 43.4837\n",
            "Epoch 22/35\n",
            "105/105 [==============================] - 9s 88ms/step - loss: 4514.9824 - mae: 41.4494 - val_loss: 4850.8013 - val_mae: 43.4025\n",
            "Epoch 23/35\n",
            "105/105 [==============================] - 10s 95ms/step - loss: 4512.4404 - mae: 41.4410 - val_loss: 4848.9351 - val_mae: 43.4022\n",
            "Epoch 24/35\n",
            "105/105 [==============================] - 10s 95ms/step - loss: 4511.4790 - mae: 41.4618 - val_loss: 4849.5752 - val_mae: 43.0054\n",
            "Epoch 25/35\n",
            "105/105 [==============================] - 10s 94ms/step - loss: 4502.9980 - mae: 41.3798 - val_loss: 4840.9951 - val_mae: 43.1726\n",
            "Epoch 26/35\n",
            "105/105 [==============================] - 10s 95ms/step - loss: 4500.1387 - mae: 41.4261 - val_loss: 4844.5439 - val_mae: 43.3984\n",
            "Epoch 27/35\n",
            "105/105 [==============================] - 9s 89ms/step - loss: 4498.7959 - mae: 41.4311 - val_loss: 4847.4688 - val_mae: 43.3306\n",
            "Epoch 28/35\n",
            "105/105 [==============================] - 10s 93ms/step - loss: 4505.3970 - mae: 41.4543 - val_loss: 4848.7529 - val_mae: 43.2573\n",
            "Epoch 29/35\n",
            "105/105 [==============================] - 10s 95ms/step - loss: 4499.1904 - mae: 41.3819 - val_loss: 4846.2275 - val_mae: 43.1733\n",
            "Epoch 30/35\n",
            "105/105 [==============================] - 10s 95ms/step - loss: 4496.7925 - mae: 41.3921 - val_loss: 4839.7207 - val_mae: 43.3285\n",
            "Epoch 31/35\n",
            "105/105 [==============================] - 10s 95ms/step - loss: 4492.8315 - mae: 41.2928 - val_loss: 4843.7803 - val_mae: 43.0676\n",
            "Epoch 32/35\n",
            "105/105 [==============================] - 10s 96ms/step - loss: 4485.5400 - mae: 41.3667 - val_loss: 4832.9331 - val_mae: 43.3813\n",
            "Epoch 33/35\n",
            "105/105 [==============================] - 9s 88ms/step - loss: 4491.0068 - mae: 41.3839 - val_loss: 4843.2109 - val_mae: 43.1781\n",
            "Epoch 34/35\n",
            "105/105 [==============================] - 10s 96ms/step - loss: 4485.0283 - mae: 41.3346 - val_loss: 4835.3032 - val_mae: 43.0773\n",
            "Epoch 35/35\n",
            "105/105 [==============================] - 10s 94ms/step - loss: 4489.7617 - mae: 41.2807 - val_loss: 4833.4443 - val_mae: 43.4975\n"
          ]
        },
        {
          "output_type": "display_data",
          "data": {
            "text/plain": [
              "<Figure size 432x288 with 1 Axes>"
            ],
            "image/png": "[encoded data removed]"
          },
          "metadata": {
            "needs_background": "light"
          }
        }
      ]
    },
    {
      "cell_type": "code",
      "source": [
        "# Вариант №6 Добавлен дополнительный слой.\n",
        "\n",
        "model = Sequential()\n",
        "model.add(BatchNormalization(input_dim = x_train_01.shape[1]))\n",
        "model.add(Dense(128, activation = 'relu'))\n",
        "model.add(Dropout(0.25))\n",
        "model.add(Dense(4096, activation = 'relu'))\n",
        "model.add(BatchNormalization())\n",
        "model.add(Dense(512, activation = 'relu'))\n",
        "model.add(Dense(32, activation = 'relu'))\n",
        "model.add(Dense(1, activation = 'linear'))\n",
        "\n",
        "model.compile(optimizer = Adam(learning_rate=0.0001), loss = 'mse', metrics = ['mae'])\n",
        "hist = model.fit(x_train_01, y_train, epochs=35, batch_size = 512, validation_split = 0.15, verbose = 1)\n",
        "plot_history(hist)"
      ],
      "metadata": {
        "colab": {
          "base_uri": "https://localhost:8080/",
          "height": 1000
        },
        "id": "jxz04h408H04",
        "outputId": "de08aa72-cf65-404d-a223-d6eca1e03705"
      },
      "execution_count": 33,
      "outputs": [
        {
          "output_type": "stream",
          "name": "stdout",
          "text": [
            "Epoch 1/35\n",
            "105/105 [==============================] - 23s 206ms/step - loss: 6891.1157 - mae: 52.8458 - val_loss: 10842.5322 - val_mae: 73.7731\n",
            "Epoch 2/35\n",
            "105/105 [==============================] - 21s 204ms/step - loss: 4649.3501 - mae: 42.2439 - val_loss: 9039.1592 - val_mae: 62.2927\n",
            "Epoch 3/35\n",
            "105/105 [==============================] - 22s 213ms/step - loss: 4583.9863 - mae: 41.8694 - val_loss: 7303.9058 - val_mae: 50.5034\n",
            "Epoch 4/35\n",
            "105/105 [==============================] - 26s 247ms/step - loss: 4568.6558 - mae: 41.7672 - val_loss: 5825.2100 - val_mae: 42.6291\n",
            "Epoch 5/35\n",
            "105/105 [==============================] - 21s 202ms/step - loss: 4546.4790 - mae: 41.7276 - val_loss: 5124.7134 - val_mae: 41.4727\n",
            "Epoch 6/35\n",
            "105/105 [==============================] - 21s 201ms/step - loss: 4541.1108 - mae: 41.6632 - val_loss: 4896.4800 - val_mae: 42.8614\n",
            "Epoch 7/35\n",
            "105/105 [==============================] - 21s 205ms/step - loss: 4534.4443 - mae: 41.5904 - val_loss: 4858.9780 - val_mae: 43.8811\n",
            "Epoch 8/35\n",
            "105/105 [==============================] - 22s 206ms/step - loss: 4529.6406 - mae: 41.5960 - val_loss: 4874.9478 - val_mae: 44.7829\n",
            "Epoch 9/35\n",
            "105/105 [==============================] - 22s 205ms/step - loss: 4523.0386 - mae: 41.5633 - val_loss: 4870.3325 - val_mae: 44.9167\n",
            "Epoch 10/35\n",
            "105/105 [==============================] - 24s 226ms/step - loss: 4509.2026 - mae: 41.5674 - val_loss: 4864.7861 - val_mae: 44.2939\n",
            "Epoch 11/35\n",
            "105/105 [==============================] - 25s 242ms/step - loss: 4522.5244 - mae: 41.5343 - val_loss: 4864.2402 - val_mae: 44.5573\n",
            "Epoch 12/35\n",
            "105/105 [==============================] - 24s 229ms/step - loss: 4510.7485 - mae: 41.3939 - val_loss: 4867.9844 - val_mae: 44.8255\n",
            "Epoch 13/35\n",
            "105/105 [==============================] - 21s 199ms/step - loss: 4503.9355 - mae: 41.4559 - val_loss: 4869.5303 - val_mae: 44.3720\n",
            "Epoch 14/35\n",
            "105/105 [==============================] - 22s 206ms/step - loss: 4507.5635 - mae: 41.4408 - val_loss: 4857.2153 - val_mae: 44.4663\n",
            "Epoch 15/35\n",
            "105/105 [==============================] - 22s 208ms/step - loss: 4498.1167 - mae: 41.4402 - val_loss: 4853.8081 - val_mae: 44.1460\n",
            "Epoch 16/35\n",
            "105/105 [==============================] - 22s 214ms/step - loss: 4498.6128 - mae: 41.3381 - val_loss: 4862.1670 - val_mae: 44.7227\n",
            "Epoch 17/35\n",
            "105/105 [==============================] - 22s 208ms/step - loss: 4493.6694 - mae: 41.3922 - val_loss: 4856.7769 - val_mae: 44.8541\n",
            "Epoch 18/35\n",
            "105/105 [==============================] - 22s 207ms/step - loss: 4488.5151 - mae: 41.3204 - val_loss: 4858.9819 - val_mae: 44.7430\n",
            "Epoch 19/35\n",
            "105/105 [==============================] - 22s 205ms/step - loss: 4486.0913 - mae: 41.3546 - val_loss: 4867.5391 - val_mae: 45.1661\n",
            "Epoch 20/35\n",
            "105/105 [==============================] - 22s 206ms/step - loss: 4483.1577 - mae: 41.3279 - val_loss: 4865.1982 - val_mae: 45.0768\n",
            "Epoch 21/35\n",
            "105/105 [==============================] - 22s 207ms/step - loss: 4477.5527 - mae: 41.2543 - val_loss: 4853.6338 - val_mae: 44.3624\n",
            "Epoch 22/35\n",
            "105/105 [==============================] - 21s 204ms/step - loss: 4483.8057 - mae: 41.3296 - val_loss: 4844.2803 - val_mae: 44.3747\n",
            "Epoch 23/35\n",
            "105/105 [==============================] - 21s 200ms/step - loss: 4471.1436 - mae: 41.2578 - val_loss: 4848.7061 - val_mae: 44.6147\n",
            "Epoch 24/35\n",
            "105/105 [==============================] - 22s 207ms/step - loss: 4485.8452 - mae: 41.2268 - val_loss: 4846.8579 - val_mae: 44.2248\n",
            "Epoch 25/35\n",
            "105/105 [==============================] - 22s 207ms/step - loss: 4468.7368 - mae: 41.2360 - val_loss: 4850.5273 - val_mae: 44.4794\n",
            "Epoch 26/35\n",
            "105/105 [==============================] - 22s 207ms/step - loss: 4467.5674 - mae: 41.2397 - val_loss: 4832.4478 - val_mae: 44.3376\n",
            "Epoch 27/35\n",
            "105/105 [==============================] - 21s 200ms/step - loss: 4476.6455 - mae: 41.2123 - val_loss: 4843.5015 - val_mae: 44.3164\n",
            "Epoch 28/35\n",
            "105/105 [==============================] - 22s 207ms/step - loss: 4466.6543 - mae: 41.2505 - val_loss: 4846.6685 - val_mae: 44.5534\n",
            "Epoch 29/35\n",
            "105/105 [==============================] - 22s 208ms/step - loss: 4467.3857 - mae: 41.1975 - val_loss: 4847.9561 - val_mae: 44.4963\n",
            "Epoch 30/35\n",
            "105/105 [==============================] - 22s 207ms/step - loss: 4472.2349 - mae: 41.2267 - val_loss: 4837.1045 - val_mae: 44.2357\n",
            "Epoch 31/35\n",
            "105/105 [==============================] - 22s 207ms/step - loss: 4470.9839 - mae: 41.2314 - val_loss: 4837.5137 - val_mae: 44.1509\n",
            "Epoch 32/35\n",
            "105/105 [==============================] - 21s 200ms/step - loss: 4466.4028 - mae: 41.1914 - val_loss: 4848.4868 - val_mae: 44.7155\n",
            "Epoch 33/35\n",
            "105/105 [==============================] - 22s 206ms/step - loss: 4462.4165 - mae: 41.1985 - val_loss: 4844.5977 - val_mae: 44.2525\n",
            "Epoch 34/35\n",
            "105/105 [==============================] - 22s 206ms/step - loss: 4459.8872 - mae: 41.1851 - val_loss: 4839.2788 - val_mae: 44.2422\n",
            "Epoch 35/35\n",
            "105/105 [==============================] - 22s 207ms/step - loss: 4460.1562 - mae: 41.1873 - val_loss: 4839.4229 - val_mae: 43.9586\n"
          ]
        },
        {
          "output_type": "display_data",
          "data": {
            "text/plain": [
              "<Figure size 432x288 with 1 Axes>"
            ],
            "image/png": "[encoded data removed]"
          },
          "metadata": {
            "needs_background": "light"
          }
        }
      ]
    },
    {
      "cell_type": "markdown",
      "source": [
        "Вывод: Изменение доступных в задании параметров на результат практически не влияет."
      ],
      "metadata": {
        "id": "9aLHSP4JBm1h"
      }
    }
  ]
}