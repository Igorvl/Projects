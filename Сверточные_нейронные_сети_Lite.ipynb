{
  "nbformat": 4,
  "nbformat_minor": 0,
  "metadata": {
    "colab": {
      "provenance": []
    },
    "kernelspec": {
      "name": "python3",
      "display_name": "Python 3"
    },
    "language_info": {
      "name": "python"
    },
    "accelerator": "GPU",
    "gpuClass": "standard"
  },
  "cells": [
    {
      "cell_type": "markdown",
      "metadata": {
        "id": "d_qXycKuUA51"
      },
      "source": [
        "### Задание"
      ]
    },
    {
      "cell_type": "markdown",
      "metadata": {
        "id": "PIUdD6H0FBGC"
      },
      "source": [
        "Создайте нейронную сеть, распознающую рукописные цифры. Используя подготовленную базу и шаблон ноутбука, нормируйте данные, создайте и обучите сверточную сеть.\n",
        "\n",
        "**Параметры модели:** сеть должна содержать минимум 2 сверточных слоя; полносвязные слои; слои подвыборки, нормализации, регуляризации по 1 шт.\n",
        "\n",
        "**Гиперпараметры обучения:** функция ошибки - категориальная кроссэнтропия, оптимизатор - Adam с шагом обучения одна тысячная, размер батча - 128, количество эпох 15, детали обучения - отображать.\n",
        "\n",
        "**В конце** выведите график обучения: доли верных ответов на обучающей и проверочной выборках.\n"
      ]
    },
    {
      "cell_type": "code",
      "metadata": {
        "id": "MKXGv21tHGLr",
        "colab": {
          "base_uri": "https://localhost:8080/"
        },
        "outputId": "b4af19cd-a756-49c2-e8c8-2b0c9a29b31c"
      },
      "source": [
        "# загрузка датасета MNIST\n",
        "\n",
        "from tensorflow.keras.datasets import mnist \n",
        "(x_train, y_train), (x_test, y_test) = mnist.load_data() "
      ],
      "execution_count": 1,
      "outputs": [
        {
          "output_type": "stream",
          "name": "stdout",
          "text": [
            "Downloading data from https://storage.googleapis.com/tensorflow/tf-keras-datasets/mnist.npz\n",
            "11490434/11490434 [==============================] - 1s 0us/step\n"
          ]
        }
      ]
    },
    {
      "cell_type": "code",
      "source": [
        "x_train.shape"
      ],
      "metadata": {
        "colab": {
          "base_uri": "https://localhost:8080/"
        },
        "id": "AcBEuVWasqAo",
        "outputId": "3a87fd91-70eb-4e95-84bf-aa89073b10f1"
      },
      "execution_count": 2,
      "outputs": [
        {
          "output_type": "execute_result",
          "data": {
            "text/plain": [
              "(60000, 28, 28)"
            ]
          },
          "metadata": {},
          "execution_count": 2
        }
      ]
    },
    {
      "cell_type": "code",
      "metadata": {
        "id": "2zDFM0apy8-R"
      },
      "source": [
        "# Подключение утилит для to_categorical\n",
        "from tensorflow.keras import utils \n",
        "\n",
        "# Подключение библиотеки для работы с массивами\n",
        "import numpy as np \n",
        "\n",
        "# Подключение библиотек для отрисовки изображений\n",
        "import matplotlib.pyplot as plt \n",
        "\n",
        "# Подключение библиотеки для генерации случайных чисел\n",
        "import random\n",
        "\n",
        "# Подключение класса для работы с изображением\n",
        "from PIL import Image\n",
        "\n",
        "# Вывод изображения в ноутбуке, а не в консоли или файле\n",
        "%matplotlib inline "
      ],
      "execution_count": 2,
      "outputs": []
    },
    {
      "cell_type": "code",
      "metadata": {
        "colab": {
          "base_uri": "https://localhost:8080/",
          "height": 136
        },
        "id": "m3975_TeIOCl",
        "outputId": "07499e71-be13-4045-ce69-5d53d358f6e9"
      },
      "source": [
        "# вывод изображений каждого класса для ознакомления с датасетом\n",
        "\n",
        "fig, axs = plt.subplots(1, 10, figsize=(25,3)) # создаем полотно для 10 графиков с размером 25 на 3\n",
        "for i in range(10):\n",
        "  label_indexes = np.where(y_train == i)[0] # получаем список из индексов положений класса i в y_train\n",
        "  index = random.choice(label_indexes) # выбирает случайный индекс из списка созданного выше\n",
        "  img = x_train[index] # выбираем из x_train нужное положение\n",
        "  axs[i].imshow(Image.fromarray(img), cmap='gray') # выводим изображение\n",
        "\n",
        "plt.show()  "
      ],
      "execution_count": 3,
      "outputs": [
        {
          "output_type": "display_data",
          "data": {
            "text/plain": [
              "<Figure size 1800x216 with 10 Axes>"
            ],
            "image/png": "[encoded data removed]"
          },
          "metadata": {
            "needs_background": "light"
          }
        }
      ]
    },
    {
      "cell_type": "code",
      "metadata": {
        "colab": {
          "base_uri": "https://localhost:8080/"
        },
        "id": "pEZFm-i_InWB",
        "outputId": "b8e07c41-737d-4540-c815-8b8ba40fbb65"
      },
      "source": [
        "# добавляем размерность массиву mnist, чтобы сеть поняла что это чб\n",
        "x_train = x_train.reshape(x_train.shape[0], x_train.shape[1], x_train.shape[2], 1)\n",
        "x_test = x_test.reshape(x_test.shape[0], x_test.shape[1], x_test.shape[2], 1)\n",
        "\n",
        "# преобразуем выборки с ответами в OHE\n",
        "y_train = utils.to_categorical(y_train, 10)\n",
        "y_test = utils.to_categorical(y_test, 10)\n",
        "\n",
        "# посмотрим форматы выборок перед обучением\n",
        "print('x_train:', x_train.shape)\n",
        "print('x_test:', x_test.shape)\n",
        "print()\n",
        "print('y_train:', y_train.shape)\n",
        "print('y_test:', y_test.shape)"
      ],
      "execution_count": 4,
      "outputs": [
        {
          "output_type": "stream",
          "name": "stdout",
          "text": [
            "x_train: (60000, 28, 28, 1)\n",
            "x_test: (10000, 28, 28, 1)\n",
            "\n",
            "y_train: (60000, 10)\n",
            "y_test: (10000, 10)\n"
          ]
        }
      ]
    },
    {
      "cell_type": "code",
      "metadata": {
        "id": "orhn9spbj4I6"
      },
      "source": [
        "# Ваше решение"
      ],
      "execution_count": null,
      "outputs": []
    },
    {
      "cell_type": "code",
      "source": [
        "from tensorflow.keras.models import Sequential\n",
        "from tensorflow.keras.layers import Conv2D, Dense, BatchNormalization, Dropout, Flatten, MaxPooling2D\n",
        "from tensorflow.keras.optimizers import Adam\n",
        "\n",
        "x_train = x_train.astype('float')/255\n",
        "x_test = x_test.astype('float')/255\n",
        "\n",
        "model = Sequential()\n",
        "model.add(Conv2D(256,(3,3), padding='same', activation='relu', input_shape = (28, 28, 1)))\n",
        "model.add(BatchNormalization())\n",
        "model.add(Conv2D(256, (3,3), padding='same', activation='relu'))\n",
        "model.add(MaxPooling2D(pool_size=(3, 3)))\n",
        "model.add(Conv2D(512, (3,3), padding='same', activation='relu'))\n",
        "model.add(Dropout(0.2))\n",
        "model.add(Flatten())\n",
        "model.add(Dense(10, activation='softmax'))\n",
        "\n",
        "model.summary()\n",
        "\n",
        "model.compile(loss='categorical_crossentropy', optimizer=Adam(learning_rate=0.001), metrics=['accuracy'])\n",
        "hist = model.fit(x_train,y_train, validation_split=0.2, shuffle=True, batch_size=128, epochs=15, verbose=1)"
      ],
      "metadata": {
        "id": "n3ataXqlDc6X",
        "colab": {
          "base_uri": "https://localhost:8080/"
        },
        "outputId": "df5abc33-4a59-4759-d697-c8a801af1c43"
      },
      "execution_count": 22,
      "outputs": [
        {
          "output_type": "stream",
          "name": "stdout",
          "text": [
            "Model: \"sequential_1\"\n",
            "_________________________________________________________________\n",
            " Layer (type)                Output Shape              Param #   \n",
            "=================================================================\n",
            " conv2d_2 (Conv2D)           (None, 28, 28, 256)       2560      \n",
            "                                                                 \n",
            " batch_normalization_1 (Batc  (None, 28, 28, 256)      1024      \n",
            " hNormalization)                                                 \n",
            "                                                                 \n",
            " conv2d_3 (Conv2D)           (None, 28, 28, 256)       590080    \n",
            "                                                                 \n",
            " max_pooling2d_1 (MaxPooling  (None, 9, 9, 256)        0         \n",
            " 2D)                                                             \n",
            "                                                                 \n",
            " conv2d_4 (Conv2D)           (None, 9, 9, 512)         1180160   \n",
            "                                                                 \n",
            " dropout_1 (Dropout)         (None, 9, 9, 512)         0         \n",
            "                                                                 \n",
            " flatten_1 (Flatten)         (None, 41472)             0         \n",
            "                                                                 \n",
            " dense_1 (Dense)             (None, 10)                414730    \n",
            "                                                                 \n",
            "=================================================================\n",
            "Total params: 2,188,554\n",
            "Trainable params: 2,188,042\n",
            "Non-trainable params: 512\n",
            "_________________________________________________________________\n",
            "Epoch 1/15\n",
            "375/375 [==============================] - 26s 68ms/step - loss: 0.1933 - accuracy: 0.9403 - val_loss: 1.4213 - val_accuracy: 0.9623\n",
            "Epoch 2/15\n",
            "375/375 [==============================] - 25s 68ms/step - loss: 0.0494 - accuracy: 0.9844 - val_loss: 0.1235 - val_accuracy: 0.9780\n",
            "Epoch 3/15\n",
            "375/375 [==============================] - 25s 66ms/step - loss: 0.0356 - accuracy: 0.9887 - val_loss: 0.0415 - val_accuracy: 0.9883\n",
            "Epoch 4/15\n",
            "375/375 [==============================] - 25s 66ms/step - loss: 0.0264 - accuracy: 0.9917 - val_loss: 0.0387 - val_accuracy: 0.9896\n",
            "Epoch 5/15\n",
            "375/375 [==============================] - 25s 66ms/step - loss: 0.0206 - accuracy: 0.9931 - val_loss: 0.0430 - val_accuracy: 0.9883\n",
            "Epoch 6/15\n",
            "375/375 [==============================] - 25s 67ms/step - loss: 0.0155 - accuracy: 0.9950 - val_loss: 0.0379 - val_accuracy: 0.9898\n",
            "Epoch 7/15\n",
            "375/375 [==============================] - 25s 67ms/step - loss: 0.0140 - accuracy: 0.9956 - val_loss: 0.0387 - val_accuracy: 0.9895\n",
            "Epoch 8/15\n",
            "375/375 [==============================] - 25s 67ms/step - loss: 0.0159 - accuracy: 0.9947 - val_loss: 0.0513 - val_accuracy: 0.9880\n",
            "Epoch 9/15\n",
            "375/375 [==============================] - 25s 68ms/step - loss: 0.0119 - accuracy: 0.9958 - val_loss: 0.0421 - val_accuracy: 0.9899\n",
            "Epoch 10/15\n",
            "375/375 [==============================] - 25s 68ms/step - loss: 0.0124 - accuracy: 0.9959 - val_loss: 0.0368 - val_accuracy: 0.9908\n",
            "Epoch 11/15\n",
            "375/375 [==============================] - 26s 69ms/step - loss: 0.0087 - accuracy: 0.9972 - val_loss: 0.0403 - val_accuracy: 0.9917\n",
            "Epoch 12/15\n",
            "375/375 [==============================] - 26s 68ms/step - loss: 0.0083 - accuracy: 0.9973 - val_loss: 0.0397 - val_accuracy: 0.9907\n",
            "Epoch 13/15\n",
            "375/375 [==============================] - 26s 68ms/step - loss: 0.0054 - accuracy: 0.9984 - val_loss: 0.0510 - val_accuracy: 0.9912\n",
            "Epoch 14/15\n",
            "375/375 [==============================] - 26s 68ms/step - loss: 0.0094 - accuracy: 0.9971 - val_loss: 0.0472 - val_accuracy: 0.9898\n",
            "Epoch 15/15\n",
            "375/375 [==============================] - 26s 68ms/step - loss: 0.0058 - accuracy: 0.9983 - val_loss: 0.0505 - val_accuracy: 0.9908\n"
          ]
        }
      ]
    },
    {
      "cell_type": "code",
      "source": [],
      "metadata": {
        "id": "3f9IRvwbgUgq"
      },
      "execution_count": null,
      "outputs": []
    },
    {
      "cell_type": "code",
      "source": [
        "evalHist = model.evaluate(x_test, y_test, verbose=1)"
      ],
      "metadata": {
        "colab": {
          "base_uri": "https://localhost:8080/"
        },
        "id": "_1tBrKv_joat",
        "outputId": "276e2dae-416a-4bae-e664-44ebd4812e3e"
      },
      "execution_count": 23,
      "outputs": [
        {
          "output_type": "stream",
          "name": "stdout",
          "text": [
            "313/313 [==============================] - 3s 8ms/step - loss: 0.0513 - accuracy: 0.9915\n"
          ]
        }
      ]
    },
    {
      "cell_type": "code",
      "source": [
        "plt.figure(1, figsize=(15,5))\n",
        "plt.subplot(1,2,1)\n",
        "plt.plot(hist.history['accuracy'], label='Правильные ответы на обучении')\n",
        "plt.plot(hist.history['val_accuracy'], label='Правильные ответы на проверке')\n",
        "plt.legend()\n",
        "\n",
        "plt.subplot(1,2,2)\n",
        "plt.plot(hist.history['loss'], label='Ошибка на обучении')\n",
        "plt.plot(hist.history['val_loss'], label='Ошибка на проверке')\n",
        "plt.legend()\n"
      ],
      "metadata": {
        "colab": {
          "base_uri": "https://localhost:8080/",
          "height": 358
        },
        "id": "LTa0DaO2lRiD",
        "outputId": "c9806fa6-61cb-4faf-f859-b63864514859"
      },
      "execution_count": 26,
      "outputs": [
        {
          "output_type": "execute_result",
          "data": {
            "text/plain": [
              "<matplotlib.legend.Legend at 0x7f8654ba4760>"
            ]
          },
          "metadata": {},
          "execution_count": 26
        },
        {
          "output_type": "display_data",
          "data": {
            "text/plain": [
              "<Figure size 1080x360 with 2 Axes>"
            ],
            "image/png": "[encoded data removed]"
          },
          "metadata": {
            "needs_background": "light"
          }
        }
      ]
    }
  ]
}